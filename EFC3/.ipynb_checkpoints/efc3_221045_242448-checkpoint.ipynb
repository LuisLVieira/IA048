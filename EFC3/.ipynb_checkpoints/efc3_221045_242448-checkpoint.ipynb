{
 "cells": [
  {
   "cell_type": "markdown",
   "id": "acf1e2f6",
   "metadata": {},
   "source": [
    "# IA048A - EFC 03: Redes Neurais Artificiais\n",
    "\n",
    "### Luís Antônio Almeida Lima Vieira (221045)  &  Nathan Shen Baldon (242448)"
   ]
  },
  {
   "cell_type": "code",
   "execution_count": 1,
   "id": "38dc2f8e",
   "metadata": {},
   "outputs": [
    {
     "ename": "NameError",
     "evalue": "name 'random' is not defined",
     "output_type": "error",
     "traceback": [
      "\u001b[1;31m---------------------------------------------------------------------------\u001b[0m",
      "\u001b[1;31mNameError\u001b[0m                                 Traceback (most recent call last)",
      "Cell \u001b[1;32mIn [1], line 26\u001b[0m\n\u001b[0;32m     24\u001b[0m SEED \u001b[38;5;241m=\u001b[39m \u001b[38;5;241m1984\u001b[39m\n\u001b[0;32m     25\u001b[0m np\u001b[38;5;241m.\u001b[39mrandom\u001b[38;5;241m.\u001b[39mseed(SEED)\n\u001b[1;32m---> 26\u001b[0m \u001b[43mrandom\u001b[49m\u001b[38;5;241m.\u001b[39mseed(SEED)\n\u001b[0;32m     27\u001b[0m tf\u001b[38;5;241m.\u001b[39mrandom\u001b[38;5;241m.\u001b[39mset_seed(SEED)\n\u001b[0;32m     28\u001b[0m tf\u001b[38;5;241m.\u001b[39mkeras\u001b[38;5;241m.\u001b[39mutils\u001b[38;5;241m.\u001b[39mset_random_seed(SEED)\n",
      "\u001b[1;31mNameError\u001b[0m: name 'random' is not defined"
     ]
    }
   ],
   "source": [
    "# É necessário antes de tudo instalar a biblioteca medmnist\n",
    "\n",
    "# Importações necessárias\n",
    "import sklearn\n",
    "import numpy as np\n",
    "import matplotlib as mpl\n",
    "from matplotlib import pyplot as plt\n",
    "import matplotlib.image as mpimg\n",
    "import os \n",
    "from tqdm import tqdm\n",
    "import medmnist\n",
    "from medmnist import INFO, Evaluator\n",
    "from sklearn.linear_model import LogisticRegression\n",
    "from sklearn.model_selection import GridSearchCV\n",
    "from sklearn import metrics\n",
    "from sklearn.metrics import confusion_matrix\n",
    "import tensorflow as tf\n",
    "from tensorflow import keras\n",
    "from keras_tuner import RandomSearch\n",
    "from keras_tuner.engine.hyperparameters import HyperParameters\n",
    "\n",
    "# to make this notebook's output stable across runs\n",
    "#np.random.seed(42) # indica onde escolha aleatória começa\n",
    "SEED = 1984\n",
    "np.random.seed(SEED)\n",
    "tf.random.set_seed(SEED)\n",
    "tf.keras.utils.set_random_seed(SEED)\n",
    "os.environ['PYTHONHASHSEED'] = str(SEED)\n",
    "tf.config.experimental.enable_op_determinism()\n",
    "\n",
    "# to make pretty figures\n",
    "mpl.rc('axes', labelsize=14)\n",
    "mpl.rc('xtick', labelsize=12)\n",
    "mpl.rc('ytick', labelsize=12)\n",
    "\n",
    "# Where to save the figures\n",
    "PROJECT_ROOT_DIR = \".\"\n",
    "EFC = \"efc3\"\n",
    "IMAGES_PATH = os.path.join(PROJECT_ROOT_DIR, \"images\", EFC)\n",
    "os.makedirs(IMAGES_PATH, exist_ok=True)\n",
    "\n",
    "def save_fig(fig_id, tight_layout=True, fig_extension=\"svg\"):\n",
    "    path = os.path.join(IMAGES_PATH, fig_id + \".\" + fig_extension)\n",
    "    print(\"Saving figure\", fig_id)\n",
    "    if tight_layout:\n",
    "        plt.tight_layout()\n",
    "    plt.savefig(path, format=fig_extension)"
   ]
  },
  {
   "cell_type": "markdown",
   "id": "1e35a347",
   "metadata": {},
   "source": [
    "## Importação da base de dados BloodMNIST\n"
   ]
  },
  {
   "cell_type": "code",
   "execution_count": null,
   "id": "d5d76033",
   "metadata": {},
   "outputs": [],
   "source": [
    "# Importando o dataset bloodmnist\n",
    "data_flag = 'bloodmnist'\n",
    "download = True\n",
    "\n",
    "info = INFO[data_flag]\n",
    "task = info['task']\n",
    "n_channels = info['n_channels']\n",
    "n_classes = len(info['label'])\n",
    "\n",
    "DataClass = getattr(medmnist, info['python_class'])"
   ]
  },
  {
   "cell_type": "code",
   "execution_count": null,
   "id": "8551fa01",
   "metadata": {},
   "outputs": [],
   "source": [
    "# carregando os dados\n",
    "train_dataset = DataClass(split='train', download=download)\n",
    "val_dataset = DataClass(split='val', download=download)\n",
    "test_dataset = DataClass(split='test', download=download)"
   ]
  },
  {
   "cell_type": "code",
   "execution_count": null,
   "id": "410bdfc3",
   "metadata": {
    "scrolled": true
   },
   "outputs": [],
   "source": [
    "info"
   ]
  },
  {
   "cell_type": "code",
   "execution_count": 5,
   "id": "0c021d37",
   "metadata": {},
   "outputs": [],
   "source": [
    "# Separando os labels por conjunto:\n",
    "train_labels = train_dataset.labels\n",
    "val_labels = val_dataset.labels\n",
    "test_labels = test_dataset.labels"
   ]
  },
  {
   "cell_type": "code",
   "execution_count": 6,
   "id": "f0122140",
   "metadata": {},
   "outputs": [],
   "source": [
    "# Separando as imagens por conjunto:\n",
    "train_img = train_dataset.imgs\n",
    "val_img = val_dataset.imgs\n",
    "test_img = test_dataset.imgs"
   ]
  },
  {
   "cell_type": "code",
   "execution_count": 7,
   "id": "596a527a",
   "metadata": {},
   "outputs": [
    {
     "name": "stdout",
     "output_type": "stream",
     "text": [
      "(28, 28, 3)\n"
     ]
    }
   ],
   "source": [
    "print(np.shape(train_img[0]))"
   ]
  },
  {
   "cell_type": "code",
   "execution_count": 8,
   "id": "e159154e",
   "metadata": {},
   "outputs": [
    {
     "name": "stdout",
     "output_type": "stream",
     "text": [
      "Rótulo: [7] (Plaquetas)\n",
      "Saving figure imagem_um\n"
     ]
    },
    {
     "data": {
      "image/png": "[encoded data removed]",
      "text/plain": [
       "<Figure size 640x480 with 1 Axes>"
      ]
     },
     "metadata": {},
     "output_type": "display_data"
    }
   ],
   "source": [
    "# Vizualização da primeira imagem do conjunto de treinamento\n",
    "print(f\"Rótulo: {train_labels[0]} (Plaquetas)\")\n",
    "plt.imshow(train_img[0],cmap=\"gray\")\n",
    "plt.axis(\"off\")\n",
    "save_fig('imagem_um')\n",
    "plt.show()"
   ]
  },
  {
   "cell_type": "code",
   "execution_count": 9,
   "id": "8e7b777c",
   "metadata": {},
   "outputs": [
    {
     "name": "stderr",
     "output_type": "stream",
     "text": [
      "c:\\users\\luis\\appdata\\local\\programs\\python\\python38\\lib\\site-packages\\matplotlib\\text.py:1223: FutureWarning: elementwise comparison failed; returning scalar instead, but in the future will perform elementwise comparison\n",
      "  if s != self._text:\n"
     ]
    },
    {
     "data": {
      "image/png": "[encoded data removed]",
      "text/plain": [
       "<Figure size 1200x600 with 10 Axes>"
      ]
     },
     "metadata": {},
     "output_type": "display_data"
    }
   ],
   "source": [
    "# Vizualização das 10 primeiras imagens do conjunto de treinamento com seus respectivos labels\n",
    "fig, axs = plt.subplots(2, 5, sharey=False, tight_layout=True, figsize=(12,6), facecolor='white')\n",
    "n=0\n",
    "for i in range(0,2):\n",
    "    for j in range(0,5):\n",
    "        axs[i,j].matshow(train_img[n])\n",
    "        axs[i,j].set(title=train_labels[n])\n",
    "        n=n+1\n",
    "plt.show()"
   ]
  },
  {
   "cell_type": "markdown",
   "id": "c6615f17",
   "metadata": {},
   "source": [
    "### Classes do conjunto"
   ]
  },
  {
   "cell_type": "markdown",
   "id": "de242acc",
   "metadata": {},
   "source": [
    "\n",
    " Id | Rótulo                       |\n",
    "--- |:--------------------------------:|\n",
    "0  | Basófilos   |\n",
    "1  | Eosinófilos |\n",
    "2  | Eritroblastos   |\n",
    "3  | Granulócitos imaturos   |\n",
    "4  | Linfócitos   |\n",
    "5  | Monócitos   |\n",
    "6  | Neutrófilos   |\n",
    "7  | Plaquetas   |\n"
   ]
  },
  {
   "cell_type": "markdown",
   "id": "58d115f6",
   "metadata": {},
   "source": [
    "## Avaliação do conjunto de dados\n"
   ]
  },
  {
   "cell_type": "code",
   "execution_count": 10,
   "id": "47f9a965",
   "metadata": {},
   "outputs": [
    {
     "name": "stdout",
     "output_type": "stream",
     "text": [
      "No conjunto de treinamento há 852 Basófilos\n",
      "Porcentagem de classes 0: 7.124341500125428 %\n",
      "No conjunto de treinamento há 2181 Eosinófilos\n",
      "Porcentagem de classes 1: 18.237310811940798 %\n",
      "No conjunto de treinamento há 1085 Eritroblastos\n",
      "Porcentagem de classes 2: 9.072664938540012 %\n",
      "No conjunto de treinamento há 2026 Granulócitos imaturos\n",
      "Porcentagem de classes 3: 16.941215820720796 %\n",
      "No conjunto de treinamento há 849 Linfócitos\n",
      "Porcentagem de classes 4: 7.099255790617945 %\n",
      "No conjunto de treinamento há 993 Monócitos\n",
      "Porcentagem de classes 5: 8.303369846977173 %\n",
      "No conjunto de treinamento há 2330 Neutrófilos\n",
      "Porcentagem de classes 6: 19.48323438414583 %\n",
      "No conjunto de treinamento há 1643 Plaquetas\n",
      "Porcentagem de classes 7: 13.738606906932018 %\n"
     ]
    }
   ],
   "source": [
    "# Balanceamento do conjunto de treinamento\n",
    "num_basofilos_t = (train_labels==0).sum()\n",
    "num_eosinofilos_t = (train_labels==1).sum()\n",
    "num_eritroblastos_t = (train_labels==2).sum()\n",
    "num_granulocitos_t = (train_labels==3).sum()\n",
    "num_linfocitos_t = (train_labels==4).sum()\n",
    "num_monocitos_t = (train_labels==5).sum()\n",
    "num_neutrofilos_t = (train_labels==6).sum()\n",
    "num_plaquetas_t = (train_labels==7).sum()\n",
    "p_basofilos_t = num_basofilos_t*100/len(train_labels)\n",
    "p_eosinofilos_t = num_eosinofilos_t*100/len(train_labels)\n",
    "p_eritroblastos_t = num_eritroblastos_t*100/len(train_labels)\n",
    "p_granulocitos_t = num_granulocitos_t*100/len(train_labels)\n",
    "p_linfocitos_t = num_linfocitos_t*100/len(train_labels)\n",
    "p_monocitos_t = num_monocitos_t*100/len(train_labels)\n",
    "p_neutrofilos_t = num_neutrofilos_t*100/len(train_labels)\n",
    "p_plaquetas_t = num_plaquetas_t*100/len(train_labels)\n",
    "print(\"No conjunto de treinamento há\",num_basofilos_t, \"Basófilos\")\n",
    "print(\"Porcentagem de classes 0:\",p_basofilos_t ,\"%\")\n",
    "print(\"No conjunto de treinamento há\",num_eosinofilos_t, \"Eosinófilos\")\n",
    "print(\"Porcentagem de classes 1:\",p_eosinofilos_t,\"%\")\n",
    "print(\"No conjunto de treinamento há\",num_eritroblastos_t, \"Eritroblastos\")\n",
    "print(\"Porcentagem de classes 2:\",p_eritroblastos_t,\"%\")\n",
    "print(\"No conjunto de treinamento há\",num_granulocitos_t, \"Granulócitos imaturos\")\n",
    "print(\"Porcentagem de classes 3:\",p_granulocitos_t,\"%\")\n",
    "print(\"No conjunto de treinamento há\",num_linfocitos_t, \"Linfócitos\")\n",
    "print(\"Porcentagem de classes 4:\",p_linfocitos_t,\"%\")\n",
    "print(\"No conjunto de treinamento há\",num_monocitos_t, \"Monócitos\")\n",
    "print(\"Porcentagem de classes 5:\",p_monocitos_t,\"%\")\n",
    "print(\"No conjunto de treinamento há\",num_neutrofilos_t, \"Neutrófilos\")\n",
    "print(\"Porcentagem de classes 6:\",p_neutrofilos_t,\"%\")\n",
    "print(\"No conjunto de treinamento há\",num_plaquetas_t, \"Plaquetas\")\n",
    "print(\"Porcentagem de classes 7:\",p_plaquetas_t,\"%\")"
   ]
  },
  {
   "cell_type": "code",
   "execution_count": 11,
   "id": "b38c7238",
   "metadata": {},
   "outputs": [
    {
     "name": "stdout",
     "output_type": "stream",
     "text": [
      "No conjunto de validação há 122 Basófilos\n",
      "Porcentagem de classes 0: 7.126168224299065 %\n",
      "No conjunto de validação há 312 Eosinófilos\n",
      "Porcentagem de classes 1: 18.22429906542056 %\n",
      "No conjunto de validação há 155 Eritroblastos\n",
      "Porcentagem de classes 2: 9.05373831775701 %\n",
      "No conjunto de validação há 290 Granulócitos imaturos\n",
      "Porcentagem de classes 3: 16.939252336448597 %\n",
      "No conjunto de validação há 122 Linfócitos\n",
      "Porcentagem de classes 4: 7.126168224299065 %\n",
      "No conjunto de validação há 143 Monócitos\n",
      "Porcentagem de classes 5: 8.352803738317757 %\n",
      "No conjunto de validação há 333 Neutrófilos\n",
      "Porcentagem de classes 6: 19.450934579439252 %\n",
      "No conjunto de validação há 235 Plaquetas\n",
      "Porcentagem de classes 7: 13.726635514018692 %\n"
     ]
    }
   ],
   "source": [
    "# Balanceamento do conjunto de validação\n",
    "num_basofilos_v = (val_labels==0).sum()\n",
    "num_eosinofilos_v = (val_labels==1).sum()\n",
    "num_eritroblastos_v = (val_labels==2).sum()\n",
    "num_granulocitos_v = (val_labels==3).sum()\n",
    "num_linfocitos_v = (val_labels==4).sum()\n",
    "num_monocitos_v = (val_labels==5).sum()\n",
    "num_neutrofilos_v = (val_labels==6).sum()\n",
    "num_plaquetas_v = (val_labels==7).sum()\n",
    "p_basofilos_v = num_basofilos_v*100/len(val_labels)\n",
    "p_eosinofilos_v = num_eosinofilos_v*100/len(val_labels)\n",
    "p_eritroblastos_v = num_eritroblastos_v*100/len(val_labels)\n",
    "p_granulocitos_v = num_granulocitos_v*100/len(val_labels)\n",
    "p_linfocitos_v = num_linfocitos_v*100/len(val_labels)\n",
    "p_monocitos_v = num_monocitos_v*100/len(val_labels)\n",
    "p_neutrofilos_v = num_neutrofilos_v*100/len(val_labels)\n",
    "p_plaquetas_v = num_plaquetas_v*100/len(val_labels)\n",
    "print(\"No conjunto de validação há\",num_basofilos_v, \"Basófilos\")\n",
    "print(\"Porcentagem de classes 0:\",p_basofilos_v ,\"%\")\n",
    "print(\"No conjunto de validação há\",num_eosinofilos_v, \"Eosinófilos\")\n",
    "print(\"Porcentagem de classes 1:\",p_eosinofilos_v,\"%\")\n",
    "print(\"No conjunto de validação há\",num_eritroblastos_v, \"Eritroblastos\")\n",
    "print(\"Porcentagem de classes 2:\",p_eritroblastos_v,\"%\")\n",
    "print(\"No conjunto de validação há\",num_granulocitos_v, \"Granulócitos imaturos\")\n",
    "print(\"Porcentagem de classes 3:\",p_granulocitos_v,\"%\")\n",
    "print(\"No conjunto de validação há\",num_linfocitos_v, \"Linfócitos\")\n",
    "print(\"Porcentagem de classes 4:\",p_linfocitos_v,\"%\")\n",
    "print(\"No conjunto de validação há\",num_monocitos_v, \"Monócitos\")\n",
    "print(\"Porcentagem de classes 5:\",p_monocitos_v,\"%\")\n",
    "print(\"No conjunto de validação há\",num_neutrofilos_v, \"Neutrófilos\")\n",
    "print(\"Porcentagem de classes 6:\",p_neutrofilos_v,\"%\")\n",
    "print(\"No conjunto de validação há\",num_plaquetas_v, \"Plaquetas\")\n",
    "print(\"Porcentagem de classes 7:\",p_plaquetas_v,\"%\")"
   ]
  },
  {
   "cell_type": "code",
   "execution_count": 12,
   "id": "bce3f811",
   "metadata": {},
   "outputs": [
    {
     "name": "stdout",
     "output_type": "stream",
     "text": [
      "No conjunto de teste há 244 Basófilos\n",
      "Porcentagem de classes 0: 7.1324174218064895 %\n",
      "No conjunto de teste há 624 Eosinófilos\n",
      "Porcentagem de classes 1: 18.240280619701842 %\n",
      "No conjunto de teste há 311 Eritroblastos\n",
      "Porcentagem de classes 2: 9.090909090909092 %\n",
      "No conjunto de teste há 579 Granulócitos imaturos\n",
      "Porcentagem de classes 3: 16.9248757673195 %\n",
      "No conjunto de teste há 243 Linfócitos\n",
      "Porcentagem de classes 4: 7.103186202864659 %\n",
      "No conjunto de teste há 284 Monócitos\n",
      "Porcentagem de classes 5: 8.301666179479684 %\n",
      "No conjunto de teste há 666 Neutrófilos\n",
      "Porcentagem de classes 6: 19.467991815258696 %\n",
      "No conjunto de teste há 470 Plaquetas\n",
      "Porcentagem de classes 7: 13.73867290266004 %\n"
     ]
    }
   ],
   "source": [
    "# Balanceamento do conjunto de teste\n",
    "num_basofilos_tt = (test_labels==0).sum()\n",
    "num_eosinofilos_tt = (test_labels==1).sum()\n",
    "num_eritroblastos_tt = (test_labels==2).sum()\n",
    "num_granulocitos_tt = (test_labels==3).sum()\n",
    "num_linfocitos_tt = (test_labels==4).sum()\n",
    "num_monocitos_tt = (test_labels==5).sum()\n",
    "num_neutrofilos_tt = (test_labels==6).sum()\n",
    "num_plaquetas_tt = (test_labels==7).sum()\n",
    "p_basofilos_tt = num_basofilos_tt*100/len(test_labels)\n",
    "p_eosinofilos_tt = num_eosinofilos_tt*100/len(test_labels)\n",
    "p_eritroblastos_tt = num_eritroblastos_tt*100/len(test_labels)\n",
    "p_granulocitos_tt = num_granulocitos_tt*100/len(test_labels)\n",
    "p_linfocitos_tt = num_linfocitos_tt*100/len(test_labels)\n",
    "p_monocitos_tt = num_monocitos_tt*100/len(test_labels)\n",
    "p_neutrofilos_tt = num_neutrofilos_tt*100/len(test_labels)\n",
    "p_plaquetas_tt = num_plaquetas_tt*100/len(test_labels)\n",
    "print(\"No conjunto de teste há\",num_basofilos_tt, \"Basófilos\")\n",
    "print(\"Porcentagem de classes 0:\",p_basofilos_tt ,\"%\")\n",
    "print(\"No conjunto de teste há\",num_eosinofilos_tt, \"Eosinófilos\")\n",
    "print(\"Porcentagem de classes 1:\",p_eosinofilos_tt,\"%\")\n",
    "print(\"No conjunto de teste há\",num_eritroblastos_tt, \"Eritroblastos\")\n",
    "print(\"Porcentagem de classes 2:\",p_eritroblastos_tt,\"%\")\n",
    "print(\"No conjunto de teste há\",num_granulocitos_tt, \"Granulócitos imaturos\")\n",
    "print(\"Porcentagem de classes 3:\",p_granulocitos_tt,\"%\")\n",
    "print(\"No conjunto de teste há\",num_linfocitos_tt, \"Linfócitos\")\n",
    "print(\"Porcentagem de classes 4:\",p_linfocitos_tt,\"%\")\n",
    "print(\"No conjunto de teste há\",num_monocitos_tt, \"Monócitos\")\n",
    "print(\"Porcentagem de classes 5:\",p_monocitos_tt,\"%\")\n",
    "print(\"No conjunto de teste há\",num_neutrofilos_tt, \"Neutrófilos\")\n",
    "print(\"Porcentagem de classes 6:\",p_neutrofilos_tt,\"%\")\n",
    "print(\"No conjunto de teste há\",num_plaquetas_tt, \"Plaquetas\")\n",
    "print(\"Porcentagem de classes 7:\",p_plaquetas_tt,\"%\")"
   ]
  },
  {
   "cell_type": "markdown",
   "id": "de0e4f6f",
   "metadata": {},
   "source": [
    "## Preparação do conjunto de dados\n"
   ]
  },
  {
   "cell_type": "code",
   "execution_count": 13,
   "id": "8a7d45e8",
   "metadata": {},
   "outputs": [
    {
     "name": "stdout",
     "output_type": "stream",
     "text": [
      "Formato do x_train:  (11959, 28, 28, 3)\n",
      "Formato do x_valid:  (1712, 28, 28, 3)\n",
      "Formato do x_test:  (3421, 28, 28, 3)\n",
      "Formato do y_train:  (11959,)\n",
      "Formato do y_valid:  (1712,)\n",
      "Formato do y_test:  (3421,)\n",
      "Valor máximo no treinamento:  1.0\n",
      "Valor máximo no treinamento:  0.0\n"
     ]
    }
   ],
   "source": [
    "# Dividindo os valores das imagens por 255, para manter a intensidade dos pixels com valores entre 0 e 1\n",
    "x_train = train_img/255\n",
    "x_valid = val_img/255\n",
    "x_test = test_img/255\n",
    "y_train = np.ravel(train_labels)\n",
    "y_valid = np.ravel(val_labels)\n",
    "y_test = np.ravel(test_labels)\n",
    "print(\"Formato do x_train: \", x_train.shape)\n",
    "print(\"Formato do x_valid: \", x_valid.shape)\n",
    "print(\"Formato do x_test: \", x_test.shape)\n",
    "print(\"Formato do y_train: \", y_train.shape)\n",
    "print(\"Formato do y_valid: \", y_valid.shape)\n",
    "print(\"Formato do y_test: \", y_test.shape)\n",
    "print(\"Valor máximo no treinamento: \", np.max(x_train))\n",
    "print(\"Valor máximo no treinamento: \",np.min(x_train))"
   ]
  },
  {
   "cell_type": "markdown",
   "id": "19b1c0cb",
   "metadata": {},
   "source": [
    "## Treinamento da CNN Simples"
   ]
  },
  {
   "cell_type": "code",
   "execution_count": 16,
   "id": "1261a2eb",
   "metadata": {},
   "outputs": [],
   "source": [
    "# Função para a construção da CNN\n",
    "def sCNN_build_model(hp):\n",
    "    # definindo o modelo:\n",
    "    sCNN_model = keras.models.Sequential()\n",
    "    # Definição da camada convolucional e do tuning:\n",
    "    sCNN_model.add(keras.layers.Conv2D(\n",
    "                     # Será testado pelo KerasTuner diferentes quantidades de kernels\n",
    "                     filters=hp.Int('conv_filter', min_value=32, max_value=128, step=16), # Número de Kernels \n",
    "                     # Será testado pelo KerasTuner kernels de tamano 3 a 5\n",
    "                     kernel_size=hp.Choice('conv_1_kernel', values = [3,5]), # Tamanho dos kernels\n",
    "                     strides=(1,1), # Stride unitário ao logo das duas dimensões da imagem (imagem com poucos pixels)\n",
    "                     input_shape=[28, 28, 3], # Formato das imagens de entrada [linhas, colunas, canais]\n",
    "                     padding='same', # Default='valid',\"same\" faz o zero padding e quando o stride é unitário mantém as dimensões da imagem\n",
    "                     data_format=None, # Default=None, canais por último no formato de entrada\n",
    "                     dilation_rate=(1, 1), # Default=(1, 1), sem dilatação da convolução\n",
    "                     groups=1, # Default=1, apenas um grupo para as entradas\n",
    "                     activation='relu', # Função de ativação ReLu\n",
    "                     use_bias=True, # Default=True. Utilizando bias no modelo\n",
    "                     kernel_initializer='glorot_uniform', # Default='glorot_uniform'. Modo de inicialização do pesos definido como glorot_uniform\n",
    "                     bias_initializer='zeros', # Default='zeros'. Inicia o bias como zero\n",
    "                     kernel_regularizer=None, # Default=None. Não utiliza regularização\n",
    "                     bias_regularizer=None, # Default=None. Não utiliza regularização do bias \n",
    "                     activity_regularizer=None, # Default=None. Sem função de regularização na saída\n",
    "                     kernel_constraint=None, # Default=None. Sem Constraint function (definições para os valores dos pesos) no Kernel\n",
    "                     bias_constraint=None, # Default=Non. Sem Constraint function (definições para os valores dos pesos) no vetor de bias\n",
    "                     name='2D-Convolutional-Layer') # nome da camada\n",
    "                  ) \n",
    "    # Definição da camada de pooling (Foi escolhido o Max Pooling)\n",
    "    sCNN_model.add(keras.layers.MaxPool2D(pool_size=(2,2), # Default=(2,2). Tamanho da janela de pooling definida como 2x2\n",
    "                        strides=(1,1), # Definição do stride das janelas de pooling como unitário\n",
    "                        padding='valid', # Default='valid'. Sem padding\n",
    "                        data_format=None, # Default=None. Canais por último no formato de entrada\n",
    "                        name='2D-MaxPool-Layer') # nome da camada\n",
    "                  ) \n",
    "    # Definição da camada flatten antes da camada densa\n",
    "    sCNN_model.add(keras.layers.Flatten(name='Flatten-Layer'))\n",
    "    # Definição da camada densa de saída do tipo softmax\n",
    "    sCNN_model.add(keras.layers.Dense(8, activation='softmax', name='Output-Layer'))\n",
    "    \n",
    "    # Compilação do modelo\n",
    "    sCNN_model.compile(optimizer='sgd', # Otimizador sgd escolhido para o treinamento\n",
    "                       loss='SparseCategoricalCrossentropy', # Função custo. Escolhida a entropia cruzada\n",
    "                       metrics=['Accuracy'], # A acurácia foi utilizada como métrica\n",
    "                       )\n",
    "    return sCNN_model"
   ]
  },
  {
   "cell_type": "code",
   "execution_count": 23,
   "id": "d0527e34",
   "metadata": {},
   "outputs": [
    {
     "name": "stdout",
     "output_type": "stream",
     "text": [
      "Trial 5 Complete [00h 00m 44s]\n",
      "val_Accuracy: 0.7254672646522522\n",
      "\n",
      "Best val_Accuracy So Far: 0.8072429895401001\n",
      "Total elapsed time: 00h 04m 20s\n",
      "INFO:tensorflow:Oracle triggered exit\n"
     ]
    }
   ],
   "source": [
    "# Treinamento da CNN com o tuning dos parâmetros:\n",
    "# Definido um Random Search avaliando a acurácia do modelo no conjunto de validação\n",
    "sCNN_tuner = RandomSearch(hypermodel = sCNN_build_model, objective='val_Accuracy', max_trials = 5)\n",
    "# Começando a busca\n",
    "sCNN_tuner.search(x_train, y_train, epochs=3, validation_data=(x_valid, y_valid))"
   ]
  },
  {
   "cell_type": "code",
   "execution_count": null,
   "id": "080295ef",
   "metadata": {},
   "outputs": [],
   "source": []
  }
 ],
 "metadata": {
  "kernelspec": {
   "display_name": "Python 3 (ipykernel)",
   "language": "python",
   "name": "python3"
  },
  "language_info": {
   "codemirror_mode": {
    "name": "ipython",
    "version": 3
   },
   "file_extension": ".py",
   "mimetype": "text/x-python",
   "name": "python",
   "nbconvert_exporter": "python",
   "pygments_lexer": "ipython3",
   "version": "3.8.6"
  }
 },
 "nbformat": 4,
 "nbformat_minor": 5
}
