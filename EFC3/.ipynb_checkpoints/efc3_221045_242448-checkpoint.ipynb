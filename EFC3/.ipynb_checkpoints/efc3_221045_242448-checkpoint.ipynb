{
 "cells": [
  {
   "cell_type": "markdown",
   "id": "acf1e2f6",
   "metadata": {},
   "source": [
    "# IA048A - EFC 03: Redes Neurais Artificiais\n",
    "\n",
    "### Luís Antônio Almeida Lima Vieira (221045)  &  Nathan Shen Baldon (242448)"
   ]
  },
  {
   "cell_type": "code",
   "execution_count": 19,
   "id": "38dc2f8e",
   "metadata": {},
   "outputs": [],
   "source": [
    "# É necessário antes de tudo instalar a biblioteca medmnist\n",
    "\n",
    "# Importações necessárias\n",
    "import sklearn\n",
    "import numpy as np\n",
    "import matplotlib as mpl\n",
    "from matplotlib import pyplot as plt\n",
    "import matplotlib.image as mpimg\n",
    "import os \n",
    "from tqdm import tqdm\n",
    "import medmnist\n",
    "from medmnist import INFO, Evaluator\n",
    "from sklearn.linear_model import LogisticRegression\n",
    "from sklearn.model_selection import GridSearchCV\n",
    "from sklearn import metrics\n",
    "from sklearn.metrics import confusion_matrix\n",
    "import tensorflow as tf\n",
    "from tensorflow import keras\n",
    "\n",
    "# to make this notebook's output stable across runs\n",
    "np.random.seed(42) # indica onde escolha aleatória começa\n",
    "\n",
    "# to make pretty figures\n",
    "mpl.rc('axes', labelsize=14)\n",
    "mpl.rc('xtick', labelsize=12)\n",
    "mpl.rc('ytick', labelsize=12)\n",
    "\n",
    "# Where to save the figures\n",
    "PROJECT_ROOT_DIR = \".\"\n",
    "EFC = \"efc3\"\n",
    "IMAGES_PATH = os.path.join(PROJECT_ROOT_DIR, \"images\", EFC)\n",
    "os.makedirs(IMAGES_PATH, exist_ok=True)\n",
    "\n",
    "def save_fig(fig_id, tight_layout=True, fig_extension=\"svg\"):\n",
    "    path = os.path.join(IMAGES_PATH, fig_id + \".\" + fig_extension)\n",
    "    print(\"Saving figure\", fig_id)\n",
    "    if tight_layout:\n",
    "        plt.tight_layout()\n",
    "    plt.savefig(path, format=fig_extension)"
   ]
  },
  {
   "cell_type": "markdown",
   "id": "1e35a347",
   "metadata": {},
   "source": [
    "## Importação da base de dados BloodMNIST\n"
   ]
  },
  {
   "cell_type": "code",
   "execution_count": 20,
   "id": "d5d76033",
   "metadata": {},
   "outputs": [],
   "source": [
    "# Importando o dataset bloodmnist\n",
    "data_flag = 'bloodmnist'\n",
    "download = True\n",
    "\n",
    "info = INFO[data_flag]\n",
    "task = info['task']\n",
    "n_channels = info['n_channels']\n",
    "n_classes = len(info['label'])\n",
    "\n",
    "DataClass = getattr(medmnist, info['python_class'])"
   ]
  },
  {
   "cell_type": "code",
   "execution_count": 21,
   "id": "8551fa01",
   "metadata": {},
   "outputs": [
    {
     "name": "stdout",
     "output_type": "stream",
     "text": [
      "Using downloaded and verified file: C:\\Users\\Luis\\.medmnist\\bloodmnist.npz\n",
      "Using downloaded and verified file: C:\\Users\\Luis\\.medmnist\\bloodmnist.npz\n",
      "Using downloaded and verified file: C:\\Users\\Luis\\.medmnist\\bloodmnist.npz\n"
     ]
    }
   ],
   "source": [
    "# carregando os dados\n",
    "train_dataset = DataClass(split='train', download=download)\n",
    "val_dataset = DataClass(split='val', download=download)\n",
    "test_dataset = DataClass(split='test', download=download)"
   ]
  },
  {
   "cell_type": "code",
   "execution_count": 22,
   "id": "410bdfc3",
   "metadata": {
    "scrolled": true
   },
   "outputs": [
    {
     "data": {
      "text/plain": [
       "{'python_class': 'BloodMNIST',\n",
       " 'description': 'The BloodMNIST is based on a dataset of individual normal cells, captured from individuals without infection, hematologic or oncologic disease and free of any pharmacologic treatment at the moment of blood collection. It contains a total of 17,092 images and is organized into 8 classes. We split the source dataset with a ratio of 7:1:2 into training, validation and test set. The source images with resolution 3×360×363 pixels are center-cropped into 3×200×200, and then resized into 3×28×28.',\n",
       " 'url': 'https://zenodo.org/record/6496656/files/bloodmnist.npz?download=1',\n",
       " 'MD5': '7053d0359d879ad8a5505303e11de1dc',\n",
       " 'task': 'multi-class',\n",
       " 'label': {'0': 'basophil',\n",
       "  '1': 'eosinophil',\n",
       "  '2': 'erythroblast',\n",
       "  '3': 'immature granulocytes(myelocytes, metamyelocytes and promyelocytes)',\n",
       "  '4': 'lymphocyte',\n",
       "  '5': 'monocyte',\n",
       "  '6': 'neutrophil',\n",
       "  '7': 'platelet'},\n",
       " 'n_channels': 3,\n",
       " 'n_samples': {'train': 11959, 'val': 1712, 'test': 3421},\n",
       " 'license': 'CC BY 4.0'}"
      ]
     },
     "execution_count": 22,
     "metadata": {},
     "output_type": "execute_result"
    }
   ],
   "source": [
    "info"
   ]
  },
  {
   "cell_type": "code",
   "execution_count": 23,
   "id": "0c021d37",
   "metadata": {},
   "outputs": [],
   "source": [
    "# Separando os labels por conjunto:\n",
    "train_labels = train_dataset.labels\n",
    "val_labels = val_dataset.labels\n",
    "test_labels = test_dataset.labels"
   ]
  },
  {
   "cell_type": "code",
   "execution_count": 24,
   "id": "f0122140",
   "metadata": {},
   "outputs": [],
   "source": [
    "# Separando as imagens por conjunto:\n",
    "train_img = train_dataset.imgs\n",
    "val_img = val_dataset.imgs\n",
    "test_img = test_dataset.imgs"
   ]
  },
  {
   "cell_type": "code",
   "execution_count": 25,
   "id": "596a527a",
   "metadata": {},
   "outputs": [
    {
     "name": "stdout",
     "output_type": "stream",
     "text": [
      "(28, 28, 3)\n"
     ]
    }
   ],
   "source": [
    "print(np.shape(train_img[0]))"
   ]
  },
  {
   "cell_type": "code",
   "execution_count": 26,
   "id": "e159154e",
   "metadata": {},
   "outputs": [
    {
     "name": "stdout",
     "output_type": "stream",
     "text": [
      "Rótulo: [7]\n",
      "Saving figure imagem_um\n"
     ]
    },
    {
     "data": {
      "image/png": "[encoded data removed]",
      "text/plain": [
       "<Figure size 640x480 with 1 Axes>"
      ]
     },
     "metadata": {},
     "output_type": "display_data"
    }
   ],
   "source": [
    "# Vizualização da primeira imagem do conjunto de treinamento\n",
    "print(f\"Rótulo: {train_labels[0]}\")\n",
    "plt.imshow(train_img[0],cmap=\"gray\")\n",
    "plt.axis(\"off\")\n",
    "save_fig('imagem_um')\n",
    "plt.show()"
   ]
  },
  {
   "cell_type": "markdown",
   "id": "c6615f17",
   "metadata": {},
   "source": [
    "### Classes do conjunto"
   ]
  },
  {
   "cell_type": "markdown",
   "id": "de242acc",
   "metadata": {},
   "source": [
    "\n",
    " Id | Rótulo                       |\n",
    "--- |:--------------------------------:|\n",
    "0  | Basófilos   |\n",
    "1  | Eosinófilos |\n",
    "2  | Eritroblastos   |\n",
    "3  | Granulócitos imaturos   |\n",
    "4  | Linfócitos   |\n",
    "5  | Monócitos   |\n",
    "6  | Neutrófilos   |\n",
    "7  | Plaquetas   |\n"
   ]
  },
  {
   "cell_type": "markdown",
   "id": "58d115f6",
   "metadata": {},
   "source": [
    "## Avaliação do conjunto de dados\n"
   ]
  },
  {
   "cell_type": "code",
   "execution_count": 27,
   "id": "47f9a965",
   "metadata": {},
   "outputs": [
    {
     "name": "stdout",
     "output_type": "stream",
     "text": [
      "No conjunto de treinamento há 852 Basófilos\n",
      "Porcentagem de classes 0: 7.124341500125428 %\n",
      "No conjunto de treinamento há 2181 Eosinófilos\n",
      "Porcentagem de classes 1: 18.237310811940798 %\n",
      "No conjunto de treinamento há 1085 Eritroblastos\n",
      "Porcentagem de classes 2: 9.072664938540012 %\n",
      "No conjunto de treinamento há 2026 Granulócitos imaturos\n",
      "Porcentagem de classes 3: 16.941215820720796 %\n",
      "No conjunto de treinamento há 849 Linfócitos\n",
      "Porcentagem de classes 4: 7.099255790617945 %\n",
      "No conjunto de treinamento há 993 Monócitos\n",
      "Porcentagem de classes 5: 8.303369846977173 %\n",
      "No conjunto de treinamento há 2330 Neutrófilos\n",
      "Porcentagem de classes 6: 19.48323438414583 %\n",
      "No conjunto de treinamento há 1643 Plaquetas\n",
      "Porcentagem de classes 7: 13.738606906932018 %\n"
     ]
    }
   ],
   "source": [
    "# Balanceamento do conjunto de treinamento\n",
    "num_basofilos_t = (train_labels==0).sum()\n",
    "num_eosinofilos_t = (train_labels==1).sum()\n",
    "num_eritroblastos_t = (train_labels==2).sum()\n",
    "num_granulocitos_t = (train_labels==3).sum()\n",
    "num_linfocitos_t = (train_labels==4).sum()\n",
    "num_monocitos_t = (train_labels==5).sum()\n",
    "num_neutrofilos_t = (train_labels==6).sum()\n",
    "num_plaquetas_t = (train_labels==7).sum()\n",
    "p_basofilos_t = num_basofilos_t*100/len(train_labels)\n",
    "p_eosinofilos_t = num_eosinofilos_t*100/len(train_labels)\n",
    "p_eritroblastos_t = num_eritroblastos_t*100/len(train_labels)\n",
    "p_granulocitos_t = num_granulocitos_t*100/len(train_labels)\n",
    "p_linfocitos_t = num_linfocitos_t*100/len(train_labels)\n",
    "p_monocitos_t = num_monocitos_t*100/len(train_labels)\n",
    "p_neutrofilos_t = num_neutrofilos_t*100/len(train_labels)\n",
    "p_plaquetas_t = num_plaquetas_t*100/len(train_labels)\n",
    "print(\"No conjunto de treinamento há\",num_basofilos_t, \"Basófilos\")\n",
    "print(\"Porcentagem de classes 0:\",p_basofilos_t ,\"%\")\n",
    "print(\"No conjunto de treinamento há\",num_eosinofilos_t, \"Eosinófilos\")\n",
    "print(\"Porcentagem de classes 1:\",p_eosinofilos_t,\"%\")\n",
    "print(\"No conjunto de treinamento há\",num_eritroblastos_t, \"Eritroblastos\")\n",
    "print(\"Porcentagem de classes 2:\",p_eritroblastos_t,\"%\")\n",
    "print(\"No conjunto de treinamento há\",num_granulocitos_t, \"Granulócitos imaturos\")\n",
    "print(\"Porcentagem de classes 3:\",p_granulocitos_t,\"%\")\n",
    "print(\"No conjunto de treinamento há\",num_linfocitos_t, \"Linfócitos\")\n",
    "print(\"Porcentagem de classes 4:\",p_linfocitos_t,\"%\")\n",
    "print(\"No conjunto de treinamento há\",num_monocitos_t, \"Monócitos\")\n",
    "print(\"Porcentagem de classes 5:\",p_monocitos_t,\"%\")\n",
    "print(\"No conjunto de treinamento há\",num_neutrofilos_t, \"Neutrófilos\")\n",
    "print(\"Porcentagem de classes 6:\",p_neutrofilos_t,\"%\")\n",
    "print(\"No conjunto de treinamento há\",num_plaquetas_t, \"Plaquetas\")\n",
    "print(\"Porcentagem de classes 7:\",p_plaquetas_t,\"%\")"
   ]
  },
  {
   "cell_type": "code",
   "execution_count": 28,
   "id": "b38c7238",
   "metadata": {},
   "outputs": [
    {
     "name": "stdout",
     "output_type": "stream",
     "text": [
      "No conjunto de validação há 122 Basófilos\n",
      "Porcentagem de classes 0: 7.126168224299065 %\n",
      "No conjunto de validação há 312 Eosinófilos\n",
      "Porcentagem de classes 1: 18.22429906542056 %\n",
      "No conjunto de validação há 155 Eritroblastos\n",
      "Porcentagem de classes 2: 9.05373831775701 %\n",
      "No conjunto de validação há 290 Granulócitos imaturos\n",
      "Porcentagem de classes 3: 16.939252336448597 %\n",
      "No conjunto de validação há 122 Linfócitos\n",
      "Porcentagem de classes 4: 7.126168224299065 %\n",
      "No conjunto de validação há 143 Monócitos\n",
      "Porcentagem de classes 5: 8.352803738317757 %\n",
      "No conjunto de validação há 333 Neutrófilos\n",
      "Porcentagem de classes 6: 19.450934579439252 %\n",
      "No conjunto de validação há 235 Plaquetas\n",
      "Porcentagem de classes 7: 13.726635514018692 %\n"
     ]
    }
   ],
   "source": [
    "# Balanceamento do conjunto de validação\n",
    "num_basofilos_v = (val_labels==0).sum()\n",
    "num_eosinofilos_v = (val_labels==1).sum()\n",
    "num_eritroblastos_v = (val_labels==2).sum()\n",
    "num_granulocitos_v = (val_labels==3).sum()\n",
    "num_linfocitos_v = (val_labels==4).sum()\n",
    "num_monocitos_v = (val_labels==5).sum()\n",
    "num_neutrofilos_v = (val_labels==6).sum()\n",
    "num_plaquetas_v = (val_labels==7).sum()\n",
    "p_basofilos_v = num_basofilos_v*100/len(val_labels)\n",
    "p_eosinofilos_v = num_eosinofilos_v*100/len(val_labels)\n",
    "p_eritroblastos_v = num_eritroblastos_v*100/len(val_labels)\n",
    "p_granulocitos_v = num_granulocitos_v*100/len(val_labels)\n",
    "p_linfocitos_v = num_linfocitos_v*100/len(val_labels)\n",
    "p_monocitos_v = num_monocitos_v*100/len(val_labels)\n",
    "p_neutrofilos_v = num_neutrofilos_v*100/len(val_labels)\n",
    "p_plaquetas_v = num_plaquetas_v*100/len(val_labels)\n",
    "print(\"No conjunto de validação há\",num_basofilos_v, \"Basófilos\")\n",
    "print(\"Porcentagem de classes 0:\",p_basofilos_v ,\"%\")\n",
    "print(\"No conjunto de validação há\",num_eosinofilos_v, \"Eosinófilos\")\n",
    "print(\"Porcentagem de classes 1:\",p_eosinofilos_v,\"%\")\n",
    "print(\"No conjunto de validação há\",num_eritroblastos_v, \"Eritroblastos\")\n",
    "print(\"Porcentagem de classes 2:\",p_eritroblastos_v,\"%\")\n",
    "print(\"No conjunto de validação há\",num_granulocitos_v, \"Granulócitos imaturos\")\n",
    "print(\"Porcentagem de classes 3:\",p_granulocitos_v,\"%\")\n",
    "print(\"No conjunto de validação há\",num_linfocitos_v, \"Linfócitos\")\n",
    "print(\"Porcentagem de classes 4:\",p_linfocitos_v,\"%\")\n",
    "print(\"No conjunto de validação há\",num_monocitos_v, \"Monócitos\")\n",
    "print(\"Porcentagem de classes 5:\",p_monocitos_v,\"%\")\n",
    "print(\"No conjunto de validação há\",num_neutrofilos_v, \"Neutrófilos\")\n",
    "print(\"Porcentagem de classes 6:\",p_neutrofilos_v,\"%\")\n",
    "print(\"No conjunto de validação há\",num_plaquetas_v, \"Plaquetas\")\n",
    "print(\"Porcentagem de classes 7:\",p_plaquetas_v,\"%\")"
   ]
  },
  {
   "cell_type": "code",
   "execution_count": 29,
   "id": "bce3f811",
   "metadata": {},
   "outputs": [
    {
     "name": "stdout",
     "output_type": "stream",
     "text": [
      "No conjunto de teste há 244 Basófilos\n",
      "Porcentagem de classes 0: 7.1324174218064895 %\n",
      "No conjunto de teste há 624 Eosinófilos\n",
      "Porcentagem de classes 1: 18.240280619701842 %\n",
      "No conjunto de teste há 311 Eritroblastos\n",
      "Porcentagem de classes 2: 9.090909090909092 %\n",
      "No conjunto de teste há 579 Granulócitos imaturos\n",
      "Porcentagem de classes 3: 16.9248757673195 %\n",
      "No conjunto de teste há 243 Linfócitos\n",
      "Porcentagem de classes 4: 7.103186202864659 %\n",
      "No conjunto de teste há 284 Monócitos\n",
      "Porcentagem de classes 5: 8.301666179479684 %\n",
      "No conjunto de teste há 666 Neutrófilos\n",
      "Porcentagem de classes 6: 19.467991815258696 %\n",
      "No conjunto de teste há 470 Plaquetas\n",
      "Porcentagem de classes 7: 13.73867290266004 %\n"
     ]
    }
   ],
   "source": [
    "# Balanceamento do conjunto de teste\n",
    "num_basofilos_tt = (test_labels==0).sum()\n",
    "num_eosinofilos_tt = (test_labels==1).sum()\n",
    "num_eritroblastos_tt = (test_labels==2).sum()\n",
    "num_granulocitos_tt = (test_labels==3).sum()\n",
    "num_linfocitos_tt = (test_labels==4).sum()\n",
    "num_monocitos_tt = (test_labels==5).sum()\n",
    "num_neutrofilos_tt = (test_labels==6).sum()\n",
    "num_plaquetas_tt = (test_labels==7).sum()\n",
    "p_basofilos_tt = num_basofilos_tt*100/len(test_labels)\n",
    "p_eosinofilos_tt = num_eosinofilos_tt*100/len(test_labels)\n",
    "p_eritroblastos_tt = num_eritroblastos_tt*100/len(test_labels)\n",
    "p_granulocitos_tt = num_granulocitos_tt*100/len(test_labels)\n",
    "p_linfocitos_tt = num_linfocitos_tt*100/len(test_labels)\n",
    "p_monocitos_tt = num_monocitos_tt*100/len(test_labels)\n",
    "p_neutrofilos_tt = num_neutrofilos_tt*100/len(test_labels)\n",
    "p_plaquetas_tt = num_plaquetas_tt*100/len(test_labels)\n",
    "print(\"No conjunto de teste há\",num_basofilos_tt, \"Basófilos\")\n",
    "print(\"Porcentagem de classes 0:\",p_basofilos_tt ,\"%\")\n",
    "print(\"No conjunto de teste há\",num_eosinofilos_tt, \"Eosinófilos\")\n",
    "print(\"Porcentagem de classes 1:\",p_eosinofilos_tt,\"%\")\n",
    "print(\"No conjunto de teste há\",num_eritroblastos_tt, \"Eritroblastos\")\n",
    "print(\"Porcentagem de classes 2:\",p_eritroblastos_tt,\"%\")\n",
    "print(\"No conjunto de teste há\",num_granulocitos_tt, \"Granulócitos imaturos\")\n",
    "print(\"Porcentagem de classes 3:\",p_granulocitos_tt,\"%\")\n",
    "print(\"No conjunto de teste há\",num_linfocitos_tt, \"Linfócitos\")\n",
    "print(\"Porcentagem de classes 4:\",p_linfocitos_tt,\"%\")\n",
    "print(\"No conjunto de teste há\",num_monocitos_tt, \"Monócitos\")\n",
    "print(\"Porcentagem de classes 5:\",p_monocitos_tt,\"%\")\n",
    "print(\"No conjunto de teste há\",num_neutrofilos_tt, \"Neutrófilos\")\n",
    "print(\"Porcentagem de classes 6:\",p_neutrofilos_tt,\"%\")\n",
    "print(\"No conjunto de teste há\",num_plaquetas_tt, \"Plaquetas\")\n",
    "print(\"Porcentagem de classes 7:\",p_plaquetas_tt,\"%\")"
   ]
  },
  {
   "cell_type": "markdown",
   "id": "de0e4f6f",
   "metadata": {},
   "source": [
    "## Preparação do conjunto de dados\n"
   ]
  },
  {
   "cell_type": "code",
   "execution_count": 30,
   "id": "8a7d45e8",
   "metadata": {},
   "outputs": [
    {
     "name": "stdout",
     "output_type": "stream",
     "text": [
      "(11959, 28, 28, 3)\n",
      "(1712, 28, 28, 3)\n",
      "(3421, 28, 28, 3)\n",
      "(11959, 1)\n",
      "(1712, 1)\n",
      "(3421, 1)\n",
      "1.0\n",
      "0.0\n"
     ]
    }
   ],
   "source": [
    "# Dividindo os valores das imagens por 255, para manter a intensidade dos pixels com valores entre 0 e 1\n",
    "x_train = train_img/255\n",
    "x_valid = val_img/255\n",
    "x_test = test_img/255\n",
    "y_train = train_labels\n",
    "y_valid = val_labels\n",
    "y_test = test_labels\n",
    "print(x_train.shape)\n",
    "print(x_valid.shape)\n",
    "print(x_test.shape)\n",
    "print(y_train.shape)\n",
    "print(y_valid.shape)\n",
    "print(y_test.shape)\n",
    "print(np.max(x_train))\n",
    "print(np.min(x_train))"
   ]
  },
  {
   "cell_type": "code",
   "execution_count": null,
   "id": "f8388835",
   "metadata": {},
   "outputs": [],
   "source": []
  }
 ],
 "metadata": {
  "kernelspec": {
   "display_name": "Python 3 (ipykernel)",
   "language": "python",
   "name": "python3"
  },
  "language_info": {
   "codemirror_mode": {
    "name": "ipython",
    "version": 3
   },
   "file_extension": ".py",
   "mimetype": "text/x-python",
   "name": "python",
   "nbconvert_exporter": "python",
   "pygments_lexer": "ipython3",
   "version": "3.8.6"
  }
 },
 "nbformat": 4,
 "nbformat_minor": 5
}
