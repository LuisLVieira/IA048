{
 "cells": [
  {
   "cell_type": "code",
<<<<<<< Updated upstream
   "execution_count": 12,
=======
   "execution_count": 1,
>>>>>>> Stashed changes
   "id": "48188ad4",
   "metadata": {},
   "outputs": [],
   "source": [
    "# Python ≥3.5 is required\n",
    "import sys\n",
    "assert sys.version_info >= (3, 5)\n",
    "\n",
    "# Scikit-Learn ≥0.20 is required\n",
    "import sklearn\n",
    "assert sklearn.__version__ >= \"0.20\"\n",
    "\n",
    "# Common imports\n",
    "import numpy as np\n",
    "import os"
   ]
  },
  {
   "cell_type": "markdown",
   "id": "382780f9",
   "metadata": {},
   "source": [
    "# Primeira Parte: Sistema de Mackey-Glass"
   ]
  },
  {
   "cell_type": "code",
<<<<<<< Updated upstream
   "execution_count": 13,
=======
   "execution_count": 2,
>>>>>>> Stashed changes
   "id": "dfc3fe4e",
   "metadata": {},
   "outputs": [],
   "source": [
    "# to make this notebook's output stable across runs\n",
    "np.random.seed(42)\n",
    "\n",
    "# To plot pretty figures\n",
    "%matplotlib inline\n",
    "import matplotlib as mpl\n",
    "import matplotlib.pyplot as plt\n",
    "mpl.rc('axes', labelsize=14)\n",
    "mpl.rc('xtick', labelsize=12)\n",
    "mpl.rc('ytick', labelsize=12)\n",
    "\n",
    "# Where to save the figures\n",
    "PROJECT_ROOT_DIR = \".\"\n",
    "CHAPTER_ID = \"primeira_parte\"\n",
    "IMAGES_PATH = os.path.join(PROJECT_ROOT_DIR, \"images\", CHAPTER_ID)\n",
    "os.makedirs(IMAGES_PATH, exist_ok=True)\n",
    "\n",
    "def save_fig(fig_id, tight_layout=True, fig_extension=\"png\", resolution=300):\n",
    "    path = os.path.join(IMAGES_PATH, fig_id + \".\" + fig_extension)\n",
    "    print(\"Saving figure\", fig_id)\n",
    "    if tight_layout:\n",
    "        plt.tight_layout()\n",
    "    plt.savefig(path, format=fig_extension, dpi=resolution)"
   ]
  },
  {
   "cell_type": "markdown",
   "id": "ffd2320b",
   "metadata": {},
   "source": [
    "## Importando e interpretando os dados"
   ]
  },
  {
   "cell_type": "code",
<<<<<<< Updated upstream
   "execution_count": 14,
=======
   "execution_count": 3,
>>>>>>> Stashed changes
   "id": "4d0ae308",
   "metadata": {},
   "outputs": [],
   "source": [
    "DATASET_PATH = os.path.join(\"datasets\")"
   ]
  },
  {
   "cell_type": "code",
<<<<<<< Updated upstream
   "execution_count": 15,
=======
   "execution_count": 4,
>>>>>>> Stashed changes
   "id": "4c8ab8c2",
   "metadata": {},
   "outputs": [],
   "source": [
    "import pandas as pd\n",
    "\n",
    "def load_mackeyglass_data(dataset_path=DATASET_PATH):\n",
    "    csv_path = os.path.join(dataset_path, \"mackeyglass.csv\")\n",
    "    return pd.read_csv(csv_path)"
   ]
  },
  {
   "cell_type": "code",
<<<<<<< Updated upstream
   "execution_count": 16,
=======
   "execution_count": 5,
>>>>>>> Stashed changes
   "id": "eb1765ac",
   "metadata": {
    "scrolled": true
   },
   "outputs": [
    {
     "data": {
      "text/html": [
       "<div>\n",
       "<style scoped>\n",
       "    .dataframe tbody tr th:only-of-type {\n",
       "        vertical-align: middle;\n",
       "    }\n",
       "\n",
       "    .dataframe tbody tr th {\n",
       "        vertical-align: top;\n",
       "    }\n",
       "\n",
       "    .dataframe thead th {\n",
       "        text-align: right;\n",
       "    }\n",
       "</style>\n",
       "<table border=\"1\" class=\"dataframe\">\n",
       "  <thead>\n",
       "    <tr style=\"text-align: right;\">\n",
       "      <th></th>\n",
       "      <th>t</th>\n",
       "      <th>p</th>\n",
       "    </tr>\n",
       "  </thead>\n",
       "  <tbody>\n",
       "    <tr>\n",
       "      <th>0</th>\n",
       "      <td>0.0</td>\n",
       "      <td>0.188921</td>\n",
       "    </tr>\n",
       "    <tr>\n",
       "      <th>1</th>\n",
       "      <td>1.0</td>\n",
       "      <td>0.190910</td>\n",
       "    </tr>\n",
       "    <tr>\n",
       "      <th>2</th>\n",
       "      <td>2.0</td>\n",
       "      <td>0.194433</td>\n",
       "    </tr>\n",
       "    <tr>\n",
       "      <th>3</th>\n",
       "      <td>3.0</td>\n",
       "      <td>0.199178</td>\n",
       "    </tr>\n",
       "    <tr>\n",
       "      <th>4</th>\n",
       "      <td>4.0</td>\n",
       "      <td>0.204882</td>\n",
       "    </tr>\n",
       "  </tbody>\n",
       "</table>\n",
       "</div>"
      ],
      "text/plain": [
       "     t         p\n",
       "0  0.0  0.188921\n",
       "1  1.0  0.190910\n",
       "2  2.0  0.194433\n",
       "3  3.0  0.199178\n",
       "4  4.0  0.204882"
      ]
     },
<<<<<<< Updated upstream
     "execution_count": 16,
=======
     "execution_count": 5,
>>>>>>> Stashed changes
     "metadata": {},
     "output_type": "execute_result"
    }
   ],
   "source": [
    "mackeyglass = load_mackeyglass_data()\n",
    "mackeyglass.head()"
   ]
  },
  {
   "cell_type": "code",
<<<<<<< Updated upstream
   "execution_count": 17,
=======
   "execution_count": 6,
>>>>>>> Stashed changes
   "id": "64479e79",
   "metadata": {
    "scrolled": false
   },
   "outputs": [
    {
     "name": "stdout",
     "output_type": "stream",
     "text": [
      "<class 'pandas.core.frame.DataFrame'>\n",
      "RangeIndex: 5000 entries, 0 to 4999\n",
      "Data columns (total 2 columns):\n",
      " #   Column  Non-Null Count  Dtype  \n",
      "---  ------  --------------  -----  \n",
      " 0   t       5000 non-null   float64\n",
      " 1   p       5000 non-null   float64\n",
      "dtypes: float64(2)\n",
      "memory usage: 78.2 KB\n"
     ]
    }
   ],
   "source": [
    "mackeyglass.info()"
   ]
  },
  {
   "cell_type": "code",
<<<<<<< Updated upstream
   "execution_count": 20,
=======
   "execution_count": 7,
   "id": "2334bf4d",
   "metadata": {},
   "outputs": [
    {
     "data": {
      "text/html": [
       "<div>\n",
       "<style scoped>\n",
       "    .dataframe tbody tr th:only-of-type {\n",
       "        vertical-align: middle;\n",
       "    }\n",
       "\n",
       "    .dataframe tbody tr th {\n",
       "        vertical-align: top;\n",
       "    }\n",
       "\n",
       "    .dataframe thead th {\n",
       "        text-align: right;\n",
       "    }\n",
       "</style>\n",
       "<table border=\"1\" class=\"dataframe\">\n",
       "  <thead>\n",
       "    <tr style=\"text-align: right;\">\n",
       "      <th></th>\n",
       "      <th>t</th>\n",
       "      <th>p</th>\n",
       "    </tr>\n",
       "  </thead>\n",
       "  <tbody>\n",
       "    <tr>\n",
       "      <th>count</th>\n",
       "      <td>5000.000000</td>\n",
       "      <td>5000.000000</td>\n",
       "    </tr>\n",
       "    <tr>\n",
       "      <th>mean</th>\n",
       "      <td>2499.500000</td>\n",
       "      <td>0.908258</td>\n",
       "    </tr>\n",
       "    <tr>\n",
       "      <th>std</th>\n",
       "      <td>1443.520003</td>\n",
       "      <td>0.263595</td>\n",
       "    </tr>\n",
       "    <tr>\n",
       "      <th>min</th>\n",
       "      <td>0.000000</td>\n",
       "      <td>0.188921</td>\n",
       "    </tr>\n",
       "    <tr>\n",
       "      <th>25%</th>\n",
       "      <td>1249.750000</td>\n",
       "      <td>0.746241</td>\n",
       "    </tr>\n",
       "    <tr>\n",
       "      <th>50%</th>\n",
       "      <td>2499.500000</td>\n",
       "      <td>0.944711</td>\n",
       "    </tr>\n",
       "    <tr>\n",
       "      <th>75%</th>\n",
       "      <td>3749.250000</td>\n",
       "      <td>1.109743</td>\n",
       "    </tr>\n",
       "    <tr>\n",
       "      <th>max</th>\n",
       "      <td>4999.000000</td>\n",
       "      <td>1.366951</td>\n",
       "    </tr>\n",
       "  </tbody>\n",
       "</table>\n",
       "</div>"
      ],
      "text/plain": [
       "                 t            p\n",
       "count  5000.000000  5000.000000\n",
       "mean   2499.500000     0.908258\n",
       "std    1443.520003     0.263595\n",
       "min       0.000000     0.188921\n",
       "25%    1249.750000     0.746241\n",
       "50%    2499.500000     0.944711\n",
       "75%    3749.250000     1.109743\n",
       "max    4999.000000     1.366951"
      ]
     },
     "execution_count": 7,
     "metadata": {},
     "output_type": "execute_result"
    }
   ],
   "source": [
    "mackeyglass.describe()"
   ]
  },
  {
   "cell_type": "code",
   "execution_count": 8,
>>>>>>> Stashed changes
   "id": "9b87781e",
   "metadata": {
    "scrolled": false
   },
   "outputs": [
    {
     "name": "stdout",
     "output_type": "stream",
     "text": [
      "Saving figure mackeyglass\n"
     ]
    },
    {
     "data": {
      "image/png": "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\n",
      "text/plain": [
       "<Figure size 432x288 with 1 Axes>"
      ]
     },
     "metadata": {
      "needs_background": "light"
     },
     "output_type": "display_data"
    }
   ],
   "source": [
<<<<<<< Updated upstream
    "t = mackeyglass['t'].to_numpy()\n",
    "p = mackeyglass['p'].to_numpy()\n",
    "\n",
    "plt.plot(t, p)\n",
=======
    "# Coversão para numpy\n",
    "t_data = mackeyglass['t'].to_numpy()\n",
    "p_data = mackeyglass['p'].to_numpy()\n",
    "# Plotagem dos dados para uma faixa de 0 a 800 \n",
    "plt.plot(t_data, p_data)\n",
>>>>>>> Stashed changes
    "plt.xlabel(\"$t$\", fontsize=18)\n",
    "plt.ylabel(\"$p$\", rotation=0, fontsize=18)\n",
    "#plt.xlim(0,800)\n",
    "save_fig(\"mackeyglass\")\n",
    "plt.show()"
   ]
  },
  {
<<<<<<< Updated upstream
=======
   "cell_type": "code",
   "execution_count": 34,
   "id": "a16cc278",
   "metadata": {},
   "outputs": [
    {
     "name": "stdout",
     "output_type": "stream",
     "text": [
      "O comprimento do conjunto de treinamento é: 3400\n",
      "O comprimento do conjunto de teste é: 750\n",
      "O comprimento do conjunto de validação é: 850\n",
      "[0.188921   0.19091041 0.19443267 0.19917811 0.20488197 0.2113189\n",
      " 0.21829773 0.22565703 0.23326116 0.24099693 0.24877041 0.25650438\n",
      " 0.26413596 0.27161461 0.27890031 0.28596206 0.29277651 0.29932678\n",
      " 0.30560142 0.31159358]\n"
     ]
    }
   ],
   "source": [
    "# Separando o conjunto de dados do conjunto de teste, sendo os últimos 750 amostras reservadas para o conjunto de teste\n",
    "# e criando o conjunto de validação\n",
    "# para validação foram usados 20% dos últimos dados de treinamento\n",
    "p_test = p_data[-750:]\n",
    "t_test = t_data[-750:]\n",
    "p_train = p_data[:-850-750]\n",
    "t_train = t_data[:-850-750]\n",
    "p_validation = p_data[-850-750:-750]\n",
    "t_validation = t_data[-850-750:-750]\n",
    "teste_matriz = p_data[:-4980]\n",
    "print(\"O comprimento do conjunto de treinamento é:\",len(p_train))\n",
    "print(\"O comprimento do conjunto de teste é:\",len(p_test))\n",
    "print(\"O comprimento do conjunto de validação é:\",len(p_validation))\n",
    "print(teste_matriz)"
   ]
  },
  {
   "cell_type": "code",
   "execution_count": 51,
   "id": "e8b26841",
   "metadata": {},
   "outputs": [
    {
     "name": "stdout",
     "output_type": "stream",
     "text": [
      "[0.2565043809365608, 0.2641359639814603, 0.2716146094151473, 0.2789003128379029, 0.2859620644983993, 0.2927765145292346, 0.2993267763988331, 0.3056014169734897, 0.3115935763213048]\n",
      "[[1.         0.188921   0.19091041 0.19443267 0.19917811 0.20488197]\n",
      " [1.         0.19091041 0.19443267 0.19917811 0.20488197 0.2113189 ]\n",
      " [1.         0.19443267 0.19917811 0.20488197 0.2113189  0.21829773]\n",
      " [1.         0.19917811 0.20488197 0.2113189  0.21829773 0.22565703]\n",
      " [1.         0.20488197 0.2113189  0.21829773 0.22565703 0.23326116]\n",
      " [1.         0.2113189  0.21829773 0.22565703 0.23326116 0.24099693]\n",
      " [1.         0.21829773 0.22565703 0.23326116 0.24099693 0.24877041]\n",
      " [1.         0.22565703 0.23326116 0.24099693 0.24877041 0.25650438]\n",
      " [1.         0.23326116 0.24099693 0.24877041 0.25650438 0.26413596]]\n",
      "9\n",
      "9\n"
     ]
    }
   ],
   "source": [
    "L=7  # Horizonte de predição\n",
    "K=5  # Hiperparâmetro K\n",
    "# Criação da matriz de dados passados (x_data) e da matriz de dados futuros (y)\n",
    "# Criação da matriz y com os dados futuros para L=7\n",
    "y = []\n",
    "for i in range(K+L-1,len(teste_matriz)):\n",
    "     y.append(teste_matriz[i])\n",
    "# coluna de uns que será concatenada com a matriz x para multiplicar com o termo w0 posteriormente\n",
    "one = np.ones(shape=(len(y)))\n",
    "# Criação da matriz x_data apenas com os dados passados dado K\n",
    "x_data = []\n",
    "indice=0\n",
    "# será uma matriz com o shift 1 posição do vetor a cada linha\n",
    "for j in range (0,len(y)):   # define as linhas da matriz\n",
    "    l=[]                     # matriz = lista de listas\n",
    "    for i in range (0,K):    # define o que tem em cada linha\n",
    "        l.append(teste_matriz[indice+i])    # coloca em cada vetor K elementos do conjunto de dados\n",
    "    x_data.append(l)                        # coloca os vetores na matriz\n",
    "    indice=indice+1                         # Para cada iteração do loop de j a variável indice soma 1\n",
    "                                            # Com isso, cada linha começa com uma posição a mais do que anterior\n",
    "# Concatenação do vetor de uns com a matriz x_data para formar a matriz x final\n",
    "x=np.column_stack((one,x_data))\n",
    "print(y)\n",
    "print(x)\n",
    "print(len(x))\n",
    "print(len(y))"
   ]
  },
  {
>>>>>>> Stashed changes
   "cell_type": "markdown",
   "id": "793ba1ae",
   "metadata": {},
   "source": [
    "# Segunda Parte"
   ]
  },
  {
   "cell_type": "code",
   "execution_count": 19,
   "id": "dd7dbb35",
   "metadata": {},
   "outputs": [],
   "source": [
    "# Where to save the figures\n",
    "PROJECT_ROOT_DIR = \".\"\n",
    "CHAPTER_ID = \"segunda_parte\"\n",
    "IMAGES_PATH = os.path.join(PROJECT_ROOT_DIR, \"images\", CHAPTER_ID)\n",
    "os.makedirs(IMAGES_PATH, exist_ok=True)"
   ]
  }
 ],
 "metadata": {
  "kernelspec": {
   "display_name": "Python 3 (ipykernel)",
   "language": "python",
   "name": "python3"
  },
  "language_info": {
   "codemirror_mode": {
    "name": "ipython",
    "version": 3
   },
   "file_extension": ".py",
   "mimetype": "text/x-python",
   "name": "python",
   "nbconvert_exporter": "python",
   "pygments_lexer": "ipython3",
   "version": "3.9.7"
  }
 },
 "nbformat": 4,
 "nbformat_minor": 5
}
