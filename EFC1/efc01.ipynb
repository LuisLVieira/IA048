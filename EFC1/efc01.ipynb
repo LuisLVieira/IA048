{
 "cells": [
  {
   "cell_type": "code",
   "execution_count": 1,
   "id": "48188ad4",
   "metadata": {},
   "outputs": [],
   "source": [
    "# Python ≥3.5 is required\n",
    "import sys\n",
    "assert sys.version_info >= (3, 5)\n",
    "import pandas as pd\n",
    "\n",
    "# Scikit-Learn ≥0.20 is required\n",
    "import sklearn\n",
    "assert sklearn.__version__ >= \"0.20\"\n",
    "from sklearn import linear_model\n",
    "from sklearn.linear_model import LinearRegression\n",
    "from sklearn.metrics import mean_squared_error\n",
    "\n",
    "# Common imports\n",
    "import numpy as np\n",
    "import matplotlib.pyplot as plt\n",
    "import matplotlib as mpl\n",
    "from math import sqrt\n",
    "import os"
   ]
  },
  {
   "cell_type": "markdown",
   "id": "382780f9",
   "metadata": {},
   "source": [
    "# Primeira Parte: Sistema de Mackey-Glass"
   ]
  },
  {
   "cell_type": "code",
   "execution_count": 2,
   "id": "dfc3fe4e",
   "metadata": {},
   "outputs": [],
   "source": [
    "# to make this notebook's output stable across runs\n",
    "np.random.seed(42)\n",
    "\n",
    "# To plot pretty figures\n",
    "%matplotlib inline\n",
    "mpl.rc('axes', labelsize=14)\n",
    "mpl.rc('xtick', labelsize=12)\n",
    "mpl.rc('ytick', labelsize=12)\n",
    "\n",
    "# Where to save the figures\n",
    "PROJECT_ROOT_DIR = \".\"\n",
    "CHAPTER_ID = \"primeira_parte\"\n",
    "IMAGES_PATH = os.path.join(PROJECT_ROOT_DIR, \"images\", CHAPTER_ID)\n",
    "os.makedirs(IMAGES_PATH, exist_ok=True)\n",
    "\n",
    "def save_fig(fig_id, tight_layout=True, fig_extension=\"png\", resolution=300):\n",
    "    path = os.path.join(IMAGES_PATH, fig_id + \".\" + fig_extension)\n",
    "    print(\"Saving figure\", fig_id)\n",
    "    if tight_layout:\n",
    "        plt.tight_layout()\n",
    "    plt.savefig(path, format=fig_extension, dpi=resolution)"
   ]
  },
  {
   "cell_type": "markdown",
   "id": "ffd2320b",
   "metadata": {},
   "source": [
    "## Importando e interpretando os dados"
   ]
  },
  {
   "cell_type": "code",
   "execution_count": 3,
   "id": "4d0ae308",
   "metadata": {},
   "outputs": [],
   "source": [
    "DATASET_PATH = os.path.join(\"datasets\")"
   ]
  },
  {
   "cell_type": "code",
   "execution_count": 4,
   "id": "4c8ab8c2",
   "metadata": {},
   "outputs": [],
   "source": [
    "# Importação do dataset\n",
    "def load_mackeyglass_data(dataset_path=DATASET_PATH):\n",
    "    csv_path = os.path.join(dataset_path, \"mackeyglass.csv\")\n",
    "    return pd.read_csv(csv_path)"
   ]
  },
  {
   "cell_type": "code",
   "execution_count": 6,
   "id": "eb1765ac",
   "metadata": {
    "scrolled": true
   },
   "outputs": [
    {
     "data": {
      "text/html": [
       "<div>\n",
       "<style scoped>\n",
       "    .dataframe tbody tr th:only-of-type {\n",
       "        vertical-align: middle;\n",
       "    }\n",
       "\n",
       "    .dataframe tbody tr th {\n",
       "        vertical-align: top;\n",
       "    }\n",
       "\n",
       "    .dataframe thead th {\n",
       "        text-align: right;\n",
       "    }\n",
       "</style>\n",
       "<table border=\"1\" class=\"dataframe\">\n",
       "  <thead>\n",
       "    <tr style=\"text-align: right;\">\n",
       "      <th></th>\n",
       "      <th>t</th>\n",
       "      <th>p</th>\n",
       "    </tr>\n",
       "  </thead>\n",
       "  <tbody>\n",
       "    <tr>\n",
       "      <th>0</th>\n",
       "      <td>0.0</td>\n",
       "      <td>0.188921</td>\n",
       "    </tr>\n",
       "    <tr>\n",
       "      <th>1</th>\n",
       "      <td>1.0</td>\n",
       "      <td>0.190910</td>\n",
       "    </tr>\n",
       "    <tr>\n",
       "      <th>2</th>\n",
       "      <td>2.0</td>\n",
       "      <td>0.194433</td>\n",
       "    </tr>\n",
       "    <tr>\n",
       "      <th>3</th>\n",
       "      <td>3.0</td>\n",
       "      <td>0.199178</td>\n",
       "    </tr>\n",
       "    <tr>\n",
       "      <th>4</th>\n",
       "      <td>4.0</td>\n",
       "      <td>0.204882</td>\n",
       "    </tr>\n",
       "  </tbody>\n",
       "</table>\n",
       "</div>"
      ],
      "text/plain": [
       "     t         p\n",
       "0  0.0  0.188921\n",
       "1  1.0  0.190910\n",
       "2  2.0  0.194433\n",
       "3  3.0  0.199178\n",
       "4  4.0  0.204882"
      ]
     },
     "execution_count": 6,
     "metadata": {},
     "output_type": "execute_result"
    }
   ],
   "source": [
    "mackeyglass = load_mackeyglass_data()\n",
    "mackeyglass.head()"
   ]
  },
  {
   "cell_type": "code",
   "execution_count": 7,
   "id": "64479e79",
   "metadata": {
    "scrolled": false
   },
   "outputs": [
    {
     "name": "stdout",
     "output_type": "stream",
     "text": [
      "<class 'pandas.core.frame.DataFrame'>\n",
      "RangeIndex: 5000 entries, 0 to 4999\n",
      "Data columns (total 2 columns):\n",
      " #   Column  Non-Null Count  Dtype  \n",
      "---  ------  --------------  -----  \n",
      " 0   t       5000 non-null   float64\n",
      " 1   p       5000 non-null   float64\n",
      "dtypes: float64(2)\n",
      "memory usage: 78.2 KB\n"
     ]
    }
   ],
   "source": [
    "mackeyglass.info()"
   ]
  },
  {
   "cell_type": "code",
   "execution_count": 8,
   "id": "2334bf4d",
   "metadata": {},
   "outputs": [
    {
     "data": {
      "text/html": [
       "<div>\n",
       "<style scoped>\n",
       "    .dataframe tbody tr th:only-of-type {\n",
       "        vertical-align: middle;\n",
       "    }\n",
       "\n",
       "    .dataframe tbody tr th {\n",
       "        vertical-align: top;\n",
       "    }\n",
       "\n",
       "    .dataframe thead th {\n",
       "        text-align: right;\n",
       "    }\n",
       "</style>\n",
       "<table border=\"1\" class=\"dataframe\">\n",
       "  <thead>\n",
       "    <tr style=\"text-align: right;\">\n",
       "      <th></th>\n",
       "      <th>t</th>\n",
       "      <th>p</th>\n",
       "    </tr>\n",
       "  </thead>\n",
       "  <tbody>\n",
       "    <tr>\n",
       "      <th>count</th>\n",
       "      <td>5000.000000</td>\n",
       "      <td>5000.000000</td>\n",
       "    </tr>\n",
       "    <tr>\n",
       "      <th>mean</th>\n",
       "      <td>2499.500000</td>\n",
       "      <td>0.908258</td>\n",
       "    </tr>\n",
       "    <tr>\n",
       "      <th>std</th>\n",
       "      <td>1443.520003</td>\n",
       "      <td>0.263595</td>\n",
       "    </tr>\n",
       "    <tr>\n",
       "      <th>min</th>\n",
       "      <td>0.000000</td>\n",
       "      <td>0.188921</td>\n",
       "    </tr>\n",
       "    <tr>\n",
       "      <th>25%</th>\n",
       "      <td>1249.750000</td>\n",
       "      <td>0.746241</td>\n",
       "    </tr>\n",
       "    <tr>\n",
       "      <th>50%</th>\n",
       "      <td>2499.500000</td>\n",
       "      <td>0.944711</td>\n",
       "    </tr>\n",
       "    <tr>\n",
       "      <th>75%</th>\n",
       "      <td>3749.250000</td>\n",
       "      <td>1.109743</td>\n",
       "    </tr>\n",
       "    <tr>\n",
       "      <th>max</th>\n",
       "      <td>4999.000000</td>\n",
       "      <td>1.366951</td>\n",
       "    </tr>\n",
       "  </tbody>\n",
       "</table>\n",
       "</div>"
      ],
      "text/plain": [
       "                 t            p\n",
       "count  5000.000000  5000.000000\n",
       "mean   2499.500000     0.908258\n",
       "std    1443.520003     0.263595\n",
       "min       0.000000     0.188921\n",
       "25%    1249.750000     0.746241\n",
       "50%    2499.500000     0.944711\n",
       "75%    3749.250000     1.109743\n",
       "max    4999.000000     1.366951"
      ]
     },
     "execution_count": 8,
     "metadata": {},
     "output_type": "execute_result"
    }
   ],
   "source": [
    "mackeyglass.describe()"
   ]
  },
  {
   "cell_type": "code",
   "execution_count": 9,
   "id": "9b87781e",
   "metadata": {
    "scrolled": false
   },
   "outputs": [
    {
     "name": "stdout",
     "output_type": "stream",
     "text": [
      "Saving figure mackeyglass\n"
     ]
    },
    {
     "data": {
      "image/png": "[encoded data removed]",
      "text/plain": [
       "<Figure size 640x480 with 1 Axes>"
      ]
     },
     "metadata": {},
     "output_type": "display_data"
    }
   ],
   "source": [
    "# Coversão para numpy\n",
    "t_data = mackeyglass['t'].to_numpy()\n",
    "p_data = mackeyglass['p'].to_numpy()\n",
    "# Plotagem dos dados \n",
    "plt.plot(t_data, p_data)\n",
    "plt.xlabel(\"$t$\", fontsize=18)\n",
    "plt.ylabel(\"$p$\", rotation=0, fontsize=18)\n",
    "plt.xlim(0,800)\n",
    "save_fig(\"mackeyglass\")\n",
    "plt.show()"
   ]
  },
  {
   "cell_type": "code",
   "execution_count": 10,
   "id": "a16cc278",
   "metadata": {},
   "outputs": [
    {
     "name": "stdout",
     "output_type": "stream",
     "text": [
      "O comprimento do conjunto de treinamento é: 3400\n",
      "O comprimento do conjunto de validação é: 850\n",
      "O comprimento do conjunto de teste é: 750\n",
      "[0.188921   0.19091041 0.19443267 0.19917811 0.20488197 0.2113189\n",
      " 0.21829773 0.22565703 0.23326116 0.24099693 0.24877041 0.25650438\n",
      " 0.26413596 0.27161461 0.27890031 0.28596206 0.29277651 0.29932678\n",
      " 0.30560142 0.31159358]\n"
     ]
    }
   ],
   "source": [
    "# Separando o conjunto de dados do conjunto de teste, sendo os últimos 750 amostras reservadas para o conjunto de teste\n",
    "# e criando o conjunto de validação\n",
    "# Para a validação foram utilizados 20% dos últimos dados de treinamento\n",
    "p_test = p_data[-750:]\n",
    "t_test = t_data[-750:]\n",
    "p_train = p_data[:-850-750]\n",
    "t_train = t_data[:-850-750]\n",
    "p_validation = p_data[-850-750:-750]\n",
    "p_teste = t_data[-850-750:-750]\n",
    "teste_matriz = p_data[:-4980]\n",
    "print(\"O comprimento do conjunto de treinamento é:\",len(p_train))\n",
    "print(\"O comprimento do conjunto de validação é:\",len(p_validation))\n",
    "print(\"O comprimento do conjunto de teste é:\",len(p_test))\n",
    "print(teste_matriz)"
   ]
  },
  {
   "cell_type": "code",
   "execution_count": 12,
   "id": "e8b26841",
   "metadata": {},
   "outputs": [
    {
     "name": "stdout",
     "output_type": "stream",
     "text": [
      "[[1.         0.188921   0.19091041 0.19443267 0.19917811 0.20488197]\n",
      " [1.         0.19091041 0.19443267 0.19917811 0.20488197 0.2113189 ]\n",
      " [1.         0.19443267 0.19917811 0.20488197 0.2113189  0.21829773]\n",
      " [1.         0.19917811 0.20488197 0.2113189  0.21829773 0.22565703]\n",
      " [1.         0.20488197 0.2113189  0.21829773 0.22565703 0.23326116]\n",
      " [1.         0.2113189  0.21829773 0.22565703 0.23326116 0.24099693]\n",
      " [1.         0.21829773 0.22565703 0.23326116 0.24099693 0.24877041]\n",
      " [1.         0.22565703 0.23326116 0.24099693 0.24877041 0.25650438]\n",
      " [1.         0.23326116 0.24099693 0.24877041 0.25650438 0.26413596]]\n",
      "[0.2565043809365608, 0.2641359639814603, 0.2716146094151473, 0.2789003128379029, 0.2859620644983993, 0.2927765145292346, 0.2993267763988331, 0.3056014169734897, 0.3115935763213048]\n",
      "9\n",
      "9\n"
     ]
    }
   ],
   "source": [
    "# Criando a matriz dos dados passados x \n",
    "L=7    # Horizonte de predição\n",
    "K=5    # Hiperparâmetro K\n",
    "# Criação da matriz y com os dados futuros para L=7\n",
    "y = []\n",
    "for i in range(K+L-1, len(teste_matriz)):\n",
    "    y.append(teste_matriz[i])\n",
    "# coluna de uns que será concatenada com a matriz x_data\n",
    "one = np.ones(shape=(len(y)))\n",
    "#Criação da matriz x_data com K valores passados\n",
    "x_data = []\n",
    "indice=0\n",
    "# matriz com o shift 1 posição do vetor a cada linha\n",
    "for j in range (0,len(y)):    # Define as linhas da matriz\n",
    "    l=[]                      # Matriz = listade listas\n",
    "    for i in range (0,K):     # define o que tem em cada linha da matriz\n",
    "        l.append(teste_matriz[indice+i])       # Coloca em cada vetor K elementos do conjunto de dados\n",
    "    x_data.append(l)                           # Coloca os vetores na matriz\n",
    "    indice=indice+1                           # Para cada iteração do loop de j a variável indice soma 1\n",
    "                                              # Com isso cada linha começa com uma posição a mais que a anterior\n",
    "# Concatenação do vetor de uns com a matriz x_data para formar a matriz x\n",
    "x=np.column_stack((one,x_data))\n",
    "print(x)\n",
    "print(y)\n",
    "print(len(x))\n",
    "print(len(y))"
   ]
  },
  {
   "cell_type": "markdown",
   "id": "793ba1ae",
   "metadata": {},
   "source": [
    "# Segunda Parte"
   ]
  },
  {
   "cell_type": "code",
   "execution_count": 13,
   "id": "dd7dbb35",
   "metadata": {},
   "outputs": [],
   "source": [
    "# Where to save the figures\n",
    "PROJECT_ROOT_DIR = \".\"\n",
    "CHAPTER_ID = \"segunda_parte\"\n",
    "IMAGES_PATH = os.path.join(PROJECT_ROOT_DIR, \"images\", CHAPTER_ID)\n",
    "os.makedirs(IMAGES_PATH, exist_ok=True)"
   ]
  },
  {
   "cell_type": "code",
   "execution_count": null,
   "id": "62d1af42",
   "metadata": {},
   "outputs": [],
   "source": []
  }
 ],
 "metadata": {
  "kernelspec": {
   "display_name": "Python 3 (ipykernel)",
   "language": "python",
   "name": "python3"
  },
  "language_info": {
   "codemirror_mode": {
    "name": "ipython",
    "version": 3
   },
   "file_extension": ".py",
   "mimetype": "text/x-python",
   "name": "python",
   "nbconvert_exporter": "python",
   "pygments_lexer": "ipython3",
   "version": "3.8.6"
  }
 },
 "nbformat": 4,
 "nbformat_minor": 5
}
