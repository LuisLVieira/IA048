{
 "cells": [
  {
   "cell_type": "markdown",
   "id": "abffd8a1",
   "metadata": {},
   "source": [
    "#  Bibliotecas"
   ]
  },
  {
   "cell_type": "code",
   "execution_count": null,
   "id": "48188ad4",
   "metadata": {},
   "outputs": [],
   "source": [
    "# Python ≥3.5 is required\n",
    "import sys\n",
    "assert sys.version_info >= (3, 5)\n",
    "\n",
    "# Scikit-Learn ≥0.20 is required\n",
    "import sklearn\n",
    "assert sklearn.__version__ >= \"0.20\"\n",
    "from sklearn.linear_model import LinearRegression\n",
    "\n",
    "# Common imports\n",
    "import numpy as np\n",
    "import os\n",
    "import matplotlib as mpl\n",
    "import matplotlib.pyplot as plt\n",
    "import pandas as pd"
   ]
  },
  {
   "cell_type": "markdown",
   "id": "8bd4bfdd",
   "metadata": {},
   "source": [
    "## Funções "
   ]
  },
  {
   "cell_type": "code",
   "execution_count": null,
   "id": "3d048b3f",
   "metadata": {},
   "outputs": [],
   "source": [
    "# Para gráficos e figuras:\n",
    "mpl.rc('axes', labelsize=14)\n",
    "mpl.rc('xtick', labelsize=12)\n",
    "mpl.rc('ytick', labelsize=12)\n",
    "\n",
    "# Onde salvar as figuras\n",
    "PROJECT_ROOT_DIR = \".\"\n",
    "CHAPTER_ID = \"primeira_parte\"\n",
    "IMAGES_PATH = os.path.join(PROJECT_ROOT_DIR, \"images\", CHAPTER_ID)\n",
    "os.makedirs(IMAGES_PATH, exist_ok=True)\n",
    "\n",
    "def save_fig(fig_id, tight_layout=True, fig_extension=\"png\", resolution=300):\n",
    "    path = os.path.join(IMAGES_PATH, fig_id + \".\" + fig_extension)\n",
    "    print(\"Saving figure\", fig_id)\n",
    "    if tight_layout:\n",
    "        plt.tight_layout()\n",
    "    plt.savefig(path, format=fig_extension, dpi=resolution)\n",
    "\n",
    "# para importar dados:  \n",
    "DATASET_PATH = os.path.join(\"datasets\")\n",
    "\n",
    "def load_mackeyglass_data(dataset_path=DATASET_PATH):\n",
    "    csv_path = os.path.join(dataset_path, \"mackeyglass.csv\")\n",
    "    return pd.read_csv(csv_path)\n",
    "\n",
    "# Para separar conjuntos de treinamento:\n",
    "def split_train_test(data, test_ratio): # separa dados de teste (mais recentes) e de treinamento\n",
    "    test_set_size = int(len(data) * test_ratio) # define tamanho do conjunto de teste\n",
    "    train_set_size = len(data) - test_set_size # calcula tamanho do conjunto de treinamento\n",
    "    return data.iloc[:train_set_size], data.iloc[train_set_size:] # retorna conjunto de treinamento e de dados, respectivamente"
   ]
  },
  {
   "cell_type": "markdown",
   "id": "382780f9",
   "metadata": {},
   "source": [
    "# Primeira Parte: Sistema de Mackey-Glass"
   ]
  },
  {
   "cell_type": "code",
   "execution_count": null,
   "id": "dfc3fe4e",
   "metadata": {},
   "outputs": [],
   "source": [
    "# to make this notebook's output stable across runs\n",
    "np.random.seed(42)"
   ]
  },
  {
   "cell_type": "markdown",
   "id": "ffd2320b",
   "metadata": {},
   "source": [
    "### Importando e interpretando os dados"
   ]
  },
  {
   "cell_type": "code",
   "execution_count": null,
   "id": "eb1765ac",
   "metadata": {
    "scrolled": true
   },
   "outputs": [],
   "source": [
    "mackeyglass = load_mackeyglass_data()\n",
    "mackeyglass.head()"
   ]
  },
  {
   "cell_type": "code",
   "execution_count": null,
   "id": "64479e79",
   "metadata": {
    "scrolled": false
   },
   "outputs": [],
   "source": [
    "mackeyglass.info()"
   ]
  },
  {
   "cell_type": "code",
   "execution_count": null,
   "id": "9b87781e",
   "metadata": {
    "scrolled": true
   },
   "outputs": [],
   "source": [
    "t = mackeyglass['t'].to_numpy()\n",
    "p = mackeyglass['p'].to_numpy()\n",
    "\n",
    "plt.plot(t, p)\n",
    "plt.xlabel(\"$t$\", fontsize=18)\n",
    "plt.ylabel(\"$p$\", rotation=0, fontsize=18)\n",
    "plt.xlim(0,800)\n",
    "save_fig(\"mackeyglass\")\n",
    "plt.show()"
   ]
  },
  {
   "cell_type": "markdown",
   "id": "6bb3c80e",
   "metadata": {},
   "source": [
    "### Conjunto de teste"
   ]
  },
  {
   "cell_type": "code",
   "execution_count": null,
   "id": "d9eae82d",
   "metadata": {
    "scrolled": true
   },
   "outputs": [],
   "source": [
    "train_set, test_set = split_train_test(mackeyglass, .15)\n",
    "train_set"
   ]
  },
  {
   "cell_type": "markdown",
   "id": "008f8d0d",
   "metadata": {},
   "source": [
    "### Conjunto de Validação"
   ]
  },
  {
   "cell_type": "code",
   "execution_count": null,
   "id": "a7a223ca",
   "metadata": {},
   "outputs": [],
   "source": [
    "train_set, validation_set = split_train_test(train_set, .2)"
   ]
  },
  {
   "cell_type": "markdown",
   "id": "9efd358b",
   "metadata": {},
   "source": [
    "### Montagem das Matrizes"
   ]
  },
  {
   "cell_type": "code",
   "execution_count": null,
   "id": "66f854d8",
   "metadata": {},
   "outputs": [],
   "source": [
    "L = 7 # horizonte de predição"
   ]
  },
  {
   "cell_type": "code",
   "execution_count": null,
   "id": "1320b709",
   "metadata": {},
   "outputs": [],
   "source": [
    "# Montagem das matrizes para treinamento e predição\n",
    "def monta_matrizes(dataset, K, L=L):            \n",
    "    t = dataset['t'].to_numpy()  \n",
    "    p = dataset['p'].to_numpy()\n",
    "    y_size = len(dataset) - (L+K-1) # número de linhas da matriz y\n",
    "    y = p[(L+K-1):] # matriz y: valores de p[L+K-1:(end)]\n",
    "    x = np.array([np.append(np.array([1]),p[0:K])]) # cria primeira linha da matrix x \n",
    "    x = np.flip(x,1) # espelha primeira linha da matriz\n",
    "    for i in np.arange(1, y_size, 1):    # cria uma linha nova de x a cada iteração (y_size iterações)\n",
    "        c_aux = [np.append(np.array([1]),p[i:K+i])]  # cria a coluna de p[i] até p[K+i-1]\n",
    "        c = np.flip(c_aux,1)   # espelha a linha\n",
    "        x = np.concatenate((x, c)) # adiciona linha à matriz \n",
    "    t_y = t[(L+K-1):] # valores de t das saídas y(t)\n",
    "    return t_y, x, y\n",
    "    \n",
    "def new_matrices(K, new_set, dataset=mackeyglass, L=L):\n",
    "    t = dataset['t'].to_numpy() # separa t e p do dataset original (mackeyglass)\n",
    "    p = dataset['p'].to_numpy()\n",
    "    t_new = new_set['t'].to_numpy() # separa colunas 't' e 'p' do conjunto de validação\n",
    "    y_new = new_set['p'].to_numpy()\n",
    "    x_new = np.array([np.append(np.array([1]),p[int(t_new[0])-L-K:int(t_new[0])-L])]) # cria primeira linha da matrix x \n",
    "    x_new = np.flip(x_new,1) # espelha primeira linha da matriz    \n",
    "    for i in np.arange(1, len(y_new), 1):    # cria uma linha nova de x a cada iteração \n",
    "        c_aux = [np.append(np.array([1]),p[int(t_new[0])-L+i-K:int(t_new[0])-L+i])]  # cria nova coluna\n",
    "        c = np.flip(c_aux,1)  # espelha a linha\n",
    "        x_new = np.concatenate((x_new, c)) # adiciona linha à matriz\n",
    "    return t_new, x_new, y_new\n",
    "\n",
    "# Montagem das matrizes para Segunda Parte do EFC\n",
    "def monta_matrizes_sem_um(dataset, K, L=L):            \n",
    "    t = dataset['t'].to_numpy()  \n",
    "    p = dataset['p'].to_numpy()\n",
    "    y_size = len(dataset) - (L+K-1) # número de linhas da matriz y\n",
    "    y = p[(L+K-1):] # matriz y: valores de p[L+K-1:(end)]\n",
    "    x = np.array([p[0:K]]) # cria primeira linha da matrix x \n",
    "    x = np.flip(x,1) # espelha primeira linha da matriz\n",
    "    for i in np.arange(1, y_size, 1):    # cria uma linha nova de x a cada iteração (y_size iterações)\n",
    "        c_aux = [p[i:K+i]]  # cria a coluna de p[i] até p[K+i-1]\n",
    "        c = np.flip(c_aux,1)   # espelha a linha\n",
    "        x = np.concatenate((x, c)) # adiciona linha à matriz \n",
    "    t_y = t[(L+K-1):] # valores de t das saídas y(t)\n",
    "    return t_y, x, y\n",
    "\n",
    "def new_matrices_sem_um(K, new_set, dataset=mackeyglass, L=L):\n",
    "    t = dataset['t'].to_numpy() # separa t e p do dataset original (mackeyglass)\n",
    "    p = dataset['p'].to_numpy()\n",
    "    t_new = new_set['t'].to_numpy() # separa colunas 't' e 'p' do conjunto de validação\n",
    "    y_new = new_set['p'].to_numpy()\n",
    "    x_new = np.array([p[int(t_new[0])-L-K:int(t_new[0])-L]]) # cria primeira linha da matrix x \n",
    "    x_new = np.flip(x_new,1) # espelha primeira linha da matriz    \n",
    "    for i in np.arange(1, len(y_new), 1):    # cria uma linha nova de x a cada iteração \n",
    "        c_aux = [p[int(t_new[0])-L+i-K:int(t_new[0])-L+i]]  # cria nova coluna\n",
    "        c = np.flip(c_aux,1)  # espelha a linha\n",
    "        x_new = np.concatenate((x_new, c)) # adiciona linha à matriz\n",
    "    return t_new, x_new, y_new"
   ]
  },
  {
   "cell_type": "markdown",
   "id": "7b2fd017",
   "metadata": {},
   "source": [
    "## Regressão Linear"
   ]
  },
  {
   "cell_type": "code",
   "execution_count": null,
   "id": "457166a8",
   "metadata": {
    "scrolled": true
   },
   "outputs": [],
   "source": [
    "lin_reg = LinearRegression()"
   ]
  },
  {
   "cell_type": "markdown",
   "id": "3bb6904f",
   "metadata": {},
   "source": [
    "### Erro quadrático médio (RMSE)"
   ]
  },
  {
   "cell_type": "code",
   "execution_count": null,
   "id": "8819c74b",
   "metadata": {
    "scrolled": true
   },
   "outputs": [],
   "source": [
    "def rmse(y, y_predict):  # calcula erro quadrático médio\n",
    "    e = y - y_predict # erro entre estimado e real\n",
    "    rmse = np.sqrt(sum(e**2)/len(e)) # erro quadrático médio\n",
    "    return rmse\n",
    "\n",
    "#np.sqrt(sklearn.metrics.mean_squared_error(y, y_predict)) # rmse pelo scikit learn"
   ]
  },
  {
   "cell_type": "markdown",
   "id": "4f67088e",
   "metadata": {},
   "source": [
    "## Validação Cruzada"
   ]
  },
  {
   "cell_type": "code",
   "execution_count": null,
   "id": "9d14b16e",
   "metadata": {
    "scrolled": true
   },
   "outputs": [],
   "source": [
    "rmse_matrix = [] # RMSE para cada valor de K na validação \n",
    "rmse_matrix_train = [] # RMSE para cada valor de K no treinamento\n",
    "\n",
    "K_max = 50\n",
    "\n",
    "for K in np.arange(1,K_max+1,1): # realiza a regressão linear para K = 1 a 50 e calcula o RMSE para os conjuntos de treinamento e de teste\n",
    "    t_y, x, y = monta_matrizes(train_set, K) # monta matrizes para treinamento\n",
    "    lin_reg.fit(x, y) # fit com matrizes de treinamento\n",
    "    t_val, x_val, y_val = new_matrices(K, validation_set) # monta matrizes para validação\n",
    "    y_predict = lin_reg.predict(x_val) # estima valores do conjunto de validação com coeficientes obtidos no treinamento\n",
    "    y_predict_train = lin_reg.predict(x) # estima valores do conjunto de treinamento\n",
    "    rmse_matrix = np.append(rmse_matrix, rmse(y_val, y_predict)) # calcula o RMSE da validação para cada valor de K\n",
    "    rmse_matrix_train = np.append(rmse_matrix_train, rmse(y, y_predict_train))"
   ]
  },
  {
   "cell_type": "code",
   "execution_count": null,
   "id": "0f52efbb",
   "metadata": {},
   "outputs": [],
   "source": [
    "# gráfico do RMSE para cada K nos conjuntos de treinamento e validação\n",
    "plt.plot(np.arange(1,K_max+1,1), rmse_matrix_train, \"r-\", label = \"Treinamento\")\n",
    "plt.plot(np.arange(1,K_max+1,1), rmse_matrix, \"b-\", label = \"Validação\")\n",
    "plt.xlabel(\"$K$\", fontsize=18)\n",
    "plt.ylabel(\"$RMSE$\", rotation=90, fontsize=18)\n",
    "plt.legend(loc=\"best\", fontsize=14)\n",
    "save_fig(\"validation\")\n",
    "plt.show()"
   ]
  },
  {
   "cell_type": "code",
   "execution_count": null,
   "id": "44b041b8",
   "metadata": {},
   "outputs": [],
   "source": [
    "print(rmse_matrix[45:])\n",
    "rmse_min = min(rmse_matrix)\n",
    "rmse_min_index = np.where(rmse_matrix == rmse_min)\n",
    "print(rmse_min_index)\n",
    "\n",
    "# melhor K: 50"
   ]
  },
  {
   "cell_type": "code",
   "execution_count": null,
   "id": "cc4ef0b3",
   "metadata": {},
   "outputs": [],
   "source": [
    "# Estimativa com K=50 (erro mínimo) para conjunto de teste \n",
    "t_y, x, y = monta_matrizes(train_set, K=50)\n",
    "lin_reg.fit(x, y) # fit com matrizes de treinamento\n",
    "t_test, x_test, y_test = new_matrices(50, test_set) \n",
    "y_predict = lin_reg.predict(x_test) # estima valores do conjunto de teste com coeficientes obtidos no treinamento\n",
    "\n",
    "# gráfico com amostras de teste e estimativas com K = 50 (erro mínimo)\n",
    "plt.plot(t_test, y_test, \"r-\", label = \"Real\")\n",
    "plt.plot(t_test, y_predict, \"b--\", label = \"Predição\")\n",
    "plt.xlabel(\"$t$\", fontsize=18)\n",
    "plt.ylabel(\"$p$\", rotation=0, fontsize=18)\n",
    "plt.legend(loc=\"upper left\", fontsize=14)\n",
    "plt.legend(loc=\"best\", fontsize=14)\n",
    "save_fig(\"teste\")\n",
    "plt.show()"
   ]
  },
  {
   "cell_type": "markdown",
   "id": "793ba1ae",
   "metadata": {},
   "source": [
    "# Segunda Parte"
   ]
  },
  {
   "cell_type": "code",
   "execution_count": null,
   "id": "dd7dbb35",
   "metadata": {},
   "outputs": [],
   "source": [
    "# Where to save the figures\n",
    "PROJECT_ROOT_DIR = \".\"\n",
    "CHAPTER_ID = \"segunda_parte\"\n",
    "IMAGES_PATH = os.path.join(PROJECT_ROOT_DIR, \"images\", CHAPTER_ID)\n",
    "os.makedirs(IMAGES_PATH, exist_ok=True)"
   ]
  },
  {
   "cell_type": "code",
   "execution_count": null,
   "id": "07ae581b",
   "metadata": {},
   "outputs": [],
   "source": []
  },
  {
   "cell_type": "code",
   "execution_count": null,
   "id": "630f06b8",
   "metadata": {},
   "outputs": [],
   "source": []
  }
 ],
 "metadata": {
  "kernelspec": {
   "display_name": "Python 3 (ipykernel)",
   "language": "python",
   "name": "python3"
  },
  "language_info": {
   "codemirror_mode": {
    "name": "ipython",
    "version": 3
   },
   "file_extension": ".py",
   "mimetype": "text/x-python",
   "name": "python",
   "nbconvert_exporter": "python",
   "pygments_lexer": "ipython3",
   "version": "3.9.7"
  }
 },
 "nbformat": 4,
 "nbformat_minor": 5
}
