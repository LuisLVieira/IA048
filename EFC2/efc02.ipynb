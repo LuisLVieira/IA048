{
 "cells": [
  {
   "cell_type": "code",
   "execution_count": 109,
   "id": "38dc2f8e",
   "metadata": {},
   "outputs": [],
   "source": [
    "# É necessário antes de tudo instalar a biblioteca medmnist\n",
    "# Importações\n",
    "import numpy as np\n",
    "from matplotlib import pyplot as plt\n",
    "import os \n",
    "from tqdm import tqdm\n",
    "import medmnist\n",
    "from medmnist import INFO, Evaluator\n",
    "from sklearn.linear_model import LogisticRegression\n",
    "from sklearn.model_selection import GridSearchCV\n",
    "from sklearn import metrics"
   ]
  },
  {
   "cell_type": "markdown",
   "id": "1e35a347",
   "metadata": {},
   "source": [
    "## Importação da base de dados Breastmnist"
   ]
  },
  {
   "cell_type": "code",
   "execution_count": 110,
   "id": "1bca6c44",
   "metadata": {},
   "outputs": [
    {
     "name": "stdout",
     "output_type": "stream",
     "text": [
      "MedMNIST v2.1.0 @ https://github.com/MedMNIST/MedMNIST/\n"
     ]
    }
   ],
   "source": [
    "print(f\"MedMNIST v{medmnist.__version__} @ {medmnist.HOMEPAGE}\")"
   ]
  },
  {
   "cell_type": "code",
   "execution_count": 111,
   "id": "8355ff61",
   "metadata": {},
   "outputs": [],
   "source": [
    "# Importando o dataset breastmnist\n",
    "data_flag = 'breastmnist'\n",
    "download = True\n",
    "\n",
    "info = INFO[data_flag]\n",
    "task = info['task']\n",
    "n_channels = info['n_channels']\n",
    "n_classes = len(info['label'])\n",
    "\n",
    "DataClass = getattr(medmnist, info['python_class'])"
   ]
  },
  {
   "cell_type": "code",
   "execution_count": 112,
   "id": "03b40acd",
   "metadata": {},
   "outputs": [
    {
     "name": "stdout",
     "output_type": "stream",
     "text": [
      "Using downloaded and verified file: C:\\Users\\Luis\\.medmnist\\breastmnist.npz\n",
      "Using downloaded and verified file: C:\\Users\\Luis\\.medmnist\\breastmnist.npz\n",
      "Using downloaded and verified file: C:\\Users\\Luis\\.medmnist\\breastmnist.npz\n"
     ]
    }
   ],
   "source": [
    "# carregando os dados\n",
    "train_dataset = DataClass(split='train', download=download)\n",
    "val_dataset = DataClass(split='val', download=download)\n",
    "test_dataset = DataClass(split='test', download=download)"
   ]
  },
  {
   "cell_type": "code",
   "execution_count": 113,
   "id": "b202c9b1",
   "metadata": {},
   "outputs": [
    {
     "name": "stdout",
     "output_type": "stream",
     "text": [
      "Dataset BreastMNIST (breastmnist)\n",
      "    Number of datapoints: 546\n",
      "    Root location: C:\\Users\\Luis\\.medmnist\n",
      "    Split: train\n",
      "    Task: binary-class\n",
      "    Number of channels: 1\n",
      "    Meaning of labels: {'0': 'malignant', '1': 'normal, benign'}\n",
      "    Number of samples: {'train': 546, 'val': 78, 'test': 156}\n",
      "    Description: The BreastMNIST is based on a dataset of 780 breast ultrasound images. It is categorized into 3 classes: normal, benign, and malignant. As we use low-resolution images, we simplify the task into binary classification by combining normal and benign as positive and classifying them against malignant as negative. We split the source dataset with a ratio of 7:1:2 into training, validation and test set. The source images of 1×500×500 are resized into 1×28×28.\n",
      "    License: CC BY 4.0\n"
     ]
    }
   ],
   "source": [
    "print(train_dataset)"
   ]
  },
  {
   "cell_type": "code",
   "execution_count": 114,
   "id": "fa14e1e7",
   "metadata": {},
   "outputs": [
    {
     "name": "stdout",
     "output_type": "stream",
     "text": [
      "Dataset BreastMNIST (breastmnist)\n",
      "    Number of datapoints: 78\n",
      "    Root location: C:\\Users\\Luis\\.medmnist\n",
      "    Split: val\n",
      "    Task: binary-class\n",
      "    Number of channels: 1\n",
      "    Meaning of labels: {'0': 'malignant', '1': 'normal, benign'}\n",
      "    Number of samples: {'train': 546, 'val': 78, 'test': 156}\n",
      "    Description: The BreastMNIST is based on a dataset of 780 breast ultrasound images. It is categorized into 3 classes: normal, benign, and malignant. As we use low-resolution images, we simplify the task into binary classification by combining normal and benign as positive and classifying them against malignant as negative. We split the source dataset with a ratio of 7:1:2 into training, validation and test set. The source images of 1×500×500 are resized into 1×28×28.\n",
      "    License: CC BY 4.0\n"
     ]
    }
   ],
   "source": [
    "print(val_dataset)"
   ]
  },
  {
   "cell_type": "code",
   "execution_count": 115,
   "id": "a8e33feb",
   "metadata": {},
   "outputs": [
    {
     "name": "stdout",
     "output_type": "stream",
     "text": [
      "Dataset BreastMNIST (breastmnist)\n",
      "    Number of datapoints: 156\n",
      "    Root location: C:\\Users\\Luis\\.medmnist\n",
      "    Split: test\n",
      "    Task: binary-class\n",
      "    Number of channels: 1\n",
      "    Meaning of labels: {'0': 'malignant', '1': 'normal, benign'}\n",
      "    Number of samples: {'train': 546, 'val': 78, 'test': 156}\n",
      "    Description: The BreastMNIST is based on a dataset of 780 breast ultrasound images. It is categorized into 3 classes: normal, benign, and malignant. As we use low-resolution images, we simplify the task into binary classification by combining normal and benign as positive and classifying them against malignant as negative. We split the source dataset with a ratio of 7:1:2 into training, validation and test set. The source images of 1×500×500 are resized into 1×28×28.\n",
      "    License: CC BY 4.0\n"
     ]
    }
   ],
   "source": [
    "print(test_dataset)"
   ]
  },
  {
   "cell_type": "code",
   "execution_count": 116,
   "id": "9e033bbf",
   "metadata": {},
   "outputs": [],
   "source": [
    "# Separando os labels por conjuntos:\n",
    "train_labels = train_dataset.labels\n",
    "val_labels = val_dataset.labels\n",
    "test_labels = test_dataset.labels"
   ]
  },
  {
   "cell_type": "code",
   "execution_count": 117,
   "id": "21244387",
   "metadata": {},
   "outputs": [],
   "source": [
    "# Separando as images por conjuntos:\n",
    "train_img = train_dataset.imgs\n",
    "val_img = val_dataset.imgs\n",
    "test_img = test_dataset.imgs"
   ]
  },
  {
   "cell_type": "code",
   "execution_count": 118,
   "id": "0ae24726",
   "metadata": {},
   "outputs": [
    {
     "name": "stdout",
     "output_type": "stream",
     "text": [
      "(546, 28, 28)\n",
      "(78, 28, 28)\n",
      "(156, 28, 28)\n"
     ]
    }
   ],
   "source": [
    "print(train_img.shape)\n",
    "print(val_img.shape)\n",
    "print(test_img.shape)"
   ]
  },
  {
   "cell_type": "code",
   "execution_count": 119,
   "id": "ed5fcb8e",
   "metadata": {},
   "outputs": [
    {
     "name": "stdout",
     "output_type": "stream",
     "text": [
      "(28, 28)\n"
     ]
    }
   ],
   "source": [
    "print(train_img[0].shape)"
   ]
  },
  {
   "cell_type": "code",
   "execution_count": 120,
   "id": "a2a20970",
   "metadata": {},
   "outputs": [
    {
     "name": "stdout",
     "output_type": "stream",
     "text": [
      "Rótulo: [1]\n"
     ]
    },
    {
     "data": {
      "text/plain": [
       "<matplotlib.image.AxesImage at 0x23ba7fbf220>"
      ]
     },
     "execution_count": 120,
     "metadata": {},
     "output_type": "execute_result"
    },
    {
     "data": {
      "image/png": "[encoded data removed]",
      "text/plain": [
       "<Figure size 640x480 with 1 Axes>"
      ]
     },
     "metadata": {},
     "output_type": "display_data"
    }
   ],
   "source": [
    "# Vizualização da primeira imagem do conjunto de treinamento\n",
    "print(f\"Rótulo: {train_labels[0]}\")\n",
    "plt.imshow(train_img[0],cmap=\"gray\")"
   ]
  },
  {
   "cell_type": "code",
   "execution_count": 121,
   "id": "2fc8f325",
   "metadata": {},
   "outputs": [
    {
     "name": "stdout",
     "output_type": "stream",
     "text": [
      "Rótulo: [0]\n"
     ]
    },
    {
     "data": {
      "text/plain": [
       "<matplotlib.image.AxesImage at 0x23ba815f9d0>"
      ]
     },
     "execution_count": 121,
     "metadata": {},
     "output_type": "execute_result"
    },
    {
     "data": {
      "image/png": "[encoded data removed]",
      "text/plain": [
       "<Figure size 640x480 with 1 Axes>"
      ]
     },
     "metadata": {},
     "output_type": "display_data"
    }
   ],
   "source": [
    "# Vizualização da quarta imagem do conjunto de treinamento\n",
    "print(f\"Rótulo: {train_labels[4]}\")\n",
    "plt.imshow(train_img[4],cmap=\"gray\")"
   ]
  },
  {
   "cell_type": "markdown",
   "id": "37fd02ab",
   "metadata": {},
   "source": [
    "## Análise do balanceamento das classes nos conjuntos disponíveis"
   ]
  },
  {
   "cell_type": "code",
   "execution_count": 122,
   "id": "dfa91475",
   "metadata": {},
   "outputs": [
    {
     "name": "stdout",
     "output_type": "stream",
     "text": [
      "No conjunto de treinamento há 147 classes negativas\n",
      "Porcentagem de classes negativas: 26.923076923076923 %\n",
      "No conjunto de treinamento há 399 classes positivas\n",
      "Porcentagem de classes positivas: 73.07692307692308 %\n"
     ]
    }
   ],
   "source": [
    "# Conjunto de treino\n",
    "num_negativas_t = (train_labels==0).sum()\n",
    "num_positivas_t = (train_labels==1).sum()\n",
    "p_negativas_t = num_negativas_t*100/len(train_labels)\n",
    "p_positivas_t = num_positivas_t*100/len(train_labels)\n",
    "print(\"No conjunto de treinamento há\",num_negativas_t, \"classes negativas\")\n",
    "print(\"Porcentagem de classes negativas:\",p_negativas_t,\"%\")\n",
    "print(\"No conjunto de treinamento há\",num_positivas_t, \"classes positivas\")\n",
    "print(\"Porcentagem de classes positivas:\",p_positivas_t,\"%\")"
   ]
  },
  {
   "cell_type": "code",
   "execution_count": 123,
   "id": "db81c768",
   "metadata": {},
   "outputs": [
    {
     "name": "stdout",
     "output_type": "stream",
     "text": [
      "No conjunto de validação há 21 classes negativas\n",
      "Porcentagem de classes negativas: 26.923076923076923 %\n",
      "No conjunto de validação há 57 classes positivas\n",
      "Porcentagem de classes positivas: 73.07692307692308 %\n"
     ]
    }
   ],
   "source": [
    "# Conjunto de validação\n",
    "num_negativas_v = (val_labels==0).sum()\n",
    "num_positivas_v = (val_labels==1).sum()\n",
    "p_negativas_v = num_negativas_v*100/len(val_labels)\n",
    "p_positivas_v = num_positivas_v*100/len(val_labels)\n",
    "print(\"No conjunto de validação há\",num_negativas_v, \"classes negativas\")\n",
    "print(\"Porcentagem de classes negativas:\",p_negativas_v,\"%\")\n",
    "print(\"No conjunto de validação há\",num_positivas_v, \"classes positivas\")\n",
    "print(\"Porcentagem de classes positivas:\",p_positivas_v,\"%\")"
   ]
  },
  {
   "cell_type": "code",
   "execution_count": 124,
   "id": "63367e18",
   "metadata": {},
   "outputs": [
    {
     "name": "stdout",
     "output_type": "stream",
     "text": [
      "No conjunto de teste há 42 classes negativas\n",
      "Porcentagem de classes negativas: 26.923076923076923 %\n",
      "No conjunto de teste há 114 classes positivas\n",
      "Porcentagem de classes positivas: 73.07692307692308 %\n"
     ]
    }
   ],
   "source": [
    "# Conjunto de teste\n",
    "num_negativas_tt = (test_labels==0).sum()\n",
    "num_positivas_tt = (test_labels==1).sum()\n",
    "p_negativas_tt = num_negativas_tt*100/len(test_labels)\n",
    "p_positivas_tt = num_positivas_tt*100/len(test_labels)\n",
    "print(\"No conjunto de teste há\",num_negativas_tt, \"classes negativas\")\n",
    "print(\"Porcentagem de classes negativas:\",p_negativas_tt,\"%\")\n",
    "print(\"No conjunto de teste há\",num_positivas_tt, \"classes positivas\")\n",
    "print(\"Porcentagem de classes positivas:\",p_positivas_tt,\"%\")"
   ]
  },
  {
   "cell_type": "markdown",
   "id": "d6b8aece",
   "metadata": {},
   "source": [
    "## Regressão Logística e Validação Cruzada"
   ]
  },
  {
   "cell_type": "code",
   "execution_count": 125,
   "id": "4b56854f",
   "metadata": {},
   "outputs": [
    {
     "name": "stdout",
     "output_type": "stream",
     "text": [
      "(546, 784)\n",
      "[[139 139 138 ...  51  42  40]\n",
      " [ 82  85  83 ...  26  22  19]\n",
      " [157 155 151 ...  77  79  72]\n",
      " ...\n",
      " [159 160 167 ...  50  55  56]\n",
      " [ 55  57  61 ...  14  15  15]\n",
      " [158 159 172 ...  20  21  20]]\n",
      "(78, 784)\n",
      "[[177 174 172 ...  27  32  33]\n",
      " [118 123 126 ...  14  14  14]\n",
      " [186 181 180 ...  22  20  20]\n",
      " ...\n",
      " [147 153 160 ...  76  66  55]\n",
      " [165 169 167 ...  21  25  27]\n",
      " [150 147 141 ...  19  19  19]]\n",
      "(156, 784)\n",
      "[[184 183 174 ...  15  18  20]\n",
      " [ 43  44  51 ...  12  12  11]\n",
      " [187 179 174 ...  46  42  41]\n",
      " ...\n",
      " [127 127 125 ...  23  24  24]\n",
      " [109 107 112 ...   1   1   1]\n",
      " [173 164 165 ...  17  18  19]]\n",
      "(624, 784)\n",
      "[[139 139 138 ...  51  42  40]\n",
      " [ 82  85  83 ...  26  22  19]\n",
      " [157 155 151 ...  77  79  72]\n",
      " ...\n",
      " [147 153 160 ...  76  66  55]\n",
      " [165 169 167 ...  21  25  27]\n",
      " [150 147 141 ...  19  19  19]]\n",
      "(546, 1)\n",
      "(78, 1)\n",
      "(156, 1)\n",
      "(624, 1)\n"
     ]
    }
   ],
   "source": [
    "# Preparando os dados para a regressão logística\n",
    "# Foi transformando o array de matrizes em um único array de dimensão compatível com as labels\n",
    "# Após essas transformações, cada linha dos conjuntos se refere a uma label\n",
    "x_train=np.reshape(train_img,(len(train_labels),28*28))\n",
    "x_val=np.reshape(val_img,(len(val_labels),28*28))\n",
    "x_test=np.reshape(test_img,(len(test_labels),28*28))\n",
    "y_train=train_labels\n",
    "y_val=val_labels\n",
    "y_test=test_labels\n",
    "# Criando o conjunto validação+treino para uso posterior\n",
    "x_tv=np.concatenate((x_train,x_val))\n",
    "y_tv=np.concatenate((y_train,y_val))\n",
    "print(x_train.shape)\n",
    "print(x_train)\n",
    "print(x_val.shape)\n",
    "print(x_val)\n",
    "print(x_test.shape)\n",
    "print(x_test)\n",
    "print(x_tv.shape)\n",
    "print(x_tv)\n",
    "print(y_train.shape)\n",
    "print(y_val.shape)\n",
    "print(y_test.shape)\n",
    "print(y_tv.shape)"
   ]
  },
  {
   "cell_type": "code",
   "execution_count": 126,
   "id": "376f48b0",
   "metadata": {},
   "outputs": [
    {
     "name": "stdout",
     "output_type": "stream",
     "text": [
      "(546, 784)\n",
      "(78, 784)\n",
      "(156, 784)\n",
      "(624, 784)\n"
     ]
    }
   ],
   "source": [
    "# Reescalonando os dados das imagens dividindo pelo valor máximo do conjunto completo que é 255\n",
    "x_train_n = x_train/255\n",
    "x_val_n = x_val/255\n",
    "x_test_n = x_test/255\n",
    "x_tv_n = x_tv/255\n",
    "print(x_train_n.shape)\n",
    "print(x_val_n.shape)\n",
    "print(x_test_n.shape)\n",
    "print(x_tv_n.shape)"
   ]
  },
  {
   "cell_type": "code",
   "execution_count": 127,
   "id": "88437630",
   "metadata": {},
   "outputs": [
    {
     "name": "stdout",
     "output_type": "stream",
     "text": [
      "[[0.05834878 0.94165122]\n",
      " [0.42038305 0.57961695]\n",
      " [0.32524313 0.67475687]\n",
      " [0.86714307 0.13285693]\n",
      " [0.46531428 0.53468572]\n",
      " [0.08908266 0.91091734]\n",
      " [0.07292876 0.92707124]\n",
      " [0.62444989 0.37555011]\n",
      " [0.0805747  0.9194253 ]\n",
      " [0.39020689 0.60979311]\n",
      " [0.28897765 0.71102235]\n",
      " [0.5200695  0.4799305 ]\n",
      " [0.33419819 0.66580181]\n",
      " [0.17997913 0.82002087]\n",
      " [0.59009362 0.40990638]\n",
      " [0.07877743 0.92122257]\n",
      " [0.34523132 0.65476868]\n",
      " [0.04077406 0.95922594]\n",
      " [0.39277575 0.60722425]\n",
      " [0.05610199 0.94389801]\n",
      " [0.92876562 0.07123438]\n",
      " [0.30365479 0.69634521]\n",
      " [0.32681273 0.67318727]\n",
      " [0.15225564 0.84774436]\n",
      " [0.09881965 0.90118035]\n",
      " [0.04982112 0.95017888]\n",
      " [0.32653061 0.67346939]\n",
      " [0.54257104 0.45742896]\n",
      " [0.97462006 0.02537994]\n",
      " [0.11660727 0.88339273]\n",
      " [0.46559369 0.53440631]\n",
      " [0.38329095 0.61670905]\n",
      " [0.02075876 0.97924124]\n",
      " [0.96764783 0.03235217]\n",
      " [0.06409812 0.93590188]\n",
      " [0.45777249 0.54222751]\n",
      " [0.02415066 0.97584934]\n",
      " [0.28463232 0.71536768]\n",
      " [0.37825575 0.62174425]\n",
      " [0.30178233 0.69821767]\n",
      " [0.13244528 0.86755472]\n",
      " [0.692221   0.307779  ]\n",
      " [0.1397525  0.8602475 ]\n",
      " [0.07194621 0.92805379]\n",
      " [0.67057109 0.32942891]\n",
      " [0.3244337  0.6755663 ]\n",
      " [0.07944612 0.92055388]\n",
      " [0.91566845 0.08433155]\n",
      " [0.32186365 0.67813635]\n",
      " [0.68406067 0.31593933]\n",
      " [0.08705202 0.91294798]\n",
      " [0.08200873 0.91799127]\n",
      " [0.25801942 0.74198058]\n",
      " [0.21863664 0.78136336]\n",
      " [0.23319775 0.76680225]\n",
      " [0.3751782  0.6248218 ]\n",
      " [0.89039231 0.10960769]\n",
      " [0.02363753 0.97636247]\n",
      " [0.08940893 0.91059107]\n",
      " [0.13956271 0.86043729]\n",
      " [0.02752417 0.97247583]\n",
      " [0.00417921 0.99582079]\n",
      " [0.11367113 0.88632887]\n",
      " [0.90136573 0.09863427]\n",
      " [0.37494509 0.62505491]\n",
      " [0.11679473 0.88320527]\n",
      " [0.97809557 0.02190443]\n",
      " [0.91422412 0.08577588]\n",
      " [0.34359702 0.65640298]\n",
      " [0.27349734 0.72650266]\n",
      " [0.14307398 0.85692602]\n",
      " [0.7015954  0.2984046 ]\n",
      " [0.08435142 0.91564858]\n",
      " [0.64427985 0.35572015]\n",
      " [0.89467424 0.10532576]\n",
      " [0.29346189 0.70653811]\n",
      " [0.67610775 0.32389225]\n",
      " [0.14880637 0.85119363]]\n",
      "(78, 2)\n",
      "0.8846153846153846\n",
      "0.8589743589743589\n",
      "0.7948717948717948\n"
     ]
    },
    {
     "name": "stderr",
     "output_type": "stream",
     "text": [
      "c:\\users\\luis\\appdata\\local\\programs\\python\\python38\\lib\\site-packages\\sklearn\\utils\\validation.py:1111: DataConversionWarning: A column-vector y was passed when a 1d array was expected. Please change the shape of y to (n_samples, ), for example using ravel().\n",
      "  y = column_or_1d(y, warn=True)\n"
     ]
    }
   ],
   "source": [
    "# Testando a Regressão Logística\n",
    "# Como o dataset é pequeno, foi escolhido o solver liblinear \n",
    "# Foi escolhido 3000 como o número máximo de iterações, penalidade do tipo l2 com fator de regularização C de 1\n",
    "lr = LogisticRegression(penalty='l2', C=1, class_weight='balanced', solver='liblinear', max_iter=3000)\n",
    "lr.fit(x_train_n, y_train)\n",
    "# Probabilidades estimadas\n",
    "y_proba = lr.predict_proba(x_val_n)\n",
    "# Acurácia média\n",
    "score_train= lr.score(x_train_n, y_train)\n",
    "score_val= lr.score(x_val_n, y_val)\n",
    "score_test= lr.score(x_test_n, y_test)\n",
    "print(y_proba)\n",
    "print(y_proba.shape)\n",
    "print(score_train)\n",
    "print(score_val)\n",
    "print(score_test)"
   ]
  },
  {
   "cell_type": "code",
   "execution_count": 128,
   "id": "58c7a7dc",
   "metadata": {},
   "outputs": [
    {
     "name": "stdout",
     "output_type": "stream",
     "text": [
      "Fitting 5 folds for each of 54 candidates, totalling 270 fits\n",
      "[CV 1/5] END C=1000, class_weight=balanced, penalty=none;, score=nan total time=   0.0s\n",
      "[CV 2/5] END C=1000, class_weight=balanced, penalty=none;, score=nan total time=   0.0s\n",
      "[CV 3/5] END C=1000, class_weight=balanced, penalty=none;, score=nan total time=   0.0s\n",
      "[CV 4/5] END C=1000, class_weight=balanced, penalty=none;, score=nan total time=   0.0s\n",
      "[CV 5/5] END C=1000, class_weight=balanced, penalty=none;, score=nan total time=   0.0s\n"
     ]
    },
    {
     "name": "stderr",
     "output_type": "stream",
     "text": [
      "c:\\users\\luis\\appdata\\local\\programs\\python\\python38\\lib\\site-packages\\sklearn\\utils\\validation.py:1111: DataConversionWarning: A column-vector y was passed when a 1d array was expected. Please change the shape of y to (n_samples, ), for example using ravel().\n",
      "  y = column_or_1d(y, warn=True)\n"
     ]
    },
    {
     "name": "stdout",
     "output_type": "stream",
     "text": [
      "[CV 1/5] END C=1000, class_weight=balanced, penalty=l1;, score=0.736 total time=   1.4s\n"
     ]
    },
    {
     "name": "stderr",
     "output_type": "stream",
     "text": [
      "c:\\users\\luis\\appdata\\local\\programs\\python\\python38\\lib\\site-packages\\sklearn\\utils\\validation.py:1111: DataConversionWarning: A column-vector y was passed when a 1d array was expected. Please change the shape of y to (n_samples, ), for example using ravel().\n",
      "  y = column_or_1d(y, warn=True)\n"
     ]
    },
    {
     "name": "stdout",
     "output_type": "stream",
     "text": [
      "[CV 2/5] END C=1000, class_weight=balanced, penalty=l1;, score=0.768 total time=   1.6s\n"
     ]
    },
    {
     "name": "stderr",
     "output_type": "stream",
     "text": [
      "c:\\users\\luis\\appdata\\local\\programs\\python\\python38\\lib\\site-packages\\sklearn\\utils\\validation.py:1111: DataConversionWarning: A column-vector y was passed when a 1d array was expected. Please change the shape of y to (n_samples, ), for example using ravel().\n",
      "  y = column_or_1d(y, warn=True)\n"
     ]
    },
    {
     "name": "stdout",
     "output_type": "stream",
     "text": [
      "[CV 3/5] END C=1000, class_weight=balanced, penalty=l1;, score=0.792 total time=   1.4s\n"
     ]
    },
    {
     "name": "stderr",
     "output_type": "stream",
     "text": [
      "c:\\users\\luis\\appdata\\local\\programs\\python\\python38\\lib\\site-packages\\sklearn\\utils\\validation.py:1111: DataConversionWarning: A column-vector y was passed when a 1d array was expected. Please change the shape of y to (n_samples, ), for example using ravel().\n",
      "  y = column_or_1d(y, warn=True)\n"
     ]
    },
    {
     "name": "stdout",
     "output_type": "stream",
     "text": [
      "[CV 4/5] END C=1000, class_weight=balanced, penalty=l1;, score=0.752 total time=   1.3s\n"
     ]
    },
    {
     "name": "stderr",
     "output_type": "stream",
     "text": [
      "c:\\users\\luis\\appdata\\local\\programs\\python\\python38\\lib\\site-packages\\sklearn\\utils\\validation.py:1111: DataConversionWarning: A column-vector y was passed when a 1d array was expected. Please change the shape of y to (n_samples, ), for example using ravel().\n",
      "  y = column_or_1d(y, warn=True)\n"
     ]
    },
    {
     "name": "stdout",
     "output_type": "stream",
     "text": [
      "[CV 5/5] END C=1000, class_weight=balanced, penalty=l1;, score=0.798 total time=   1.4s\n"
     ]
    },
    {
     "name": "stderr",
     "output_type": "stream",
     "text": [
      "c:\\users\\luis\\appdata\\local\\programs\\python\\python38\\lib\\site-packages\\sklearn\\utils\\validation.py:1111: DataConversionWarning: A column-vector y was passed when a 1d array was expected. Please change the shape of y to (n_samples, ), for example using ravel().\n",
      "  y = column_or_1d(y, warn=True)\n"
     ]
    },
    {
     "name": "stdout",
     "output_type": "stream",
     "text": [
      "[CV 1/5] END C=1000, class_weight=balanced, penalty=l2;, score=0.744 total time=   0.1s\n"
     ]
    },
    {
     "name": "stderr",
     "output_type": "stream",
     "text": [
      "c:\\users\\luis\\appdata\\local\\programs\\python\\python38\\lib\\site-packages\\sklearn\\utils\\validation.py:1111: DataConversionWarning: A column-vector y was passed when a 1d array was expected. Please change the shape of y to (n_samples, ), for example using ravel().\n",
      "  y = column_or_1d(y, warn=True)\n"
     ]
    },
    {
     "name": "stdout",
     "output_type": "stream",
     "text": [
      "[CV 2/5] END C=1000, class_weight=balanced, penalty=l2;, score=0.752 total time=   0.2s\n"
     ]
    },
    {
     "name": "stderr",
     "output_type": "stream",
     "text": [
      "c:\\users\\luis\\appdata\\local\\programs\\python\\python38\\lib\\site-packages\\sklearn\\utils\\validation.py:1111: DataConversionWarning: A column-vector y was passed when a 1d array was expected. Please change the shape of y to (n_samples, ), for example using ravel().\n",
      "  y = column_or_1d(y, warn=True)\n"
     ]
    },
    {
     "name": "stdout",
     "output_type": "stream",
     "text": [
      "[CV 3/5] END C=1000, class_weight=balanced, penalty=l2;, score=0.792 total time=   0.2s\n"
     ]
    },
    {
     "name": "stderr",
     "output_type": "stream",
     "text": [
      "c:\\users\\luis\\appdata\\local\\programs\\python\\python38\\lib\\site-packages\\sklearn\\utils\\validation.py:1111: DataConversionWarning: A column-vector y was passed when a 1d array was expected. Please change the shape of y to (n_samples, ), for example using ravel().\n",
      "  y = column_or_1d(y, warn=True)\n"
     ]
    },
    {
     "name": "stdout",
     "output_type": "stream",
     "text": [
      "[CV 4/5] END C=1000, class_weight=balanced, penalty=l2;, score=0.752 total time=   0.1s\n"
     ]
    },
    {
     "name": "stderr",
     "output_type": "stream",
     "text": [
      "c:\\users\\luis\\appdata\\local\\programs\\python\\python38\\lib\\site-packages\\sklearn\\utils\\validation.py:1111: DataConversionWarning: A column-vector y was passed when a 1d array was expected. Please change the shape of y to (n_samples, ), for example using ravel().\n",
      "  y = column_or_1d(y, warn=True)\n"
     ]
    },
    {
     "name": "stdout",
     "output_type": "stream",
     "text": [
      "[CV 5/5] END C=1000, class_weight=balanced, penalty=l2;, score=0.798 total time=   0.2s\n",
      "[CV 1/5] END C=1000, class_weight=None, penalty=none;, score=nan total time=   0.0s\n",
      "[CV 2/5] END C=1000, class_weight=None, penalty=none;, score=nan total time=   0.0s\n",
      "[CV 3/5] END C=1000, class_weight=None, penalty=none;, score=nan total time=   0.0s\n",
      "[CV 4/5] END C=1000, class_weight=None, penalty=none;, score=nan total time=   0.0s\n",
      "[CV 5/5] END C=1000, class_weight=None, penalty=none;, score=nan total time=   0.0s\n"
     ]
    },
    {
     "name": "stderr",
     "output_type": "stream",
     "text": [
      "c:\\users\\luis\\appdata\\local\\programs\\python\\python38\\lib\\site-packages\\sklearn\\utils\\validation.py:1111: DataConversionWarning: A column-vector y was passed when a 1d array was expected. Please change the shape of y to (n_samples, ), for example using ravel().\n",
      "  y = column_or_1d(y, warn=True)\n"
     ]
    },
    {
     "name": "stdout",
     "output_type": "stream",
     "text": [
      "[CV 1/5] END C=1000, class_weight=None, penalty=l1;, score=0.776 total time=   0.5s\n"
     ]
    },
    {
     "name": "stderr",
     "output_type": "stream",
     "text": [
      "c:\\users\\luis\\appdata\\local\\programs\\python\\python38\\lib\\site-packages\\sklearn\\utils\\validation.py:1111: DataConversionWarning: A column-vector y was passed when a 1d array was expected. Please change the shape of y to (n_samples, ), for example using ravel().\n",
      "  y = column_or_1d(y, warn=True)\n"
     ]
    },
    {
     "name": "stdout",
     "output_type": "stream",
     "text": [
      "[CV 2/5] END C=1000, class_weight=None, penalty=l1;, score=0.792 total time=   0.5s\n"
     ]
    },
    {
     "name": "stderr",
     "output_type": "stream",
     "text": [
      "c:\\users\\luis\\appdata\\local\\programs\\python\\python38\\lib\\site-packages\\sklearn\\utils\\validation.py:1111: DataConversionWarning: A column-vector y was passed when a 1d array was expected. Please change the shape of y to (n_samples, ), for example using ravel().\n",
      "  y = column_or_1d(y, warn=True)\n"
     ]
    },
    {
     "name": "stdout",
     "output_type": "stream",
     "text": [
      "[CV 3/5] END C=1000, class_weight=None, penalty=l1;, score=0.784 total time=   0.5s\n"
     ]
    },
    {
     "name": "stderr",
     "output_type": "stream",
     "text": [
      "c:\\users\\luis\\appdata\\local\\programs\\python\\python38\\lib\\site-packages\\sklearn\\utils\\validation.py:1111: DataConversionWarning: A column-vector y was passed when a 1d array was expected. Please change the shape of y to (n_samples, ), for example using ravel().\n",
      "  y = column_or_1d(y, warn=True)\n"
     ]
    },
    {
     "name": "stdout",
     "output_type": "stream",
     "text": [
      "[CV 4/5] END C=1000, class_weight=None, penalty=l1;, score=0.728 total time=   0.5s\n"
     ]
    },
    {
     "name": "stderr",
     "output_type": "stream",
     "text": [
      "c:\\users\\luis\\appdata\\local\\programs\\python\\python38\\lib\\site-packages\\sklearn\\utils\\validation.py:1111: DataConversionWarning: A column-vector y was passed when a 1d array was expected. Please change the shape of y to (n_samples, ), for example using ravel().\n",
      "  y = column_or_1d(y, warn=True)\n"
     ]
    },
    {
     "name": "stdout",
     "output_type": "stream",
     "text": [
      "[CV 5/5] END C=1000, class_weight=None, penalty=l1;, score=0.815 total time=   0.5s\n"
     ]
    },
    {
     "name": "stderr",
     "output_type": "stream",
     "text": [
      "c:\\users\\luis\\appdata\\local\\programs\\python\\python38\\lib\\site-packages\\sklearn\\utils\\validation.py:1111: DataConversionWarning: A column-vector y was passed when a 1d array was expected. Please change the shape of y to (n_samples, ), for example using ravel().\n",
      "  y = column_or_1d(y, warn=True)\n"
     ]
    },
    {
     "name": "stdout",
     "output_type": "stream",
     "text": [
      "[CV 1/5] END C=1000, class_weight=None, penalty=l2;, score=0.744 total time=   0.2s\n"
     ]
    },
    {
     "name": "stderr",
     "output_type": "stream",
     "text": [
      "c:\\users\\luis\\appdata\\local\\programs\\python\\python38\\lib\\site-packages\\sklearn\\utils\\validation.py:1111: DataConversionWarning: A column-vector y was passed when a 1d array was expected. Please change the shape of y to (n_samples, ), for example using ravel().\n",
      "  y = column_or_1d(y, warn=True)\n"
     ]
    },
    {
     "name": "stdout",
     "output_type": "stream",
     "text": [
      "[CV 2/5] END C=1000, class_weight=None, penalty=l2;, score=0.776 total time=   0.2s\n"
     ]
    },
    {
     "name": "stderr",
     "output_type": "stream",
     "text": [
      "c:\\users\\luis\\appdata\\local\\programs\\python\\python38\\lib\\site-packages\\sklearn\\utils\\validation.py:1111: DataConversionWarning: A column-vector y was passed when a 1d array was expected. Please change the shape of y to (n_samples, ), for example using ravel().\n",
      "  y = column_or_1d(y, warn=True)\n"
     ]
    },
    {
     "name": "stdout",
     "output_type": "stream",
     "text": [
      "[CV 3/5] END C=1000, class_weight=None, penalty=l2;, score=0.784 total time=   0.2s\n"
     ]
    },
    {
     "name": "stderr",
     "output_type": "stream",
     "text": [
      "c:\\users\\luis\\appdata\\local\\programs\\python\\python38\\lib\\site-packages\\sklearn\\utils\\validation.py:1111: DataConversionWarning: A column-vector y was passed when a 1d array was expected. Please change the shape of y to (n_samples, ), for example using ravel().\n",
      "  y = column_or_1d(y, warn=True)\n"
     ]
    },
    {
     "name": "stdout",
     "output_type": "stream",
     "text": [
      "[CV 4/5] END C=1000, class_weight=None, penalty=l2;, score=0.744 total time=   0.2s\n"
     ]
    },
    {
     "name": "stderr",
     "output_type": "stream",
     "text": [
      "c:\\users\\luis\\appdata\\local\\programs\\python\\python38\\lib\\site-packages\\sklearn\\utils\\validation.py:1111: DataConversionWarning: A column-vector y was passed when a 1d array was expected. Please change the shape of y to (n_samples, ), for example using ravel().\n",
      "  y = column_or_1d(y, warn=True)\n"
     ]
    },
    {
     "name": "stdout",
     "output_type": "stream",
     "text": [
      "[CV 5/5] END C=1000, class_weight=None, penalty=l2;, score=0.798 total time=   0.2s\n",
      "[CV 1/5] END C=100, class_weight=balanced, penalty=none;, score=nan total time=   0.0s\n",
      "[CV 2/5] END C=100, class_weight=balanced, penalty=none;, score=nan total time=   0.0s\n",
      "[CV 3/5] END C=100, class_weight=balanced, penalty=none;, score=nan total time=   0.0s\n",
      "[CV 4/5] END C=100, class_weight=balanced, penalty=none;, score=nan total time=   0.0s\n",
      "[CV 5/5] END C=100, class_weight=balanced, penalty=none;, score=nan total time=   0.0s\n"
     ]
    },
    {
     "name": "stderr",
     "output_type": "stream",
     "text": [
      "c:\\users\\luis\\appdata\\local\\programs\\python\\python38\\lib\\site-packages\\sklearn\\utils\\validation.py:1111: DataConversionWarning: A column-vector y was passed when a 1d array was expected. Please change the shape of y to (n_samples, ), for example using ravel().\n",
      "  y = column_or_1d(y, warn=True)\n"
     ]
    },
    {
     "name": "stdout",
     "output_type": "stream",
     "text": [
      "[CV 1/5] END C=100, class_weight=balanced, penalty=l1;, score=0.760 total time=   2.3s\n"
     ]
    },
    {
     "name": "stderr",
     "output_type": "stream",
     "text": [
      "c:\\users\\luis\\appdata\\local\\programs\\python\\python38\\lib\\site-packages\\sklearn\\utils\\validation.py:1111: DataConversionWarning: A column-vector y was passed when a 1d array was expected. Please change the shape of y to (n_samples, ), for example using ravel().\n",
      "  y = column_or_1d(y, warn=True)\n"
     ]
    },
    {
     "name": "stdout",
     "output_type": "stream",
     "text": [
      "[CV 2/5] END C=100, class_weight=balanced, penalty=l1;, score=0.728 total time=   2.3s\n"
     ]
    },
    {
     "name": "stderr",
     "output_type": "stream",
     "text": [
      "c:\\users\\luis\\appdata\\local\\programs\\python\\python38\\lib\\site-packages\\sklearn\\utils\\validation.py:1111: DataConversionWarning: A column-vector y was passed when a 1d array was expected. Please change the shape of y to (n_samples, ), for example using ravel().\n",
      "  y = column_or_1d(y, warn=True)\n"
     ]
    },
    {
     "name": "stdout",
     "output_type": "stream",
     "text": [
      "[CV 3/5] END C=100, class_weight=balanced, penalty=l1;, score=0.816 total time=   2.0s\n"
     ]
    },
    {
     "name": "stderr",
     "output_type": "stream",
     "text": [
      "c:\\users\\luis\\appdata\\local\\programs\\python\\python38\\lib\\site-packages\\sklearn\\utils\\validation.py:1111: DataConversionWarning: A column-vector y was passed when a 1d array was expected. Please change the shape of y to (n_samples, ), for example using ravel().\n",
      "  y = column_or_1d(y, warn=True)\n"
     ]
    },
    {
     "name": "stdout",
     "output_type": "stream",
     "text": [
      "[CV 4/5] END C=100, class_weight=balanced, penalty=l1;, score=0.760 total time=   1.9s\n"
     ]
    },
    {
     "name": "stderr",
     "output_type": "stream",
     "text": [
      "c:\\users\\luis\\appdata\\local\\programs\\python\\python38\\lib\\site-packages\\sklearn\\utils\\validation.py:1111: DataConversionWarning: A column-vector y was passed when a 1d array was expected. Please change the shape of y to (n_samples, ), for example using ravel().\n",
      "  y = column_or_1d(y, warn=True)\n"
     ]
    },
    {
     "name": "stdout",
     "output_type": "stream",
     "text": [
      "[CV 5/5] END C=100, class_weight=balanced, penalty=l1;, score=0.798 total time=   2.0s\n"
     ]
    },
    {
     "name": "stderr",
     "output_type": "stream",
     "text": [
      "c:\\users\\luis\\appdata\\local\\programs\\python\\python38\\lib\\site-packages\\sklearn\\utils\\validation.py:1111: DataConversionWarning: A column-vector y was passed when a 1d array was expected. Please change the shape of y to (n_samples, ), for example using ravel().\n",
      "  y = column_or_1d(y, warn=True)\n"
     ]
    },
    {
     "name": "stdout",
     "output_type": "stream",
     "text": [
      "[CV 1/5] END C=100, class_weight=balanced, penalty=l2;, score=0.744 total time=   0.1s\n"
     ]
    },
    {
     "name": "stderr",
     "output_type": "stream",
     "text": [
      "c:\\users\\luis\\appdata\\local\\programs\\python\\python38\\lib\\site-packages\\sklearn\\utils\\validation.py:1111: DataConversionWarning: A column-vector y was passed when a 1d array was expected. Please change the shape of y to (n_samples, ), for example using ravel().\n",
      "  y = column_or_1d(y, warn=True)\n"
     ]
    },
    {
     "name": "stdout",
     "output_type": "stream",
     "text": [
      "[CV 2/5] END C=100, class_weight=balanced, penalty=l2;, score=0.760 total time=   0.1s\n"
     ]
    },
    {
     "name": "stderr",
     "output_type": "stream",
     "text": [
      "c:\\users\\luis\\appdata\\local\\programs\\python\\python38\\lib\\site-packages\\sklearn\\utils\\validation.py:1111: DataConversionWarning: A column-vector y was passed when a 1d array was expected. Please change the shape of y to (n_samples, ), for example using ravel().\n",
      "  y = column_or_1d(y, warn=True)\n"
     ]
    },
    {
     "name": "stdout",
     "output_type": "stream",
     "text": [
      "[CV 3/5] END C=100, class_weight=balanced, penalty=l2;, score=0.784 total time=   0.1s\n"
     ]
    },
    {
     "name": "stderr",
     "output_type": "stream",
     "text": [
      "c:\\users\\luis\\appdata\\local\\programs\\python\\python38\\lib\\site-packages\\sklearn\\utils\\validation.py:1111: DataConversionWarning: A column-vector y was passed when a 1d array was expected. Please change the shape of y to (n_samples, ), for example using ravel().\n",
      "  y = column_or_1d(y, warn=True)\n"
     ]
    },
    {
     "name": "stdout",
     "output_type": "stream",
     "text": [
      "[CV 4/5] END C=100, class_weight=balanced, penalty=l2;, score=0.760 total time=   0.1s\n"
     ]
    },
    {
     "name": "stderr",
     "output_type": "stream",
     "text": [
      "c:\\users\\luis\\appdata\\local\\programs\\python\\python38\\lib\\site-packages\\sklearn\\utils\\validation.py:1111: DataConversionWarning: A column-vector y was passed when a 1d array was expected. Please change the shape of y to (n_samples, ), for example using ravel().\n",
      "  y = column_or_1d(y, warn=True)\n"
     ]
    },
    {
     "name": "stdout",
     "output_type": "stream",
     "text": [
      "[CV 5/5] END C=100, class_weight=balanced, penalty=l2;, score=0.798 total time=   0.2s\n",
      "[CV 1/5] END C=100, class_weight=None, penalty=none;, score=nan total time=   0.0s\n",
      "[CV 2/5] END C=100, class_weight=None, penalty=none;, score=nan total time=   0.0s\n",
      "[CV 3/5] END C=100, class_weight=None, penalty=none;, score=nan total time=   0.0s\n",
      "[CV 4/5] END C=100, class_weight=None, penalty=none;, score=nan total time=   0.0s\n",
      "[CV 5/5] END C=100, class_weight=None, penalty=none;, score=nan total time=   0.0s\n"
     ]
    },
    {
     "name": "stderr",
     "output_type": "stream",
     "text": [
      "c:\\users\\luis\\appdata\\local\\programs\\python\\python38\\lib\\site-packages\\sklearn\\utils\\validation.py:1111: DataConversionWarning: A column-vector y was passed when a 1d array was expected. Please change the shape of y to (n_samples, ), for example using ravel().\n",
      "  y = column_or_1d(y, warn=True)\n"
     ]
    },
    {
     "name": "stdout",
     "output_type": "stream",
     "text": [
      "[CV 1/5] END C=100, class_weight=None, penalty=l1;, score=0.744 total time=   0.8s\n"
     ]
    },
    {
     "name": "stderr",
     "output_type": "stream",
     "text": [
      "c:\\users\\luis\\appdata\\local\\programs\\python\\python38\\lib\\site-packages\\sklearn\\utils\\validation.py:1111: DataConversionWarning: A column-vector y was passed when a 1d array was expected. Please change the shape of y to (n_samples, ), for example using ravel().\n",
      "  y = column_or_1d(y, warn=True)\n"
     ]
    },
    {
     "name": "stdout",
     "output_type": "stream",
     "text": [
      "[CV 2/5] END C=100, class_weight=None, penalty=l1;, score=0.744 total time=   0.9s\n"
     ]
    },
    {
     "name": "stderr",
     "output_type": "stream",
     "text": [
      "c:\\users\\luis\\appdata\\local\\programs\\python\\python38\\lib\\site-packages\\sklearn\\utils\\validation.py:1111: DataConversionWarning: A column-vector y was passed when a 1d array was expected. Please change the shape of y to (n_samples, ), for example using ravel().\n",
      "  y = column_or_1d(y, warn=True)\n"
     ]
    },
    {
     "name": "stdout",
     "output_type": "stream",
     "text": [
      "[CV 3/5] END C=100, class_weight=None, penalty=l1;, score=0.800 total time=   0.8s\n"
     ]
    },
    {
     "name": "stderr",
     "output_type": "stream",
     "text": [
      "c:\\users\\luis\\appdata\\local\\programs\\python\\python38\\lib\\site-packages\\sklearn\\utils\\validation.py:1111: DataConversionWarning: A column-vector y was passed when a 1d array was expected. Please change the shape of y to (n_samples, ), for example using ravel().\n",
      "  y = column_or_1d(y, warn=True)\n"
     ]
    },
    {
     "name": "stdout",
     "output_type": "stream",
     "text": [
      "[CV 4/5] END C=100, class_weight=None, penalty=l1;, score=0.744 total time=   0.7s\n"
     ]
    },
    {
     "name": "stderr",
     "output_type": "stream",
     "text": [
      "c:\\users\\luis\\appdata\\local\\programs\\python\\python38\\lib\\site-packages\\sklearn\\utils\\validation.py:1111: DataConversionWarning: A column-vector y was passed when a 1d array was expected. Please change the shape of y to (n_samples, ), for example using ravel().\n",
      "  y = column_or_1d(y, warn=True)\n"
     ]
    },
    {
     "name": "stdout",
     "output_type": "stream",
     "text": [
      "[CV 5/5] END C=100, class_weight=None, penalty=l1;, score=0.798 total time=   0.9s\n"
     ]
    },
    {
     "name": "stderr",
     "output_type": "stream",
     "text": [
      "c:\\users\\luis\\appdata\\local\\programs\\python\\python38\\lib\\site-packages\\sklearn\\utils\\validation.py:1111: DataConversionWarning: A column-vector y was passed when a 1d array was expected. Please change the shape of y to (n_samples, ), for example using ravel().\n",
      "  y = column_or_1d(y, warn=True)\n"
     ]
    },
    {
     "name": "stdout",
     "output_type": "stream",
     "text": [
      "[CV 1/5] END C=100, class_weight=None, penalty=l2;, score=0.760 total time=   0.2s\n"
     ]
    },
    {
     "name": "stderr",
     "output_type": "stream",
     "text": [
      "c:\\users\\luis\\appdata\\local\\programs\\python\\python38\\lib\\site-packages\\sklearn\\utils\\validation.py:1111: DataConversionWarning: A column-vector y was passed when a 1d array was expected. Please change the shape of y to (n_samples, ), for example using ravel().\n",
      "  y = column_or_1d(y, warn=True)\n"
     ]
    },
    {
     "name": "stdout",
     "output_type": "stream",
     "text": [
      "[CV 2/5] END C=100, class_weight=None, penalty=l2;, score=0.784 total time=   0.2s\n"
     ]
    },
    {
     "name": "stderr",
     "output_type": "stream",
     "text": [
      "c:\\users\\luis\\appdata\\local\\programs\\python\\python38\\lib\\site-packages\\sklearn\\utils\\validation.py:1111: DataConversionWarning: A column-vector y was passed when a 1d array was expected. Please change the shape of y to (n_samples, ), for example using ravel().\n",
      "  y = column_or_1d(y, warn=True)\n"
     ]
    },
    {
     "name": "stdout",
     "output_type": "stream",
     "text": [
      "[CV 3/5] END C=100, class_weight=None, penalty=l2;, score=0.768 total time=   0.2s\n"
     ]
    },
    {
     "name": "stderr",
     "output_type": "stream",
     "text": [
      "c:\\users\\luis\\appdata\\local\\programs\\python\\python38\\lib\\site-packages\\sklearn\\utils\\validation.py:1111: DataConversionWarning: A column-vector y was passed when a 1d array was expected. Please change the shape of y to (n_samples, ), for example using ravel().\n",
      "  y = column_or_1d(y, warn=True)\n"
     ]
    },
    {
     "name": "stdout",
     "output_type": "stream",
     "text": [
      "[CV 4/5] END C=100, class_weight=None, penalty=l2;, score=0.744 total time=   0.1s\n"
     ]
    },
    {
     "name": "stderr",
     "output_type": "stream",
     "text": [
      "c:\\users\\luis\\appdata\\local\\programs\\python\\python38\\lib\\site-packages\\sklearn\\utils\\validation.py:1111: DataConversionWarning: A column-vector y was passed when a 1d array was expected. Please change the shape of y to (n_samples, ), for example using ravel().\n",
      "  y = column_or_1d(y, warn=True)\n"
     ]
    },
    {
     "name": "stdout",
     "output_type": "stream",
     "text": [
      "[CV 5/5] END C=100, class_weight=None, penalty=l2;, score=0.798 total time=   0.1s\n",
      "[CV 1/5] END C=10, class_weight=balanced, penalty=none;, score=nan total time=   0.0s\n",
      "[CV 2/5] END C=10, class_weight=balanced, penalty=none;, score=nan total time=   0.0s\n",
      "[CV 3/5] END C=10, class_weight=balanced, penalty=none;, score=nan total time=   0.0s\n",
      "[CV 4/5] END C=10, class_weight=balanced, penalty=none;, score=nan total time=   0.0s\n",
      "[CV 5/5] END C=10, class_weight=balanced, penalty=none;, score=nan total time=   0.0s\n"
     ]
    },
    {
     "name": "stderr",
     "output_type": "stream",
     "text": [
      "c:\\users\\luis\\appdata\\local\\programs\\python\\python38\\lib\\site-packages\\sklearn\\utils\\validation.py:1111: DataConversionWarning: A column-vector y was passed when a 1d array was expected. Please change the shape of y to (n_samples, ), for example using ravel().\n",
      "  y = column_or_1d(y, warn=True)\n"
     ]
    },
    {
     "name": "stdout",
     "output_type": "stream",
     "text": [
      "[CV 1/5] END C=10, class_weight=balanced, penalty=l1;, score=0.760 total time=   1.4s\n"
     ]
    },
    {
     "name": "stderr",
     "output_type": "stream",
     "text": [
      "c:\\users\\luis\\appdata\\local\\programs\\python\\python38\\lib\\site-packages\\sklearn\\utils\\validation.py:1111: DataConversionWarning: A column-vector y was passed when a 1d array was expected. Please change the shape of y to (n_samples, ), for example using ravel().\n",
      "  y = column_or_1d(y, warn=True)\n"
     ]
    },
    {
     "name": "stdout",
     "output_type": "stream",
     "text": [
      "[CV 2/5] END C=10, class_weight=balanced, penalty=l1;, score=0.736 total time=   1.4s\n"
     ]
    },
    {
     "name": "stderr",
     "output_type": "stream",
     "text": [
      "c:\\users\\luis\\appdata\\local\\programs\\python\\python38\\lib\\site-packages\\sklearn\\utils\\validation.py:1111: DataConversionWarning: A column-vector y was passed when a 1d array was expected. Please change the shape of y to (n_samples, ), for example using ravel().\n",
      "  y = column_or_1d(y, warn=True)\n"
     ]
    },
    {
     "name": "stdout",
     "output_type": "stream",
     "text": [
      "[CV 3/5] END C=10, class_weight=balanced, penalty=l1;, score=0.800 total time=   1.3s\n"
     ]
    },
    {
     "name": "stderr",
     "output_type": "stream",
     "text": [
      "c:\\users\\luis\\appdata\\local\\programs\\python\\python38\\lib\\site-packages\\sklearn\\utils\\validation.py:1111: DataConversionWarning: A column-vector y was passed when a 1d array was expected. Please change the shape of y to (n_samples, ), for example using ravel().\n",
      "  y = column_or_1d(y, warn=True)\n"
     ]
    },
    {
     "name": "stdout",
     "output_type": "stream",
     "text": [
      "[CV 4/5] END C=10, class_weight=balanced, penalty=l1;, score=0.768 total time=   1.7s\n"
     ]
    },
    {
     "name": "stderr",
     "output_type": "stream",
     "text": [
      "c:\\users\\luis\\appdata\\local\\programs\\python\\python38\\lib\\site-packages\\sklearn\\utils\\validation.py:1111: DataConversionWarning: A column-vector y was passed when a 1d array was expected. Please change the shape of y to (n_samples, ), for example using ravel().\n",
      "  y = column_or_1d(y, warn=True)\n"
     ]
    },
    {
     "name": "stdout",
     "output_type": "stream",
     "text": [
      "[CV 5/5] END C=10, class_weight=balanced, penalty=l1;, score=0.790 total time=   1.4s\n",
      "[CV 1/5] END C=10, class_weight=balanced, penalty=l2;, score=0.760 total time=   0.1s\n"
     ]
    },
    {
     "name": "stderr",
     "output_type": "stream",
     "text": [
      "c:\\users\\luis\\appdata\\local\\programs\\python\\python38\\lib\\site-packages\\sklearn\\utils\\validation.py:1111: DataConversionWarning: A column-vector y was passed when a 1d array was expected. Please change the shape of y to (n_samples, ), for example using ravel().\n",
      "  y = column_or_1d(y, warn=True)\n",
      "c:\\users\\luis\\appdata\\local\\programs\\python\\python38\\lib\\site-packages\\sklearn\\utils\\validation.py:1111: DataConversionWarning: A column-vector y was passed when a 1d array was expected. Please change the shape of y to (n_samples, ), for example using ravel().\n",
      "  y = column_or_1d(y, warn=True)\n"
     ]
    },
    {
     "name": "stdout",
     "output_type": "stream",
     "text": [
      "[CV 2/5] END C=10, class_weight=balanced, penalty=l2;, score=0.752 total time=   0.1s\n",
      "[CV 3/5] END C=10, class_weight=balanced, penalty=l2;, score=0.768 total time=   0.1s\n"
     ]
    },
    {
     "name": "stderr",
     "output_type": "stream",
     "text": [
      "c:\\users\\luis\\appdata\\local\\programs\\python\\python38\\lib\\site-packages\\sklearn\\utils\\validation.py:1111: DataConversionWarning: A column-vector y was passed when a 1d array was expected. Please change the shape of y to (n_samples, ), for example using ravel().\n",
      "  y = column_or_1d(y, warn=True)\n",
      "c:\\users\\luis\\appdata\\local\\programs\\python\\python38\\lib\\site-packages\\sklearn\\utils\\validation.py:1111: DataConversionWarning: A column-vector y was passed when a 1d array was expected. Please change the shape of y to (n_samples, ), for example using ravel().\n",
      "  y = column_or_1d(y, warn=True)\n"
     ]
    },
    {
     "name": "stdout",
     "output_type": "stream",
     "text": [
      "[CV 4/5] END C=10, class_weight=balanced, penalty=l2;, score=0.776 total time=   0.1s\n",
      "[CV 5/5] END C=10, class_weight=balanced, penalty=l2;, score=0.790 total time=   0.1s\n",
      "[CV 1/5] END C=10, class_weight=None, penalty=none;, score=nan total time=   0.0s\n",
      "[CV 2/5] END C=10, class_weight=None, penalty=none;, score=nan total time=   0.0s\n",
      "[CV 3/5] END C=10, class_weight=None, penalty=none;, score=nan total time=   0.0s\n",
      "[CV 4/5] END C=10, class_weight=None, penalty=none;, score=nan total time=   0.0s\n",
      "[CV 5/5] END C=10, class_weight=None, penalty=none;, score=nan total time=   0.0s\n"
     ]
    },
    {
     "name": "stderr",
     "output_type": "stream",
     "text": [
      "c:\\users\\luis\\appdata\\local\\programs\\python\\python38\\lib\\site-packages\\sklearn\\utils\\validation.py:1111: DataConversionWarning: A column-vector y was passed when a 1d array was expected. Please change the shape of y to (n_samples, ), for example using ravel().\n",
      "  y = column_or_1d(y, warn=True)\n",
      "c:\\users\\luis\\appdata\\local\\programs\\python\\python38\\lib\\site-packages\\sklearn\\utils\\validation.py:1111: DataConversionWarning: A column-vector y was passed when a 1d array was expected. Please change the shape of y to (n_samples, ), for example using ravel().\n",
      "  y = column_or_1d(y, warn=True)\n"
     ]
    },
    {
     "name": "stdout",
     "output_type": "stream",
     "text": [
      "[CV 1/5] END C=10, class_weight=None, penalty=l1;, score=0.768 total time=   0.6s\n"
     ]
    },
    {
     "name": "stderr",
     "output_type": "stream",
     "text": [
      "c:\\users\\luis\\appdata\\local\\programs\\python\\python38\\lib\\site-packages\\sklearn\\utils\\validation.py:1111: DataConversionWarning: A column-vector y was passed when a 1d array was expected. Please change the shape of y to (n_samples, ), for example using ravel().\n",
      "  y = column_or_1d(y, warn=True)\n"
     ]
    },
    {
     "name": "stdout",
     "output_type": "stream",
     "text": [
      "[CV 2/5] END C=10, class_weight=None, penalty=l1;, score=0.736 total time=   0.5s\n"
     ]
    },
    {
     "name": "stderr",
     "output_type": "stream",
     "text": [
      "c:\\users\\luis\\appdata\\local\\programs\\python\\python38\\lib\\site-packages\\sklearn\\utils\\validation.py:1111: DataConversionWarning: A column-vector y was passed when a 1d array was expected. Please change the shape of y to (n_samples, ), for example using ravel().\n",
      "  y = column_or_1d(y, warn=True)\n"
     ]
    },
    {
     "name": "stdout",
     "output_type": "stream",
     "text": [
      "[CV 3/5] END C=10, class_weight=None, penalty=l1;, score=0.808 total time=   0.5s\n"
     ]
    },
    {
     "name": "stderr",
     "output_type": "stream",
     "text": [
      "c:\\users\\luis\\appdata\\local\\programs\\python\\python38\\lib\\site-packages\\sklearn\\utils\\validation.py:1111: DataConversionWarning: A column-vector y was passed when a 1d array was expected. Please change the shape of y to (n_samples, ), for example using ravel().\n",
      "  y = column_or_1d(y, warn=True)\n"
     ]
    },
    {
     "name": "stdout",
     "output_type": "stream",
     "text": [
      "[CV 4/5] END C=10, class_weight=None, penalty=l1;, score=0.792 total time=   0.5s\n"
     ]
    },
    {
     "name": "stderr",
     "output_type": "stream",
     "text": [
      "c:\\users\\luis\\appdata\\local\\programs\\python\\python38\\lib\\site-packages\\sklearn\\utils\\validation.py:1111: DataConversionWarning: A column-vector y was passed when a 1d array was expected. Please change the shape of y to (n_samples, ), for example using ravel().\n",
      "  y = column_or_1d(y, warn=True)\n"
     ]
    },
    {
     "name": "stdout",
     "output_type": "stream",
     "text": [
      "[CV 5/5] END C=10, class_weight=None, penalty=l1;, score=0.790 total time=   0.6s\n",
      "[CV 1/5] END C=10, class_weight=None, penalty=l2;, score=0.744 total time=   0.0s\n"
     ]
    },
    {
     "name": "stderr",
     "output_type": "stream",
     "text": [
      "c:\\users\\luis\\appdata\\local\\programs\\python\\python38\\lib\\site-packages\\sklearn\\utils\\validation.py:1111: DataConversionWarning: A column-vector y was passed when a 1d array was expected. Please change the shape of y to (n_samples, ), for example using ravel().\n",
      "  y = column_or_1d(y, warn=True)\n",
      "c:\\users\\luis\\appdata\\local\\programs\\python\\python38\\lib\\site-packages\\sklearn\\utils\\validation.py:1111: DataConversionWarning: A column-vector y was passed when a 1d array was expected. Please change the shape of y to (n_samples, ), for example using ravel().\n",
      "  y = column_or_1d(y, warn=True)\n"
     ]
    },
    {
     "name": "stdout",
     "output_type": "stream",
     "text": [
      "[CV 2/5] END C=10, class_weight=None, penalty=l2;, score=0.776 total time=   0.1s\n",
      "[CV 3/5] END C=10, class_weight=None, penalty=l2;, score=0.816 total time=   0.1s\n"
     ]
    },
    {
     "name": "stderr",
     "output_type": "stream",
     "text": [
      "c:\\users\\luis\\appdata\\local\\programs\\python\\python38\\lib\\site-packages\\sklearn\\utils\\validation.py:1111: DataConversionWarning: A column-vector y was passed when a 1d array was expected. Please change the shape of y to (n_samples, ), for example using ravel().\n",
      "  y = column_or_1d(y, warn=True)\n",
      "c:\\users\\luis\\appdata\\local\\programs\\python\\python38\\lib\\site-packages\\sklearn\\utils\\validation.py:1111: DataConversionWarning: A column-vector y was passed when a 1d array was expected. Please change the shape of y to (n_samples, ), for example using ravel().\n",
      "  y = column_or_1d(y, warn=True)\n"
     ]
    },
    {
     "name": "stdout",
     "output_type": "stream",
     "text": [
      "[CV 4/5] END C=10, class_weight=None, penalty=l2;, score=0.776 total time=   0.1s\n",
      "[CV 5/5] END C=10, class_weight=None, penalty=l2;, score=0.790 total time=   0.1s\n",
      "[CV 1/5] END C=1, class_weight=balanced, penalty=none;, score=nan total time=   0.0s\n",
      "[CV 2/5] END C=1, class_weight=balanced, penalty=none;, score=nan total time=   0.0s\n",
      "[CV 3/5] END C=1, class_weight=balanced, penalty=none;, score=nan total time=   0.0s\n",
      "[CV 4/5] END C=1, class_weight=balanced, penalty=none;, score=nan total time=   0.0s\n",
      "[CV 5/5] END C=1, class_weight=balanced, penalty=none;, score=nan total time=   0.0s\n"
     ]
    },
    {
     "name": "stderr",
     "output_type": "stream",
     "text": [
      "c:\\users\\luis\\appdata\\local\\programs\\python\\python38\\lib\\site-packages\\sklearn\\utils\\validation.py:1111: DataConversionWarning: A column-vector y was passed when a 1d array was expected. Please change the shape of y to (n_samples, ), for example using ravel().\n",
      "  y = column_or_1d(y, warn=True)\n",
      "c:\\users\\luis\\appdata\\local\\programs\\python\\python38\\lib\\site-packages\\sklearn\\utils\\validation.py:1111: DataConversionWarning: A column-vector y was passed when a 1d array was expected. Please change the shape of y to (n_samples, ), for example using ravel().\n",
      "  y = column_or_1d(y, warn=True)\n"
     ]
    },
    {
     "name": "stdout",
     "output_type": "stream",
     "text": [
      "[CV 1/5] END C=1, class_weight=balanced, penalty=l1;, score=0.768 total time=   0.0s\n",
      "[CV 2/5] END C=1, class_weight=balanced, penalty=l1;, score=0.744 total time=   0.0s\n"
     ]
    },
    {
     "name": "stderr",
     "output_type": "stream",
     "text": [
      "c:\\users\\luis\\appdata\\local\\programs\\python\\python38\\lib\\site-packages\\sklearn\\utils\\validation.py:1111: DataConversionWarning: A column-vector y was passed when a 1d array was expected. Please change the shape of y to (n_samples, ), for example using ravel().\n",
      "  y = column_or_1d(y, warn=True)\n",
      "c:\\users\\luis\\appdata\\local\\programs\\python\\python38\\lib\\site-packages\\sklearn\\utils\\validation.py:1111: DataConversionWarning: A column-vector y was passed when a 1d array was expected. Please change the shape of y to (n_samples, ), for example using ravel().\n",
      "  y = column_or_1d(y, warn=True)\n"
     ]
    },
    {
     "name": "stdout",
     "output_type": "stream",
     "text": [
      "[CV 3/5] END C=1, class_weight=balanced, penalty=l1;, score=0.744 total time=   0.0s\n",
      "[CV 4/5] END C=1, class_weight=balanced, penalty=l1;, score=0.752 total time=   0.0s\n",
      "[CV 5/5] END C=1, class_weight=balanced, penalty=l1;, score=0.750 total time=   0.0s\n"
     ]
    },
    {
     "name": "stderr",
     "output_type": "stream",
     "text": [
      "c:\\users\\luis\\appdata\\local\\programs\\python\\python38\\lib\\site-packages\\sklearn\\utils\\validation.py:1111: DataConversionWarning: A column-vector y was passed when a 1d array was expected. Please change the shape of y to (n_samples, ), for example using ravel().\n",
      "  y = column_or_1d(y, warn=True)\n",
      "c:\\users\\luis\\appdata\\local\\programs\\python\\python38\\lib\\site-packages\\sklearn\\utils\\validation.py:1111: DataConversionWarning: A column-vector y was passed when a 1d array was expected. Please change the shape of y to (n_samples, ), for example using ravel().\n",
      "  y = column_or_1d(y, warn=True)\n",
      "c:\\users\\luis\\appdata\\local\\programs\\python\\python38\\lib\\site-packages\\sklearn\\utils\\validation.py:1111: DataConversionWarning: A column-vector y was passed when a 1d array was expected. Please change the shape of y to (n_samples, ), for example using ravel().\n",
      "  y = column_or_1d(y, warn=True)\n"
     ]
    },
    {
     "name": "stdout",
     "output_type": "stream",
     "text": [
      "[CV 1/5] END C=1, class_weight=balanced, penalty=l2;, score=0.776 total time=   0.0s\n",
      "[CV 2/5] END C=1, class_weight=balanced, penalty=l2;, score=0.744 total time=   0.0s\n"
     ]
    },
    {
     "name": "stderr",
     "output_type": "stream",
     "text": [
      "c:\\users\\luis\\appdata\\local\\programs\\python\\python38\\lib\\site-packages\\sklearn\\utils\\validation.py:1111: DataConversionWarning: A column-vector y was passed when a 1d array was expected. Please change the shape of y to (n_samples, ), for example using ravel().\n",
      "  y = column_or_1d(y, warn=True)\n",
      "c:\\users\\luis\\appdata\\local\\programs\\python\\python38\\lib\\site-packages\\sklearn\\utils\\validation.py:1111: DataConversionWarning: A column-vector y was passed when a 1d array was expected. Please change the shape of y to (n_samples, ), for example using ravel().\n",
      "  y = column_or_1d(y, warn=True)\n"
     ]
    },
    {
     "name": "stdout",
     "output_type": "stream",
     "text": [
      "[CV 3/5] END C=1, class_weight=balanced, penalty=l2;, score=0.776 total time=   0.0s\n",
      "[CV 4/5] END C=1, class_weight=balanced, penalty=l2;, score=0.752 total time=   0.0s\n",
      "[CV 5/5] END C=1, class_weight=balanced, penalty=l2;, score=0.806 total time=   0.0s\n",
      "[CV 1/5] END C=1, class_weight=None, penalty=none;, score=nan total time=   0.0s\n",
      "[CV 2/5] END C=1, class_weight=None, penalty=none;, score=nan total time=   0.0s\n",
      "[CV 3/5] END C=1, class_weight=None, penalty=none;, score=nan total time=   0.0s\n",
      "[CV 4/5] END C=1, class_weight=None, penalty=none;, score=nan total time=   0.0s\n",
      "[CV 5/5] END C=1, class_weight=None, penalty=none;, score=nan total time=   0.0s\n"
     ]
    },
    {
     "name": "stderr",
     "output_type": "stream",
     "text": [
      "c:\\users\\luis\\appdata\\local\\programs\\python\\python38\\lib\\site-packages\\sklearn\\utils\\validation.py:1111: DataConversionWarning: A column-vector y was passed when a 1d array was expected. Please change the shape of y to (n_samples, ), for example using ravel().\n",
      "  y = column_or_1d(y, warn=True)\n",
      "c:\\users\\luis\\appdata\\local\\programs\\python\\python38\\lib\\site-packages\\sklearn\\utils\\validation.py:1111: DataConversionWarning: A column-vector y was passed when a 1d array was expected. Please change the shape of y to (n_samples, ), for example using ravel().\n",
      "  y = column_or_1d(y, warn=True)\n",
      "c:\\users\\luis\\appdata\\local\\programs\\python\\python38\\lib\\site-packages\\sklearn\\utils\\validation.py:1111: DataConversionWarning: A column-vector y was passed when a 1d array was expected. Please change the shape of y to (n_samples, ), for example using ravel().\n",
      "  y = column_or_1d(y, warn=True)\n"
     ]
    },
    {
     "name": "stdout",
     "output_type": "stream",
     "text": [
      "[CV 1/5] END C=1, class_weight=None, penalty=l1;, score=0.824 total time=   0.0s\n",
      "[CV 2/5] END C=1, class_weight=None, penalty=l1;, score=0.744 total time=   0.0s\n",
      "[CV 3/5] END C=1, class_weight=None, penalty=l1;, score=0.784 total time=   0.0s\n",
      "[CV 4/5] END C=1, class_weight=None, penalty=l1;, score=0.776 total time=   0.0s\n",
      "[CV 5/5] END C=1, class_weight=None, penalty=l1;, score=0.798 total time=   0.0s\n"
     ]
    },
    {
     "name": "stderr",
     "output_type": "stream",
     "text": [
      "c:\\users\\luis\\appdata\\local\\programs\\python\\python38\\lib\\site-packages\\sklearn\\utils\\validation.py:1111: DataConversionWarning: A column-vector y was passed when a 1d array was expected. Please change the shape of y to (n_samples, ), for example using ravel().\n",
      "  y = column_or_1d(y, warn=True)\n",
      "c:\\users\\luis\\appdata\\local\\programs\\python\\python38\\lib\\site-packages\\sklearn\\utils\\validation.py:1111: DataConversionWarning: A column-vector y was passed when a 1d array was expected. Please change the shape of y to (n_samples, ), for example using ravel().\n",
      "  y = column_or_1d(y, warn=True)\n",
      "c:\\users\\luis\\appdata\\local\\programs\\python\\python38\\lib\\site-packages\\sklearn\\utils\\validation.py:1111: DataConversionWarning: A column-vector y was passed when a 1d array was expected. Please change the shape of y to (n_samples, ), for example using ravel().\n",
      "  y = column_or_1d(y, warn=True)\n",
      "c:\\users\\luis\\appdata\\local\\programs\\python\\python38\\lib\\site-packages\\sklearn\\utils\\validation.py:1111: DataConversionWarning: A column-vector y was passed when a 1d array was expected. Please change the shape of y to (n_samples, ), for example using ravel().\n",
      "  y = column_or_1d(y, warn=True)\n",
      "c:\\users\\luis\\appdata\\local\\programs\\python\\python38\\lib\\site-packages\\sklearn\\utils\\validation.py:1111: DataConversionWarning: A column-vector y was passed when a 1d array was expected. Please change the shape of y to (n_samples, ), for example using ravel().\n",
      "  y = column_or_1d(y, warn=True)\n"
     ]
    },
    {
     "name": "stdout",
     "output_type": "stream",
     "text": [
      "[CV 1/5] END C=1, class_weight=None, penalty=l2;, score=0.792 total time=   0.0s\n",
      "[CV 2/5] END C=1, class_weight=None, penalty=l2;, score=0.744 total time=   0.0s\n",
      "[CV 3/5] END C=1, class_weight=None, penalty=l2;, score=0.816 total time=   0.0s\n"
     ]
    },
    {
     "name": "stderr",
     "output_type": "stream",
     "text": [
      "c:\\users\\luis\\appdata\\local\\programs\\python\\python38\\lib\\site-packages\\sklearn\\utils\\validation.py:1111: DataConversionWarning: A column-vector y was passed when a 1d array was expected. Please change the shape of y to (n_samples, ), for example using ravel().\n",
      "  y = column_or_1d(y, warn=True)\n",
      "c:\\users\\luis\\appdata\\local\\programs\\python\\python38\\lib\\site-packages\\sklearn\\utils\\validation.py:1111: DataConversionWarning: A column-vector y was passed when a 1d array was expected. Please change the shape of y to (n_samples, ), for example using ravel().\n",
      "  y = column_or_1d(y, warn=True)\n",
      "c:\\users\\luis\\appdata\\local\\programs\\python\\python38\\lib\\site-packages\\sklearn\\utils\\validation.py:1111: DataConversionWarning: A column-vector y was passed when a 1d array was expected. Please change the shape of y to (n_samples, ), for example using ravel().\n",
      "  y = column_or_1d(y, warn=True)\n"
     ]
    },
    {
     "name": "stdout",
     "output_type": "stream",
     "text": [
      "[CV 4/5] END C=1, class_weight=None, penalty=l2;, score=0.808 total time=   0.0s\n",
      "[CV 5/5] END C=1, class_weight=None, penalty=l2;, score=0.790 total time=   0.0s\n",
      "[CV 1/5] END C=0.1, class_weight=balanced, penalty=none;, score=nan total time=   0.0s\n",
      "[CV 2/5] END C=0.1, class_weight=balanced, penalty=none;, score=nan total time=   0.0s\n",
      "[CV 3/5] END C=0.1, class_weight=balanced, penalty=none;, score=nan total time=   0.0s\n",
      "[CV 4/5] END C=0.1, class_weight=balanced, penalty=none;, score=nan total time=   0.0s\n",
      "[CV 5/5] END C=0.1, class_weight=balanced, penalty=none;, score=nan total time=   0.0s\n",
      "[CV 1/5] END C=0.1, class_weight=balanced, penalty=l1;, score=0.736 total time=   0.0s\n",
      "[CV 2/5] END C=0.1, class_weight=balanced, penalty=l1;, score=0.712 total time=   0.0s\n"
     ]
    },
    {
     "name": "stderr",
     "output_type": "stream",
     "text": [
      "c:\\users\\luis\\appdata\\local\\programs\\python\\python38\\lib\\site-packages\\sklearn\\utils\\validation.py:1111: DataConversionWarning: A column-vector y was passed when a 1d array was expected. Please change the shape of y to (n_samples, ), for example using ravel().\n",
      "  y = column_or_1d(y, warn=True)\n",
      "c:\\users\\luis\\appdata\\local\\programs\\python\\python38\\lib\\site-packages\\sklearn\\utils\\validation.py:1111: DataConversionWarning: A column-vector y was passed when a 1d array was expected. Please change the shape of y to (n_samples, ), for example using ravel().\n",
      "  y = column_or_1d(y, warn=True)\n",
      "c:\\users\\luis\\appdata\\local\\programs\\python\\python38\\lib\\site-packages\\sklearn\\utils\\validation.py:1111: DataConversionWarning: A column-vector y was passed when a 1d array was expected. Please change the shape of y to (n_samples, ), for example using ravel().\n",
      "  y = column_or_1d(y, warn=True)\n",
      "c:\\users\\luis\\appdata\\local\\programs\\python\\python38\\lib\\site-packages\\sklearn\\utils\\validation.py:1111: DataConversionWarning: A column-vector y was passed when a 1d array was expected. Please change the shape of y to (n_samples, ), for example using ravel().\n",
      "  y = column_or_1d(y, warn=True)\n"
     ]
    },
    {
     "name": "stdout",
     "output_type": "stream",
     "text": [
      "[CV 3/5] END C=0.1, class_weight=balanced, penalty=l1;, score=0.736 total time=   0.0s\n",
      "[CV 4/5] END C=0.1, class_weight=balanced, penalty=l1;, score=0.664 total time=   0.0s\n",
      "[CV 5/5] END C=0.1, class_weight=balanced, penalty=l1;, score=0.710 total time=   0.0s\n",
      "[CV 1/5] END C=0.1, class_weight=balanced, penalty=l2;, score=0.752 total time=   0.0s\n",
      "[CV 2/5] END C=0.1, class_weight=balanced, penalty=l2;, score=0.736 total time=   0.0s\n"
     ]
    },
    {
     "name": "stderr",
     "output_type": "stream",
     "text": [
      "c:\\users\\luis\\appdata\\local\\programs\\python\\python38\\lib\\site-packages\\sklearn\\utils\\validation.py:1111: DataConversionWarning: A column-vector y was passed when a 1d array was expected. Please change the shape of y to (n_samples, ), for example using ravel().\n",
      "  y = column_or_1d(y, warn=True)\n",
      "c:\\users\\luis\\appdata\\local\\programs\\python\\python38\\lib\\site-packages\\sklearn\\utils\\validation.py:1111: DataConversionWarning: A column-vector y was passed when a 1d array was expected. Please change the shape of y to (n_samples, ), for example using ravel().\n",
      "  y = column_or_1d(y, warn=True)\n",
      "c:\\users\\luis\\appdata\\local\\programs\\python\\python38\\lib\\site-packages\\sklearn\\utils\\validation.py:1111: DataConversionWarning: A column-vector y was passed when a 1d array was expected. Please change the shape of y to (n_samples, ), for example using ravel().\n",
      "  y = column_or_1d(y, warn=True)\n",
      "c:\\users\\luis\\appdata\\local\\programs\\python\\python38\\lib\\site-packages\\sklearn\\utils\\validation.py:1111: DataConversionWarning: A column-vector y was passed when a 1d array was expected. Please change the shape of y to (n_samples, ), for example using ravel().\n",
      "  y = column_or_1d(y, warn=True)\n",
      "c:\\users\\luis\\appdata\\local\\programs\\python\\python38\\lib\\site-packages\\sklearn\\utils\\validation.py:1111: DataConversionWarning: A column-vector y was passed when a 1d array was expected. Please change the shape of y to (n_samples, ), for example using ravel().\n",
      "  y = column_or_1d(y, warn=True)\n"
     ]
    },
    {
     "name": "stdout",
     "output_type": "stream",
     "text": [
      "[CV 3/5] END C=0.1, class_weight=balanced, penalty=l2;, score=0.760 total time=   0.0s\n",
      "[CV 4/5] END C=0.1, class_weight=balanced, penalty=l2;, score=0.712 total time=   0.0s\n",
      "[CV 5/5] END C=0.1, class_weight=balanced, penalty=l2;, score=0.742 total time=   0.0s\n",
      "[CV 1/5] END C=0.1, class_weight=None, penalty=none;, score=nan total time=   0.0s\n",
      "[CV 2/5] END C=0.1, class_weight=None, penalty=none;, score=nan total time=   0.0s\n",
      "[CV 3/5] END C=0.1, class_weight=None, penalty=none;, score=nan total time=   0.0s\n",
      "[CV 4/5] END C=0.1, class_weight=None, penalty=none;, score=nan total time=   0.0s\n",
      "[CV 5/5] END C=0.1, class_weight=None, penalty=none;, score=nan total time=   0.0s\n",
      "[CV 1/5] END C=0.1, class_weight=None, penalty=l1;, score=0.736 total time=   0.0s\n",
      "[CV 2/5] END C=0.1, class_weight=None, penalty=l1;, score=0.728 total time=   0.0s\n",
      "[CV 3/5] END C=0.1, class_weight=None, penalty=l1;, score=0.728 total time=   0.0s\n"
     ]
    },
    {
     "name": "stderr",
     "output_type": "stream",
     "text": [
      "c:\\users\\luis\\appdata\\local\\programs\\python\\python38\\lib\\site-packages\\sklearn\\utils\\validation.py:1111: DataConversionWarning: A column-vector y was passed when a 1d array was expected. Please change the shape of y to (n_samples, ), for example using ravel().\n",
      "  y = column_or_1d(y, warn=True)\n",
      "c:\\users\\luis\\appdata\\local\\programs\\python\\python38\\lib\\site-packages\\sklearn\\utils\\validation.py:1111: DataConversionWarning: A column-vector y was passed when a 1d array was expected. Please change the shape of y to (n_samples, ), for example using ravel().\n",
      "  y = column_or_1d(y, warn=True)\n",
      "c:\\users\\luis\\appdata\\local\\programs\\python\\python38\\lib\\site-packages\\sklearn\\utils\\validation.py:1111: DataConversionWarning: A column-vector y was passed when a 1d array was expected. Please change the shape of y to (n_samples, ), for example using ravel().\n",
      "  y = column_or_1d(y, warn=True)\n",
      "c:\\users\\luis\\appdata\\local\\programs\\python\\python38\\lib\\site-packages\\sklearn\\utils\\validation.py:1111: DataConversionWarning: A column-vector y was passed when a 1d array was expected. Please change the shape of y to (n_samples, ), for example using ravel().\n",
      "  y = column_or_1d(y, warn=True)\n",
      "c:\\users\\luis\\appdata\\local\\programs\\python\\python38\\lib\\site-packages\\sklearn\\utils\\validation.py:1111: DataConversionWarning: A column-vector y was passed when a 1d array was expected. Please change the shape of y to (n_samples, ), for example using ravel().\n",
      "  y = column_or_1d(y, warn=True)\n",
      "c:\\users\\luis\\appdata\\local\\programs\\python\\python38\\lib\\site-packages\\sklearn\\utils\\validation.py:1111: DataConversionWarning: A column-vector y was passed when a 1d array was expected. Please change the shape of y to (n_samples, ), for example using ravel().\n",
      "  y = column_or_1d(y, warn=True)\n"
     ]
    },
    {
     "name": "stdout",
     "output_type": "stream",
     "text": [
      "[CV 4/5] END C=0.1, class_weight=None, penalty=l1;, score=0.728 total time=   0.0s\n",
      "[CV 5/5] END C=0.1, class_weight=None, penalty=l1;, score=0.734 total time=   0.0s\n",
      "[CV 1/5] END C=0.1, class_weight=None, penalty=l2;, score=0.824 total time=   0.0s\n",
      "[CV 2/5] END C=0.1, class_weight=None, penalty=l2;, score=0.776 total time=   0.0s\n",
      "[CV 3/5] END C=0.1, class_weight=None, penalty=l2;, score=0.784 total time=   0.0s\n"
     ]
    },
    {
     "name": "stderr",
     "output_type": "stream",
     "text": [
      "c:\\users\\luis\\appdata\\local\\programs\\python\\python38\\lib\\site-packages\\sklearn\\utils\\validation.py:1111: DataConversionWarning: A column-vector y was passed when a 1d array was expected. Please change the shape of y to (n_samples, ), for example using ravel().\n",
      "  y = column_or_1d(y, warn=True)\n",
      "c:\\users\\luis\\appdata\\local\\programs\\python\\python38\\lib\\site-packages\\sklearn\\utils\\validation.py:1111: DataConversionWarning: A column-vector y was passed when a 1d array was expected. Please change the shape of y to (n_samples, ), for example using ravel().\n",
      "  y = column_or_1d(y, warn=True)\n",
      "c:\\users\\luis\\appdata\\local\\programs\\python\\python38\\lib\\site-packages\\sklearn\\utils\\validation.py:1111: DataConversionWarning: A column-vector y was passed when a 1d array was expected. Please change the shape of y to (n_samples, ), for example using ravel().\n",
      "  y = column_or_1d(y, warn=True)\n",
      "c:\\users\\luis\\appdata\\local\\programs\\python\\python38\\lib\\site-packages\\sklearn\\utils\\validation.py:1111: DataConversionWarning: A column-vector y was passed when a 1d array was expected. Please change the shape of y to (n_samples, ), for example using ravel().\n",
      "  y = column_or_1d(y, warn=True)\n",
      "c:\\users\\luis\\appdata\\local\\programs\\python\\python38\\lib\\site-packages\\sklearn\\utils\\validation.py:1111: DataConversionWarning: A column-vector y was passed when a 1d array was expected. Please change the shape of y to (n_samples, ), for example using ravel().\n",
      "  y = column_or_1d(y, warn=True)\n"
     ]
    },
    {
     "name": "stdout",
     "output_type": "stream",
     "text": [
      "[CV 4/5] END C=0.1, class_weight=None, penalty=l2;, score=0.808 total time=   0.0s\n",
      "[CV 5/5] END C=0.1, class_weight=None, penalty=l2;, score=0.815 total time=   0.0s\n",
      "[CV 1/5] END C=0.01, class_weight=balanced, penalty=none;, score=nan total time=   0.0s\n",
      "[CV 2/5] END C=0.01, class_weight=balanced, penalty=none;, score=nan total time=   0.0s\n",
      "[CV 3/5] END C=0.01, class_weight=balanced, penalty=none;, score=nan total time=   0.0s\n",
      "[CV 4/5] END C=0.01, class_weight=balanced, penalty=none;, score=nan total time=   0.0s\n",
      "[CV 5/5] END C=0.01, class_weight=balanced, penalty=none;, score=nan total time=   0.0s\n",
      "[CV 1/5] END C=0.01, class_weight=balanced, penalty=l1;, score=0.264 total time=   0.0s\n",
      "[CV 2/5] END C=0.01, class_weight=balanced, penalty=l1;, score=0.272 total time=   0.0s\n",
      "[CV 3/5] END C=0.01, class_weight=balanced, penalty=l1;, score=0.272 total time=   0.0s\n",
      "[CV 4/5] END C=0.01, class_weight=balanced, penalty=l1;, score=0.272 total time=   0.0s\n",
      "[CV 5/5] END C=0.01, class_weight=balanced, penalty=l1;, score=0.266 total time=   0.0s\n",
      "[CV 1/5] END C=0.01, class_weight=balanced, penalty=l2;, score=0.688 total time=   0.0s\n"
     ]
    },
    {
     "name": "stderr",
     "output_type": "stream",
     "text": [
      "c:\\users\\luis\\appdata\\local\\programs\\python\\python38\\lib\\site-packages\\sklearn\\utils\\validation.py:1111: DataConversionWarning: A column-vector y was passed when a 1d array was expected. Please change the shape of y to (n_samples, ), for example using ravel().\n",
      "  y = column_or_1d(y, warn=True)\n",
      "c:\\users\\luis\\appdata\\local\\programs\\python\\python38\\lib\\site-packages\\sklearn\\utils\\validation.py:1111: DataConversionWarning: A column-vector y was passed when a 1d array was expected. Please change the shape of y to (n_samples, ), for example using ravel().\n",
      "  y = column_or_1d(y, warn=True)\n",
      "c:\\users\\luis\\appdata\\local\\programs\\python\\python38\\lib\\site-packages\\sklearn\\utils\\validation.py:1111: DataConversionWarning: A column-vector y was passed when a 1d array was expected. Please change the shape of y to (n_samples, ), for example using ravel().\n",
      "  y = column_or_1d(y, warn=True)\n",
      "c:\\users\\luis\\appdata\\local\\programs\\python\\python38\\lib\\site-packages\\sklearn\\utils\\validation.py:1111: DataConversionWarning: A column-vector y was passed when a 1d array was expected. Please change the shape of y to (n_samples, ), for example using ravel().\n",
      "  y = column_or_1d(y, warn=True)\n",
      "c:\\users\\luis\\appdata\\local\\programs\\python\\python38\\lib\\site-packages\\sklearn\\utils\\validation.py:1111: DataConversionWarning: A column-vector y was passed when a 1d array was expected. Please change the shape of y to (n_samples, ), for example using ravel().\n",
      "  y = column_or_1d(y, warn=True)\n",
      "c:\\users\\luis\\appdata\\local\\programs\\python\\python38\\lib\\site-packages\\sklearn\\utils\\validation.py:1111: DataConversionWarning: A column-vector y was passed when a 1d array was expected. Please change the shape of y to (n_samples, ), for example using ravel().\n",
      "  y = column_or_1d(y, warn=True)\n",
      "c:\\users\\luis\\appdata\\local\\programs\\python\\python38\\lib\\site-packages\\sklearn\\utils\\validation.py:1111: DataConversionWarning: A column-vector y was passed when a 1d array was expected. Please change the shape of y to (n_samples, ), for example using ravel().\n",
      "  y = column_or_1d(y, warn=True)\n",
      "c:\\users\\luis\\appdata\\local\\programs\\python\\python38\\lib\\site-packages\\sklearn\\utils\\validation.py:1111: DataConversionWarning: A column-vector y was passed when a 1d array was expected. Please change the shape of y to (n_samples, ), for example using ravel().\n",
      "  y = column_or_1d(y, warn=True)\n"
     ]
    },
    {
     "name": "stdout",
     "output_type": "stream",
     "text": [
      "[CV 2/5] END C=0.01, class_weight=balanced, penalty=l2;, score=0.720 total time=   0.0s\n",
      "[CV 3/5] END C=0.01, class_weight=balanced, penalty=l2;, score=0.720 total time=   0.0s\n",
      "[CV 4/5] END C=0.01, class_weight=balanced, penalty=l2;, score=0.680 total time=   0.0s\n",
      "[CV 5/5] END C=0.01, class_weight=balanced, penalty=l2;, score=0.694 total time=   0.0s\n",
      "[CV 1/5] END C=0.01, class_weight=None, penalty=none;, score=nan total time=   0.0s\n",
      "[CV 2/5] END C=0.01, class_weight=None, penalty=none;, score=nan total time=   0.0s\n",
      "[CV 3/5] END C=0.01, class_weight=None, penalty=none;, score=nan total time=   0.0s\n",
      "[CV 4/5] END C=0.01, class_weight=None, penalty=none;, score=nan total time=   0.0s\n",
      "[CV 5/5] END C=0.01, class_weight=None, penalty=none;, score=nan total time=   0.0s\n",
      "[CV 1/5] END C=0.01, class_weight=None, penalty=l1;, score=0.736 total time=   0.0s\n",
      "[CV 2/5] END C=0.01, class_weight=None, penalty=l1;, score=0.728 total time=   0.0s\n",
      "[CV 3/5] END C=0.01, class_weight=None, penalty=l1;, score=0.728 total time=   0.0s\n",
      "[CV 4/5] END C=0.01, class_weight=None, penalty=l1;, score=0.728 total time=   0.0s\n"
     ]
    },
    {
     "name": "stderr",
     "output_type": "stream",
     "text": [
      "c:\\users\\luis\\appdata\\local\\programs\\python\\python38\\lib\\site-packages\\sklearn\\utils\\validation.py:1111: DataConversionWarning: A column-vector y was passed when a 1d array was expected. Please change the shape of y to (n_samples, ), for example using ravel().\n",
      "  y = column_or_1d(y, warn=True)\n",
      "c:\\users\\luis\\appdata\\local\\programs\\python\\python38\\lib\\site-packages\\sklearn\\utils\\validation.py:1111: DataConversionWarning: A column-vector y was passed when a 1d array was expected. Please change the shape of y to (n_samples, ), for example using ravel().\n",
      "  y = column_or_1d(y, warn=True)\n",
      "c:\\users\\luis\\appdata\\local\\programs\\python\\python38\\lib\\site-packages\\sklearn\\utils\\validation.py:1111: DataConversionWarning: A column-vector y was passed when a 1d array was expected. Please change the shape of y to (n_samples, ), for example using ravel().\n",
      "  y = column_or_1d(y, warn=True)\n",
      "c:\\users\\luis\\appdata\\local\\programs\\python\\python38\\lib\\site-packages\\sklearn\\utils\\validation.py:1111: DataConversionWarning: A column-vector y was passed when a 1d array was expected. Please change the shape of y to (n_samples, ), for example using ravel().\n",
      "  y = column_or_1d(y, warn=True)\n",
      "c:\\users\\luis\\appdata\\local\\programs\\python\\python38\\lib\\site-packages\\sklearn\\utils\\validation.py:1111: DataConversionWarning: A column-vector y was passed when a 1d array was expected. Please change the shape of y to (n_samples, ), for example using ravel().\n",
      "  y = column_or_1d(y, warn=True)\n",
      "c:\\users\\luis\\appdata\\local\\programs\\python\\python38\\lib\\site-packages\\sklearn\\utils\\validation.py:1111: DataConversionWarning: A column-vector y was passed when a 1d array was expected. Please change the shape of y to (n_samples, ), for example using ravel().\n",
      "  y = column_or_1d(y, warn=True)\n",
      "c:\\users\\luis\\appdata\\local\\programs\\python\\python38\\lib\\site-packages\\sklearn\\utils\\validation.py:1111: DataConversionWarning: A column-vector y was passed when a 1d array was expected. Please change the shape of y to (n_samples, ), for example using ravel().\n",
      "  y = column_or_1d(y, warn=True)\n",
      "c:\\users\\luis\\appdata\\local\\programs\\python\\python38\\lib\\site-packages\\sklearn\\utils\\validation.py:1111: DataConversionWarning: A column-vector y was passed when a 1d array was expected. Please change the shape of y to (n_samples, ), for example using ravel().\n",
      "  y = column_or_1d(y, warn=True)\n"
     ]
    },
    {
     "name": "stdout",
     "output_type": "stream",
     "text": [
      "[CV 5/5] END C=0.01, class_weight=None, penalty=l1;, score=0.734 total time=   0.0s\n",
      "[CV 1/5] END C=0.01, class_weight=None, penalty=l2;, score=0.784 total time=   0.0s\n",
      "[CV 2/5] END C=0.01, class_weight=None, penalty=l2;, score=0.728 total time=   0.0s\n",
      "[CV 3/5] END C=0.01, class_weight=None, penalty=l2;, score=0.728 total time=   0.0s\n",
      "[CV 4/5] END C=0.01, class_weight=None, penalty=l2;, score=0.784 total time=   0.0s\n",
      "[CV 5/5] END C=0.01, class_weight=None, penalty=l2;, score=0.798 total time=   0.0s\n",
      "[CV 1/5] END C=0.001, class_weight=balanced, penalty=none;, score=nan total time=   0.0s\n",
      "[CV 2/5] END C=0.001, class_weight=balanced, penalty=none;, score=nan total time=   0.0s\n",
      "[CV 3/5] END C=0.001, class_weight=balanced, penalty=none;, score=nan total time=   0.0s\n",
      "[CV 4/5] END C=0.001, class_weight=balanced, penalty=none;, score=nan total time=   0.0s\n",
      "[CV 5/5] END C=0.001, class_weight=balanced, penalty=none;, score=nan total time=   0.0s\n",
      "[CV 1/5] END C=0.001, class_weight=balanced, penalty=l1;, score=0.264 total time=   0.0s\n",
      "[CV 2/5] END C=0.001, class_weight=balanced, penalty=l1;, score=0.272 total time=   0.0s\n"
     ]
    },
    {
     "name": "stderr",
     "output_type": "stream",
     "text": [
      "c:\\users\\luis\\appdata\\local\\programs\\python\\python38\\lib\\site-packages\\sklearn\\utils\\validation.py:1111: DataConversionWarning: A column-vector y was passed when a 1d array was expected. Please change the shape of y to (n_samples, ), for example using ravel().\n",
      "  y = column_or_1d(y, warn=True)\n",
      "c:\\users\\luis\\appdata\\local\\programs\\python\\python38\\lib\\site-packages\\sklearn\\utils\\validation.py:1111: DataConversionWarning: A column-vector y was passed when a 1d array was expected. Please change the shape of y to (n_samples, ), for example using ravel().\n",
      "  y = column_or_1d(y, warn=True)\n",
      "c:\\users\\luis\\appdata\\local\\programs\\python\\python38\\lib\\site-packages\\sklearn\\utils\\validation.py:1111: DataConversionWarning: A column-vector y was passed when a 1d array was expected. Please change the shape of y to (n_samples, ), for example using ravel().\n",
      "  y = column_or_1d(y, warn=True)\n",
      "c:\\users\\luis\\appdata\\local\\programs\\python\\python38\\lib\\site-packages\\sklearn\\utils\\validation.py:1111: DataConversionWarning: A column-vector y was passed when a 1d array was expected. Please change the shape of y to (n_samples, ), for example using ravel().\n",
      "  y = column_or_1d(y, warn=True)\n",
      "c:\\users\\luis\\appdata\\local\\programs\\python\\python38\\lib\\site-packages\\sklearn\\utils\\validation.py:1111: DataConversionWarning: A column-vector y was passed when a 1d array was expected. Please change the shape of y to (n_samples, ), for example using ravel().\n",
      "  y = column_or_1d(y, warn=True)\n",
      "c:\\users\\luis\\appdata\\local\\programs\\python\\python38\\lib\\site-packages\\sklearn\\utils\\validation.py:1111: DataConversionWarning: A column-vector y was passed when a 1d array was expected. Please change the shape of y to (n_samples, ), for example using ravel().\n",
      "  y = column_or_1d(y, warn=True)\n",
      "c:\\users\\luis\\appdata\\local\\programs\\python\\python38\\lib\\site-packages\\sklearn\\utils\\validation.py:1111: DataConversionWarning: A column-vector y was passed when a 1d array was expected. Please change the shape of y to (n_samples, ), for example using ravel().\n",
      "  y = column_or_1d(y, warn=True)\n",
      "c:\\users\\luis\\appdata\\local\\programs\\python\\python38\\lib\\site-packages\\sklearn\\utils\\validation.py:1111: DataConversionWarning: A column-vector y was passed when a 1d array was expected. Please change the shape of y to (n_samples, ), for example using ravel().\n",
      "  y = column_or_1d(y, warn=True)\n"
     ]
    },
    {
     "name": "stdout",
     "output_type": "stream",
     "text": [
      "[CV 3/5] END C=0.001, class_weight=balanced, penalty=l1;, score=0.272 total time=   0.0s\n",
      "[CV 4/5] END C=0.001, class_weight=balanced, penalty=l1;, score=0.272 total time=   0.0s\n",
      "[CV 5/5] END C=0.001, class_weight=balanced, penalty=l1;, score=0.266 total time=   0.0s\n",
      "[CV 1/5] END C=0.001, class_weight=balanced, penalty=l2;, score=0.712 total time=   0.0s\n",
      "[CV 2/5] END C=0.001, class_weight=balanced, penalty=l2;, score=0.712 total time=   0.0s\n",
      "[CV 3/5] END C=0.001, class_weight=balanced, penalty=l2;, score=0.728 total time=   0.0s\n",
      "[CV 4/5] END C=0.001, class_weight=balanced, penalty=l2;, score=0.712 total time=   0.0s\n",
      "[CV 5/5] END C=0.001, class_weight=balanced, penalty=l2;, score=0.677 total time=   0.0s\n",
      "[CV 1/5] END C=0.001, class_weight=None, penalty=none;, score=nan total time=   0.0s\n",
      "[CV 2/5] END C=0.001, class_weight=None, penalty=none;, score=nan total time=   0.0s\n",
      "[CV 3/5] END C=0.001, class_weight=None, penalty=none;, score=nan total time=   0.0s\n",
      "[CV 4/5] END C=0.001, class_weight=None, penalty=none;, score=nan total time=   0.0s\n",
      "[CV 5/5] END C=0.001, class_weight=None, penalty=none;, score=nan total time=   0.0s\n",
      "[CV 1/5] END C=0.001, class_weight=None, penalty=l1;, score=0.264 total time=   0.0s\n",
      "[CV 2/5] END C=0.001, class_weight=None, penalty=l1;, score=0.272 total time=   0.0s\n",
      "[CV 3/5] END C=0.001, class_weight=None, penalty=l1;, score=0.272 total time=   0.0s\n"
     ]
    },
    {
     "name": "stderr",
     "output_type": "stream",
     "text": [
      "c:\\users\\luis\\appdata\\local\\programs\\python\\python38\\lib\\site-packages\\sklearn\\utils\\validation.py:1111: DataConversionWarning: A column-vector y was passed when a 1d array was expected. Please change the shape of y to (n_samples, ), for example using ravel().\n",
      "  y = column_or_1d(y, warn=True)\n",
      "c:\\users\\luis\\appdata\\local\\programs\\python\\python38\\lib\\site-packages\\sklearn\\utils\\validation.py:1111: DataConversionWarning: A column-vector y was passed when a 1d array was expected. Please change the shape of y to (n_samples, ), for example using ravel().\n",
      "  y = column_or_1d(y, warn=True)\n",
      "c:\\users\\luis\\appdata\\local\\programs\\python\\python38\\lib\\site-packages\\sklearn\\utils\\validation.py:1111: DataConversionWarning: A column-vector y was passed when a 1d array was expected. Please change the shape of y to (n_samples, ), for example using ravel().\n",
      "  y = column_or_1d(y, warn=True)\n",
      "c:\\users\\luis\\appdata\\local\\programs\\python\\python38\\lib\\site-packages\\sklearn\\utils\\validation.py:1111: DataConversionWarning: A column-vector y was passed when a 1d array was expected. Please change the shape of y to (n_samples, ), for example using ravel().\n",
      "  y = column_or_1d(y, warn=True)\n",
      "c:\\users\\luis\\appdata\\local\\programs\\python\\python38\\lib\\site-packages\\sklearn\\utils\\validation.py:1111: DataConversionWarning: A column-vector y was passed when a 1d array was expected. Please change the shape of y to (n_samples, ), for example using ravel().\n",
      "  y = column_or_1d(y, warn=True)\n",
      "c:\\users\\luis\\appdata\\local\\programs\\python\\python38\\lib\\site-packages\\sklearn\\utils\\validation.py:1111: DataConversionWarning: A column-vector y was passed when a 1d array was expected. Please change the shape of y to (n_samples, ), for example using ravel().\n",
      "  y = column_or_1d(y, warn=True)\n",
      "c:\\users\\luis\\appdata\\local\\programs\\python\\python38\\lib\\site-packages\\sklearn\\utils\\validation.py:1111: DataConversionWarning: A column-vector y was passed when a 1d array was expected. Please change the shape of y to (n_samples, ), for example using ravel().\n",
      "  y = column_or_1d(y, warn=True)\n",
      "c:\\users\\luis\\appdata\\local\\programs\\python\\python38\\lib\\site-packages\\sklearn\\utils\\validation.py:1111: DataConversionWarning: A column-vector y was passed when a 1d array was expected. Please change the shape of y to (n_samples, ), for example using ravel().\n",
      "  y = column_or_1d(y, warn=True)\n",
      "c:\\users\\luis\\appdata\\local\\programs\\python\\python38\\lib\\site-packages\\sklearn\\utils\\validation.py:1111: DataConversionWarning: A column-vector y was passed when a 1d array was expected. Please change the shape of y to (n_samples, ), for example using ravel().\n",
      "  y = column_or_1d(y, warn=True)\n",
      "c:\\users\\luis\\appdata\\local\\programs\\python\\python38\\lib\\site-packages\\sklearn\\utils\\validation.py:1111: DataConversionWarning: A column-vector y was passed when a 1d array was expected. Please change the shape of y to (n_samples, ), for example using ravel().\n",
      "  y = column_or_1d(y, warn=True)\n",
      "c:\\users\\luis\\appdata\\local\\programs\\python\\python38\\lib\\site-packages\\sklearn\\utils\\validation.py:1111: DataConversionWarning: A column-vector y was passed when a 1d array was expected. Please change the shape of y to (n_samples, ), for example using ravel().\n",
      "  y = column_or_1d(y, warn=True)\n"
     ]
    },
    {
     "name": "stdout",
     "output_type": "stream",
     "text": [
      "[CV 4/5] END C=0.001, class_weight=None, penalty=l1;, score=0.272 total time=   0.0s\n",
      "[CV 5/5] END C=0.001, class_weight=None, penalty=l1;, score=0.266 total time=   0.0s\n",
      "[CV 1/5] END C=0.001, class_weight=None, penalty=l2;, score=0.736 total time=   0.0s\n",
      "[CV 2/5] END C=0.001, class_weight=None, penalty=l2;, score=0.728 total time=   0.0s\n",
      "[CV 3/5] END C=0.001, class_weight=None, penalty=l2;, score=0.728 total time=   0.0s\n",
      "[CV 4/5] END C=0.001, class_weight=None, penalty=l2;, score=0.728 total time=   0.0s\n",
      "[CV 5/5] END C=0.001, class_weight=None, penalty=l2;, score=0.734 total time=   0.0s\n",
      "[CV 1/5] END C=0.0001, class_weight=balanced, penalty=none;, score=nan total time=   0.0s\n",
      "[CV 2/5] END C=0.0001, class_weight=balanced, penalty=none;, score=nan total time=   0.0s\n",
      "[CV 3/5] END C=0.0001, class_weight=balanced, penalty=none;, score=nan total time=   0.0s\n",
      "[CV 4/5] END C=0.0001, class_weight=balanced, penalty=none;, score=nan total time=   0.0s\n",
      "[CV 5/5] END C=0.0001, class_weight=balanced, penalty=none;, score=nan total time=   0.0s\n",
      "[CV 1/5] END C=0.0001, class_weight=balanced, penalty=l1;, score=0.264 total time=   0.0s\n",
      "[CV 2/5] END C=0.0001, class_weight=balanced, penalty=l1;, score=0.272 total time=   0.0s\n",
      "[CV 3/5] END C=0.0001, class_weight=balanced, penalty=l1;, score=0.272 total time=   0.0s\n"
     ]
    },
    {
     "name": "stderr",
     "output_type": "stream",
     "text": [
      "c:\\users\\luis\\appdata\\local\\programs\\python\\python38\\lib\\site-packages\\sklearn\\utils\\validation.py:1111: DataConversionWarning: A column-vector y was passed when a 1d array was expected. Please change the shape of y to (n_samples, ), for example using ravel().\n",
      "  y = column_or_1d(y, warn=True)\n",
      "c:\\users\\luis\\appdata\\local\\programs\\python\\python38\\lib\\site-packages\\sklearn\\utils\\validation.py:1111: DataConversionWarning: A column-vector y was passed when a 1d array was expected. Please change the shape of y to (n_samples, ), for example using ravel().\n",
      "  y = column_or_1d(y, warn=True)\n",
      "c:\\users\\luis\\appdata\\local\\programs\\python\\python38\\lib\\site-packages\\sklearn\\utils\\validation.py:1111: DataConversionWarning: A column-vector y was passed when a 1d array was expected. Please change the shape of y to (n_samples, ), for example using ravel().\n",
      "  y = column_or_1d(y, warn=True)\n",
      "c:\\users\\luis\\appdata\\local\\programs\\python\\python38\\lib\\site-packages\\sklearn\\utils\\validation.py:1111: DataConversionWarning: A column-vector y was passed when a 1d array was expected. Please change the shape of y to (n_samples, ), for example using ravel().\n",
      "  y = column_or_1d(y, warn=True)\n",
      "c:\\users\\luis\\appdata\\local\\programs\\python\\python38\\lib\\site-packages\\sklearn\\utils\\validation.py:1111: DataConversionWarning: A column-vector y was passed when a 1d array was expected. Please change the shape of y to (n_samples, ), for example using ravel().\n",
      "  y = column_or_1d(y, warn=True)\n",
      "c:\\users\\luis\\appdata\\local\\programs\\python\\python38\\lib\\site-packages\\sklearn\\utils\\validation.py:1111: DataConversionWarning: A column-vector y was passed when a 1d array was expected. Please change the shape of y to (n_samples, ), for example using ravel().\n",
      "  y = column_or_1d(y, warn=True)\n",
      "c:\\users\\luis\\appdata\\local\\programs\\python\\python38\\lib\\site-packages\\sklearn\\utils\\validation.py:1111: DataConversionWarning: A column-vector y was passed when a 1d array was expected. Please change the shape of y to (n_samples, ), for example using ravel().\n",
      "  y = column_or_1d(y, warn=True)\n",
      "c:\\users\\luis\\appdata\\local\\programs\\python\\python38\\lib\\site-packages\\sklearn\\utils\\validation.py:1111: DataConversionWarning: A column-vector y was passed when a 1d array was expected. Please change the shape of y to (n_samples, ), for example using ravel().\n",
      "  y = column_or_1d(y, warn=True)\n",
      "c:\\users\\luis\\appdata\\local\\programs\\python\\python38\\lib\\site-packages\\sklearn\\utils\\validation.py:1111: DataConversionWarning: A column-vector y was passed when a 1d array was expected. Please change the shape of y to (n_samples, ), for example using ravel().\n",
      "  y = column_or_1d(y, warn=True)\n",
      "c:\\users\\luis\\appdata\\local\\programs\\python\\python38\\lib\\site-packages\\sklearn\\utils\\validation.py:1111: DataConversionWarning: A column-vector y was passed when a 1d array was expected. Please change the shape of y to (n_samples, ), for example using ravel().\n",
      "  y = column_or_1d(y, warn=True)\n"
     ]
    },
    {
     "name": "stdout",
     "output_type": "stream",
     "text": [
      "[CV 4/5] END C=0.0001, class_weight=balanced, penalty=l1;, score=0.272 total time=   0.0s\n",
      "[CV 5/5] END C=0.0001, class_weight=balanced, penalty=l1;, score=0.266 total time=   0.0s\n",
      "[CV 1/5] END C=0.0001, class_weight=balanced, penalty=l2;, score=0.792 total time=   0.0s\n",
      "[CV 2/5] END C=0.0001, class_weight=balanced, penalty=l2;, score=0.728 total time=   0.0s\n",
      "[CV 3/5] END C=0.0001, class_weight=balanced, penalty=l2;, score=0.704 total time=   0.0s\n",
      "[CV 4/5] END C=0.0001, class_weight=balanced, penalty=l2;, score=0.712 total time=   0.0s\n",
      "[CV 5/5] END C=0.0001, class_weight=balanced, penalty=l2;, score=0.758 total time=   0.0s\n",
      "[CV 1/5] END C=0.0001, class_weight=None, penalty=none;, score=nan total time=   0.0s\n",
      "[CV 2/5] END C=0.0001, class_weight=None, penalty=none;, score=nan total time=   0.0s\n",
      "[CV 3/5] END C=0.0001, class_weight=None, penalty=none;, score=nan total time=   0.0s\n",
      "[CV 4/5] END C=0.0001, class_weight=None, penalty=none;, score=nan total time=   0.0s\n",
      "[CV 5/5] END C=0.0001, class_weight=None, penalty=none;, score=nan total time=   0.0s\n",
      "[CV 1/5] END C=0.0001, class_weight=None, penalty=l1;, score=0.264 total time=   0.0s\n",
      "[CV 2/5] END C=0.0001, class_weight=None, penalty=l1;, score=0.272 total time=   0.0s\n",
      "[CV 3/5] END C=0.0001, class_weight=None, penalty=l1;, score=0.272 total time=   0.0s\n",
      "[CV 4/5] END C=0.0001, class_weight=None, penalty=l1;, score=0.272 total time=   0.0s\n"
     ]
    },
    {
     "name": "stderr",
     "output_type": "stream",
     "text": [
      "c:\\users\\luis\\appdata\\local\\programs\\python\\python38\\lib\\site-packages\\sklearn\\utils\\validation.py:1111: DataConversionWarning: A column-vector y was passed when a 1d array was expected. Please change the shape of y to (n_samples, ), for example using ravel().\n",
      "  y = column_or_1d(y, warn=True)\n",
      "c:\\users\\luis\\appdata\\local\\programs\\python\\python38\\lib\\site-packages\\sklearn\\utils\\validation.py:1111: DataConversionWarning: A column-vector y was passed when a 1d array was expected. Please change the shape of y to (n_samples, ), for example using ravel().\n",
      "  y = column_or_1d(y, warn=True)\n",
      "c:\\users\\luis\\appdata\\local\\programs\\python\\python38\\lib\\site-packages\\sklearn\\utils\\validation.py:1111: DataConversionWarning: A column-vector y was passed when a 1d array was expected. Please change the shape of y to (n_samples, ), for example using ravel().\n",
      "  y = column_or_1d(y, warn=True)\n",
      "c:\\users\\luis\\appdata\\local\\programs\\python\\python38\\lib\\site-packages\\sklearn\\utils\\validation.py:1111: DataConversionWarning: A column-vector y was passed when a 1d array was expected. Please change the shape of y to (n_samples, ), for example using ravel().\n",
      "  y = column_or_1d(y, warn=True)\n",
      "c:\\users\\luis\\appdata\\local\\programs\\python\\python38\\lib\\site-packages\\sklearn\\utils\\validation.py:1111: DataConversionWarning: A column-vector y was passed when a 1d array was expected. Please change the shape of y to (n_samples, ), for example using ravel().\n",
      "  y = column_or_1d(y, warn=True)\n",
      "c:\\users\\luis\\appdata\\local\\programs\\python\\python38\\lib\\site-packages\\sklearn\\utils\\validation.py:1111: DataConversionWarning: A column-vector y was passed when a 1d array was expected. Please change the shape of y to (n_samples, ), for example using ravel().\n",
      "  y = column_or_1d(y, warn=True)\n",
      "c:\\users\\luis\\appdata\\local\\programs\\python\\python38\\lib\\site-packages\\sklearn\\utils\\validation.py:1111: DataConversionWarning: A column-vector y was passed when a 1d array was expected. Please change the shape of y to (n_samples, ), for example using ravel().\n",
      "  y = column_or_1d(y, warn=True)\n",
      "c:\\users\\luis\\appdata\\local\\programs\\python\\python38\\lib\\site-packages\\sklearn\\utils\\validation.py:1111: DataConversionWarning: A column-vector y was passed when a 1d array was expected. Please change the shape of y to (n_samples, ), for example using ravel().\n",
      "  y = column_or_1d(y, warn=True)\n",
      "c:\\users\\luis\\appdata\\local\\programs\\python\\python38\\lib\\site-packages\\sklearn\\utils\\validation.py:1111: DataConversionWarning: A column-vector y was passed when a 1d array was expected. Please change the shape of y to (n_samples, ), for example using ravel().\n",
      "  y = column_or_1d(y, warn=True)\n",
      "c:\\users\\luis\\appdata\\local\\programs\\python\\python38\\lib\\site-packages\\sklearn\\utils\\validation.py:1111: DataConversionWarning: A column-vector y was passed when a 1d array was expected. Please change the shape of y to (n_samples, ), for example using ravel().\n",
      "  y = column_or_1d(y, warn=True)\n",
      "c:\\users\\luis\\appdata\\local\\programs\\python\\python38\\lib\\site-packages\\sklearn\\utils\\validation.py:1111: DataConversionWarning: A column-vector y was passed when a 1d array was expected. Please change the shape of y to (n_samples, ), for example using ravel().\n",
      "  y = column_or_1d(y, warn=True)\n"
     ]
    },
    {
     "name": "stdout",
     "output_type": "stream",
     "text": [
      "[CV 5/5] END C=0.0001, class_weight=None, penalty=l1;, score=0.266 total time=   0.0s\n",
      "[CV 1/5] END C=0.0001, class_weight=None, penalty=l2;, score=0.736 total time=   0.0s\n",
      "[CV 2/5] END C=0.0001, class_weight=None, penalty=l2;, score=0.728 total time=   0.0s\n",
      "[CV 3/5] END C=0.0001, class_weight=None, penalty=l2;, score=0.728 total time=   0.0s\n",
      "[CV 4/5] END C=0.0001, class_weight=None, penalty=l2;, score=0.728 total time=   0.0s\n",
      "[CV 5/5] END C=0.0001, class_weight=None, penalty=l2;, score=0.734 total time=   0.0s\n",
      "[CV 1/5] END C=1e-05, class_weight=balanced, penalty=none;, score=nan total time=   0.0s\n",
      "[CV 2/5] END C=1e-05, class_weight=balanced, penalty=none;, score=nan total time=   0.0s\n",
      "[CV 3/5] END C=1e-05, class_weight=balanced, penalty=none;, score=nan total time=   0.0s\n",
      "[CV 4/5] END C=1e-05, class_weight=balanced, penalty=none;, score=nan total time=   0.0s\n",
      "[CV 5/5] END C=1e-05, class_weight=balanced, penalty=none;, score=nan total time=   0.0s\n",
      "[CV 1/5] END C=1e-05, class_weight=balanced, penalty=l1;, score=0.264 total time=   0.0s\n",
      "[CV 2/5] END C=1e-05, class_weight=balanced, penalty=l1;, score=0.272 total time=   0.0s\n",
      "[CV 3/5] END C=1e-05, class_weight=balanced, penalty=l1;, score=0.272 total time=   0.0s\n",
      "[CV 4/5] END C=1e-05, class_weight=balanced, penalty=l1;, score=0.272 total time=   0.0s\n",
      "[CV 5/5] END C=1e-05, class_weight=balanced, penalty=l1;, score=0.266 total time=   0.0s\n",
      "[CV 1/5] END C=1e-05, class_weight=balanced, penalty=l2;, score=0.792 total time=   0.0s\n"
     ]
    },
    {
     "name": "stderr",
     "output_type": "stream",
     "text": [
      "c:\\users\\luis\\appdata\\local\\programs\\python\\python38\\lib\\site-packages\\sklearn\\utils\\validation.py:1111: DataConversionWarning: A column-vector y was passed when a 1d array was expected. Please change the shape of y to (n_samples, ), for example using ravel().\n",
      "  y = column_or_1d(y, warn=True)\n",
      "c:\\users\\luis\\appdata\\local\\programs\\python\\python38\\lib\\site-packages\\sklearn\\utils\\validation.py:1111: DataConversionWarning: A column-vector y was passed when a 1d array was expected. Please change the shape of y to (n_samples, ), for example using ravel().\n",
      "  y = column_or_1d(y, warn=True)\n",
      "c:\\users\\luis\\appdata\\local\\programs\\python\\python38\\lib\\site-packages\\sklearn\\utils\\validation.py:1111: DataConversionWarning: A column-vector y was passed when a 1d array was expected. Please change the shape of y to (n_samples, ), for example using ravel().\n",
      "  y = column_or_1d(y, warn=True)\n",
      "c:\\users\\luis\\appdata\\local\\programs\\python\\python38\\lib\\site-packages\\sklearn\\utils\\validation.py:1111: DataConversionWarning: A column-vector y was passed when a 1d array was expected. Please change the shape of y to (n_samples, ), for example using ravel().\n",
      "  y = column_or_1d(y, warn=True)\n",
      "c:\\users\\luis\\appdata\\local\\programs\\python\\python38\\lib\\site-packages\\sklearn\\utils\\validation.py:1111: DataConversionWarning: A column-vector y was passed when a 1d array was expected. Please change the shape of y to (n_samples, ), for example using ravel().\n",
      "  y = column_or_1d(y, warn=True)\n",
      "c:\\users\\luis\\appdata\\local\\programs\\python\\python38\\lib\\site-packages\\sklearn\\utils\\validation.py:1111: DataConversionWarning: A column-vector y was passed when a 1d array was expected. Please change the shape of y to (n_samples, ), for example using ravel().\n",
      "  y = column_or_1d(y, warn=True)\n",
      "c:\\users\\luis\\appdata\\local\\programs\\python\\python38\\lib\\site-packages\\sklearn\\utils\\validation.py:1111: DataConversionWarning: A column-vector y was passed when a 1d array was expected. Please change the shape of y to (n_samples, ), for example using ravel().\n",
      "  y = column_or_1d(y, warn=True)\n",
      "c:\\users\\luis\\appdata\\local\\programs\\python\\python38\\lib\\site-packages\\sklearn\\utils\\validation.py:1111: DataConversionWarning: A column-vector y was passed when a 1d array was expected. Please change the shape of y to (n_samples, ), for example using ravel().\n",
      "  y = column_or_1d(y, warn=True)\n",
      "c:\\users\\luis\\appdata\\local\\programs\\python\\python38\\lib\\site-packages\\sklearn\\utils\\validation.py:1111: DataConversionWarning: A column-vector y was passed when a 1d array was expected. Please change the shape of y to (n_samples, ), for example using ravel().\n",
      "  y = column_or_1d(y, warn=True)\n",
      "c:\\users\\luis\\appdata\\local\\programs\\python\\python38\\lib\\site-packages\\sklearn\\utils\\validation.py:1111: DataConversionWarning: A column-vector y was passed when a 1d array was expected. Please change the shape of y to (n_samples, ), for example using ravel().\n",
      "  y = column_or_1d(y, warn=True)\n",
      "c:\\users\\luis\\appdata\\local\\programs\\python\\python38\\lib\\site-packages\\sklearn\\utils\\validation.py:1111: DataConversionWarning: A column-vector y was passed when a 1d array was expected. Please change the shape of y to (n_samples, ), for example using ravel().\n",
      "  y = column_or_1d(y, warn=True)\n",
      "c:\\users\\luis\\appdata\\local\\programs\\python\\python38\\lib\\site-packages\\sklearn\\utils\\validation.py:1111: DataConversionWarning: A column-vector y was passed when a 1d array was expected. Please change the shape of y to (n_samples, ), for example using ravel().\n",
      "  y = column_or_1d(y, warn=True)\n"
     ]
    },
    {
     "name": "stdout",
     "output_type": "stream",
     "text": [
      "[CV 2/5] END C=1e-05, class_weight=balanced, penalty=l2;, score=0.736 total time=   0.0s\n",
      "[CV 3/5] END C=1e-05, class_weight=balanced, penalty=l2;, score=0.720 total time=   0.0s\n",
      "[CV 4/5] END C=1e-05, class_weight=balanced, penalty=l2;, score=0.760 total time=   0.0s\n",
      "[CV 5/5] END C=1e-05, class_weight=balanced, penalty=l2;, score=0.758 total time=   0.0s\n",
      "[CV 1/5] END C=1e-05, class_weight=None, penalty=none;, score=nan total time=   0.0s\n",
      "[CV 2/5] END C=1e-05, class_weight=None, penalty=none;, score=nan total time=   0.0s\n",
      "[CV 3/5] END C=1e-05, class_weight=None, penalty=none;, score=nan total time=   0.0s\n",
      "[CV 4/5] END C=1e-05, class_weight=None, penalty=none;, score=nan total time=   0.0s\n",
      "[CV 5/5] END C=1e-05, class_weight=None, penalty=none;, score=nan total time=   0.0s\n",
      "[CV 1/5] END C=1e-05, class_weight=None, penalty=l1;, score=0.264 total time=   0.0s\n",
      "[CV 2/5] END C=1e-05, class_weight=None, penalty=l1;, score=0.272 total time=   0.0s\n",
      "[CV 3/5] END C=1e-05, class_weight=None, penalty=l1;, score=0.272 total time=   0.0s\n",
      "[CV 4/5] END C=1e-05, class_weight=None, penalty=l1;, score=0.272 total time=   0.0s\n",
      "[CV 5/5] END C=1e-05, class_weight=None, penalty=l1;, score=0.266 total time=   0.0s\n",
      "[CV 1/5] END C=1e-05, class_weight=None, penalty=l2;, score=0.736 total time=   0.0s\n",
      "[CV 2/5] END C=1e-05, class_weight=None, penalty=l2;, score=0.728 total time=   0.0s\n",
      "[CV 3/5] END C=1e-05, class_weight=None, penalty=l2;, score=0.728 total time=   0.0s\n",
      "[CV 4/5] END C=1e-05, class_weight=None, penalty=l2;, score=0.728 total time=   0.0s\n"
     ]
    },
    {
     "name": "stderr",
     "output_type": "stream",
     "text": [
      "c:\\users\\luis\\appdata\\local\\programs\\python\\python38\\lib\\site-packages\\sklearn\\utils\\validation.py:1111: DataConversionWarning: A column-vector y was passed when a 1d array was expected. Please change the shape of y to (n_samples, ), for example using ravel().\n",
      "  y = column_or_1d(y, warn=True)\n",
      "c:\\users\\luis\\appdata\\local\\programs\\python\\python38\\lib\\site-packages\\sklearn\\utils\\validation.py:1111: DataConversionWarning: A column-vector y was passed when a 1d array was expected. Please change the shape of y to (n_samples, ), for example using ravel().\n",
      "  y = column_or_1d(y, warn=True)\n",
      "c:\\users\\luis\\appdata\\local\\programs\\python\\python38\\lib\\site-packages\\sklearn\\utils\\validation.py:1111: DataConversionWarning: A column-vector y was passed when a 1d array was expected. Please change the shape of y to (n_samples, ), for example using ravel().\n",
      "  y = column_or_1d(y, warn=True)\n",
      "c:\\users\\luis\\appdata\\local\\programs\\python\\python38\\lib\\site-packages\\sklearn\\utils\\validation.py:1111: DataConversionWarning: A column-vector y was passed when a 1d array was expected. Please change the shape of y to (n_samples, ), for example using ravel().\n",
      "  y = column_or_1d(y, warn=True)\n",
      "c:\\users\\luis\\appdata\\local\\programs\\python\\python38\\lib\\site-packages\\sklearn\\utils\\validation.py:1111: DataConversionWarning: A column-vector y was passed when a 1d array was expected. Please change the shape of y to (n_samples, ), for example using ravel().\n",
      "  y = column_or_1d(y, warn=True)\n",
      "c:\\users\\luis\\appdata\\local\\programs\\python\\python38\\lib\\site-packages\\sklearn\\utils\\validation.py:1111: DataConversionWarning: A column-vector y was passed when a 1d array was expected. Please change the shape of y to (n_samples, ), for example using ravel().\n",
      "  y = column_or_1d(y, warn=True)\n",
      "c:\\users\\luis\\appdata\\local\\programs\\python\\python38\\lib\\site-packages\\sklearn\\utils\\validation.py:1111: DataConversionWarning: A column-vector y was passed when a 1d array was expected. Please change the shape of y to (n_samples, ), for example using ravel().\n",
      "  y = column_or_1d(y, warn=True)\n",
      "c:\\users\\luis\\appdata\\local\\programs\\python\\python38\\lib\\site-packages\\sklearn\\utils\\validation.py:1111: DataConversionWarning: A column-vector y was passed when a 1d array was expected. Please change the shape of y to (n_samples, ), for example using ravel().\n",
      "  y = column_or_1d(y, warn=True)\n",
      "c:\\users\\luis\\appdata\\local\\programs\\python\\python38\\lib\\site-packages\\sklearn\\utils\\validation.py:1111: DataConversionWarning: A column-vector y was passed when a 1d array was expected. Please change the shape of y to (n_samples, ), for example using ravel().\n",
      "  y = column_or_1d(y, warn=True)\n",
      "c:\\users\\luis\\appdata\\local\\programs\\python\\python38\\lib\\site-packages\\sklearn\\utils\\validation.py:1111: DataConversionWarning: A column-vector y was passed when a 1d array was expected. Please change the shape of y to (n_samples, ), for example using ravel().\n",
      "  y = column_or_1d(y, warn=True)\n",
      "c:\\users\\luis\\appdata\\local\\programs\\python\\python38\\lib\\site-packages\\sklearn\\utils\\validation.py:1111: DataConversionWarning: A column-vector y was passed when a 1d array was expected. Please change the shape of y to (n_samples, ), for example using ravel().\n",
      "  y = column_or_1d(y, warn=True)\n",
      "c:\\users\\luis\\appdata\\local\\programs\\python\\python38\\lib\\site-packages\\sklearn\\utils\\validation.py:1111: DataConversionWarning: A column-vector y was passed when a 1d array was expected. Please change the shape of y to (n_samples, ), for example using ravel().\n",
      "  y = column_or_1d(y, warn=True)\n"
     ]
    },
    {
     "name": "stdout",
     "output_type": "stream",
     "text": [
      "[CV 5/5] END C=1e-05, class_weight=None, penalty=l2;, score=0.734 total time=   0.0s\n"
     ]
    },
    {
     "name": "stderr",
     "output_type": "stream",
     "text": [
      "c:\\users\\luis\\appdata\\local\\programs\\python\\python38\\lib\\site-packages\\sklearn\\utils\\validation.py:1111: DataConversionWarning: A column-vector y was passed when a 1d array was expected. Please change the shape of y to (n_samples, ), for example using ravel().\n",
      "  y = column_or_1d(y, warn=True)\n",
      "c:\\users\\luis\\appdata\\local\\programs\\python\\python38\\lib\\site-packages\\sklearn\\model_selection\\_validation.py:378: FitFailedWarning: \n",
      "90 fits failed out of a total of 270.\n",
      "The score on these train-test partitions for these parameters will be set to nan.\n",
      "If these failures are not expected, you can try to debug them by setting error_score='raise'.\n",
      "\n",
      "Below are more details about the failures:\n",
      "--------------------------------------------------------------------------------\n",
      "90 fits failed with the following error:\n",
      "Traceback (most recent call last):\n",
      "  File \"c:\\users\\luis\\appdata\\local\\programs\\python\\python38\\lib\\site-packages\\sklearn\\model_selection\\_validation.py\", line 686, in _fit_and_score\n",
      "    estimator.fit(X_train, y_train, **fit_params)\n",
      "  File \"c:\\users\\luis\\appdata\\local\\programs\\python\\python38\\lib\\site-packages\\sklearn\\linear_model\\_logistic.py\", line 1091, in fit\n",
      "    solver = _check_solver(self.solver, self.penalty, self.dual)\n",
      "  File \"c:\\users\\luis\\appdata\\local\\programs\\python\\python38\\lib\\site-packages\\sklearn\\linear_model\\_logistic.py\", line 78, in _check_solver\n",
      "    raise ValueError(\"penalty='none' is not supported for the liblinear solver\")\n",
      "ValueError: penalty='none' is not supported for the liblinear solver\n",
      "\n",
      "  warnings.warn(some_fits_failed_message, FitFailedWarning)\n",
      "c:\\users\\luis\\appdata\\local\\programs\\python\\python38\\lib\\site-packages\\sklearn\\model_selection\\_search.py:953: UserWarning: One or more of the test scores are non-finite: [       nan 0.76927742 0.76767742        nan 0.77890323 0.76927742\n",
      "        nan 0.77247742 0.76927742        nan 0.76607742 0.77087742\n",
      "        nan 0.77086452 0.76926452        nan 0.77886452 0.78046452\n",
      "        nan 0.7516     0.77089032        nan 0.78527742 0.79006452\n",
      "        nan 0.71153548 0.7403871         nan 0.73077419 0.80130323\n",
      "        nan 0.26922581 0.70030968        nan 0.73077419 0.76447742\n",
      "        nan 0.26922581 0.70828387        nan 0.26922581 0.73077419\n",
      "        nan 0.26922581 0.7388129         nan 0.26922581 0.73077419\n",
      "        nan 0.26922581 0.7532129         nan 0.26922581 0.73077419]\n",
      "  warnings.warn(\n",
      "c:\\users\\luis\\appdata\\local\\programs\\python\\python38\\lib\\site-packages\\sklearn\\utils\\validation.py:1111: DataConversionWarning: A column-vector y was passed when a 1d array was expected. Please change the shape of y to (n_samples, ), for example using ravel().\n",
      "  y = column_or_1d(y, warn=True)\n"
     ]
    },
    {
     "data": {
      "text/plain": [
       "{'C': 0.1, 'class_weight': None, 'penalty': 'l2'}"
      ]
     },
     "execution_count": 128,
     "metadata": {},
     "output_type": "execute_result"
    }
   ],
   "source": [
    "# Validação Cruzada pelo GridSearchCV\n",
    "# Foram fixados, dentre os parâmetros da Regressão Logística, apenas o solver como liblinear e as iterações maximas como 3000\n",
    "# Tipo de regularização variando entre nenhuma, l1 e l2:\n",
    "penalty_vector = [\"none\", \"l1\", \"l2\"]\n",
    "# Valores inversos da força da regularização (valores menores representam regularizações maiores):\n",
    "C_vector = [1000, 100, 10, 1, 1e-1, 1e-2, 1e-3, 1e-4, 1e-5]\n",
    "# Peso das classes variando entre balanceado e não balanceado:\n",
    "c_weight_vector = [\"balanced\", None]\n",
    "# dicionário dos parâmetros da regressão logística para a serem utilizados no GridSearchCV\n",
    "dict_grid={'penalty':penalty_vector,'C':C_vector,'class_weight': c_weight_vector}\n",
    "logreg = LogisticRegression(solver='liblinear', max_iter=3000)\n",
    "# Foi escolhida a validação cruzada padrão do GridSearchCV que é kfold para 5 folds, será aplicada no conjunto treino+validação\n",
    "# O parâmetro verbose printa mensagens \n",
    "CV = GridSearchCV(estimator=logreg, param_grid=dict_grid, cv=5, verbose=4)\n",
    "CV_fit=CV.fit(x_tv_n,y_tv)\n",
    "# Melhores parâmetros\n",
    "CV_fit.best_params_"
   ]
  },
  {
   "cell_type": "code",
   "execution_count": 129,
   "id": "b3cf6b88",
   "metadata": {},
   "outputs": [
    {
     "name": "stdout",
     "output_type": "stream",
     "text": [
      "[[0.06067869 0.93932131]\n",
      " [0.2854163  0.7145837 ]\n",
      " [0.06985456 0.93014544]\n",
      " ...\n",
      " [0.29346189 0.70653811]\n",
      " [0.67610775 0.32389225]\n",
      " [0.14880637 0.85119363]]\n",
      "(624, 2)\n",
      "[[0.67297394 0.32702606]\n",
      " [0.43453699 0.56546301]\n",
      " [0.13368758 0.86631242]\n",
      " [0.35177698 0.64822302]\n",
      " [0.20129408 0.79870592]\n",
      " [0.35531084 0.64468916]\n",
      " [0.93447975 0.06552025]\n",
      " [0.4865296  0.5134704 ]\n",
      " [0.13970125 0.86029875]\n",
      " [0.07872003 0.92127997]\n",
      " [0.90133957 0.09866043]\n",
      " [0.20288288 0.79711712]\n",
      " [0.43365063 0.56634937]\n",
      " [0.5004047  0.4995953 ]\n",
      " [0.24555518 0.75444482]\n",
      " [0.12725562 0.87274438]\n",
      " [0.40262014 0.59737986]\n",
      " [0.00631141 0.99368859]\n",
      " [0.03787803 0.96212197]\n",
      " [0.6447065  0.3552935 ]\n",
      " [0.84806809 0.15193191]\n",
      " [0.07026961 0.92973039]\n",
      " [0.46901195 0.53098805]\n",
      " [0.63677042 0.36322958]\n",
      " [0.93699685 0.06300315]\n",
      " [0.66645756 0.33354244]\n",
      " [0.91964923 0.08035077]\n",
      " [0.17806688 0.82193312]\n",
      " [0.2581009  0.7418991 ]\n",
      " [0.00252357 0.99747643]\n",
      " [0.40130304 0.59869696]\n",
      " [0.08190583 0.91809417]\n",
      " [0.03489127 0.96510873]\n",
      " [0.31923892 0.68076108]\n",
      " [0.07707212 0.92292788]\n",
      " [0.17441261 0.82558739]\n",
      " [0.10866593 0.89133407]\n",
      " [0.01262462 0.98737538]\n",
      " [0.81123776 0.18876224]\n",
      " [0.03943557 0.96056443]\n",
      " [0.34075027 0.65924973]\n",
      " [0.47178404 0.52821596]\n",
      " [0.40272604 0.59727396]\n",
      " [0.08975597 0.91024403]\n",
      " [0.20379167 0.79620833]\n",
      " [0.85865076 0.14134924]\n",
      " [0.00739632 0.99260368]\n",
      " [0.21491863 0.78508137]\n",
      " [0.51829824 0.48170176]\n",
      " [0.31833784 0.68166216]\n",
      " [0.0761702  0.9238298 ]\n",
      " [0.03396354 0.96603646]\n",
      " [0.49939308 0.50060692]\n",
      " [0.12956114 0.87043886]\n",
      " [0.09286633 0.90713367]\n",
      " [0.74807119 0.25192881]\n",
      " [0.23040216 0.76959784]\n",
      " [0.47951887 0.52048113]\n",
      " [0.91673636 0.08326364]\n",
      " [0.40127459 0.59872541]\n",
      " [0.74598769 0.25401231]\n",
      " [0.04927013 0.95072987]\n",
      " [0.17473635 0.82526365]\n",
      " [0.78140624 0.21859376]\n",
      " [0.12319391 0.87680609]\n",
      " [0.32170742 0.67829258]\n",
      " [0.29913715 0.70086285]\n",
      " [0.69775168 0.30224832]\n",
      " [0.34737396 0.65262604]\n",
      " [0.58328487 0.41671513]\n",
      " [0.13935941 0.86064059]\n",
      " [0.04490921 0.95509079]\n",
      " [0.03628834 0.96371166]\n",
      " [0.09494286 0.90505714]\n",
      " [0.84806671 0.15193329]\n",
      " [0.35632203 0.64367797]\n",
      " [0.80891455 0.19108545]\n",
      " [0.71497368 0.28502632]\n",
      " [0.33623851 0.66376149]\n",
      " [0.09436831 0.90563169]\n",
      " [0.00190287 0.99809713]\n",
      " [0.41648884 0.58351116]\n",
      " [0.54416226 0.45583774]\n",
      " [0.78756878 0.21243122]\n",
      " [0.08738772 0.91261228]\n",
      " [0.52029356 0.47970644]\n",
      " [0.53277106 0.46722894]\n",
      " [0.51469755 0.48530245]\n",
      " [0.45034073 0.54965927]\n",
      " [0.30652428 0.69347572]\n",
      " [0.04220138 0.95779862]\n",
      " [0.5843779  0.4156221 ]\n",
      " [0.08551434 0.91448566]\n",
      " [0.20352951 0.79647049]\n",
      " [0.02967632 0.97032368]\n",
      " [0.57793764 0.42206236]\n",
      " [0.03845265 0.96154735]\n",
      " [0.13842409 0.86157591]\n",
      " [0.04450962 0.95549038]\n",
      " [0.36176443 0.63823557]\n",
      " [0.40212566 0.59787434]\n",
      " [0.05074185 0.94925815]\n",
      " [0.32789054 0.67210946]\n",
      " [0.10134016 0.89865984]\n",
      " [0.6474332  0.3525668 ]\n",
      " [0.60649212 0.39350788]\n",
      " [0.91451233 0.08548767]\n",
      " [0.77848348 0.22151652]\n",
      " [0.4061039  0.5938961 ]\n",
      " [0.30694523 0.69305477]\n",
      " [0.75545879 0.24454121]\n",
      " [0.21747908 0.78252092]\n",
      " [0.81694917 0.18305083]\n",
      " [0.08431879 0.91568121]\n",
      " [0.92069036 0.07930964]\n",
      " [0.1722885  0.8277115 ]\n",
      " [0.44785307 0.55214693]\n",
      " [0.99639058 0.00360942]\n",
      " [0.15687284 0.84312716]\n",
      " [0.41270905 0.58729095]\n",
      " [0.32831039 0.67168961]\n",
      " [0.14348167 0.85651833]\n",
      " [0.16548574 0.83451426]\n",
      " [0.78258242 0.21741758]\n",
      " [0.05052769 0.94947231]\n",
      " [0.05662446 0.94337554]\n",
      " [0.86868524 0.13131476]\n",
      " [0.59743299 0.40256701]\n",
      " [0.57500754 0.42499246]\n",
      " [0.26829305 0.73170695]\n",
      " [0.04540543 0.95459457]\n",
      " [0.36314867 0.63685133]\n",
      " [0.53911606 0.46088394]\n",
      " [0.35830675 0.64169325]\n",
      " [0.09545532 0.90454468]\n",
      " [0.55204134 0.44795866]\n",
      " [0.05704907 0.94295093]\n",
      " [0.05376996 0.94623004]\n",
      " [0.7207687  0.2792313 ]\n",
      " [0.02248962 0.97751038]\n",
      " [0.04219004 0.95780996]\n",
      " [0.00679192 0.99320808]\n",
      " [0.17458381 0.82541619]\n",
      " [0.85922992 0.14077008]\n",
      " [0.65018232 0.34981768]\n",
      " [0.07200962 0.92799038]\n",
      " [0.84126476 0.15873524]\n",
      " [0.03587201 0.96412799]\n",
      " [0.06209899 0.93790101]\n",
      " [0.56997482 0.43002518]\n",
      " [0.38287359 0.61712641]\n",
      " [0.53344982 0.46655018]\n",
      " [0.38010128 0.61989872]\n",
      " [0.74834704 0.25165296]\n",
      " [0.23191804 0.76808196]\n",
      " [0.02806452 0.97193548]]\n",
      "(156, 2)\n",
      "0.8814102564102564\n",
      "0.7948717948717948\n"
     ]
    },
    {
     "name": "stderr",
     "output_type": "stream",
     "text": [
      "c:\\users\\luis\\appdata\\local\\programs\\python\\python38\\lib\\site-packages\\sklearn\\utils\\validation.py:1111: DataConversionWarning: A column-vector y was passed when a 1d array was expected. Please change the shape of y to (n_samples, ), for example using ravel().\n",
      "  y = column_or_1d(y, warn=True)\n"
     ]
    }
   ],
   "source": [
    "# Treinando com os parâmetros ótimos 'C': 0.1, 'class_weight': None, 'penalty': 'l2', solver liblinear (dataset pequeno)\n",
    "lr_opt = LogisticRegression(penalty='l2', C=0.1, class_weight=None, solver='liblinear', max_iter=3000)\n",
    "lr_opt.fit(x_tv_n, y_tv)\n",
    "# Probabilidades estimadas\n",
    "y_proba_train = lr.predict_proba(x_tv_n)\n",
    "y_proba_test = lr.predict_proba(x_test_n)\n",
    "# Acurácia média\n",
    "score_tv= lr.score(x_tv_n, y_tv)\n",
    "score_test= lr.score(x_test_n, y_test)\n",
    "print(y_proba_train)\n",
    "print(y_proba_train.shape)\n",
    "print(y_proba_test)\n",
    "print(y_proba_test.shape)\n",
    "print(score_tv)\n",
    "print(score_test)"
   ]
  },
  {
   "cell_type": "markdown",
   "id": "d7f1edbf",
   "metadata": {},
   "source": [
    "## Métricas de desempenho"
   ]
  },
  {
   "cell_type": "markdown",
   "id": "6823814e",
   "metadata": {},
   "source": [
    "- Matriz de Confusão"
   ]
  },
  {
   "cell_type": "code",
   "execution_count": 141,
   "id": "c6e23d09",
   "metadata": {},
   "outputs": [
    {
     "data": {
      "text/plain": [
       "array([[ 16,  26],\n",
       "       [  5, 109]], dtype=int64)"
      ]
     },
     "metadata": {},
     "output_type": "display_data"
    },
    {
     "data": {
      "image/png": "[encoded data removed]",
      "text/plain": [
       "<Figure size 640x480 with 2 Axes>"
      ]
     },
     "metadata": {},
     "output_type": "display_data"
    }
   ],
   "source": [
    "# previsão para o conjunto de teste\n",
    "y_pred_test = lr_opt.predict(x_test_n)\n",
    "cm=metrics.confusion_matrix(y_test, y_pred_test)\n",
    "display(confusion_matrix)\n",
    "cm_fig=metrics.ConfusionMatrixDisplay(confusion_matrix=cm,display_labels=lr_opt.classes_)\n",
    "cm_fig.plot()\n",
    "plt.title('Confusion matrix')\n",
    "plt.show()"
   ]
  },
  {
   "cell_type": "markdown",
   "id": "90add539",
   "metadata": {},
   "source": [
    "- Acurácia"
   ]
  },
  {
   "cell_type": "code",
   "execution_count": 145,
   "id": "e3d96f1c",
   "metadata": {},
   "outputs": [
    {
     "name": "stdout",
     "output_type": "stream",
     "text": [
      "O valor da acurácia é 0.8012820512820513\n",
      "O classificador obteve boa taxa de acerto.\n"
     ]
    }
   ],
   "source": [
    "accuracy = metrics.accuracy_score(y_test, y_pred_test)\n",
    "print(\"O valor da acurácia é\",accuracy)\n",
    "print(\"O classificador obteve boa taxa de acerto.\")"
   ]
  },
  {
   "cell_type": "markdown",
   "id": "1f60fdc7",
   "metadata": {},
   "source": [
    "- F1-Medida"
   ]
  },
  {
   "cell_type": "code",
   "execution_count": 144,
   "id": "c0b01637",
   "metadata": {},
   "outputs": [
    {
     "name": "stdout",
     "output_type": "stream",
     "text": [
      "O valor da F1-Medida é 0.8755020080321286\n",
      "O classificador obteve bons resultados tanto na precisão quanto no recall.\n"
     ]
    }
   ],
   "source": [
    "F1 = metrics.f1_score(y_test, y_pred_test)\n",
    "print(\"O valor da F1-Medida é\",F1)\n",
    "print(\"O classificador obteve bons resultados tanto na precisão quanto no recall.\")"
   ]
  },
  {
   "cell_type": "markdown",
   "id": "81914d76",
   "metadata": {},
   "source": [
    "- Acurácia Balanceada"
   ]
  },
  {
   "cell_type": "code",
   "execution_count": 149,
   "id": "8cbf857e",
   "metadata": {},
   "outputs": [
    {
     "name": "stdout",
     "output_type": "stream",
     "text": [
      "O valor da acurácia balanceada é 0.668546365914787\n",
      "Valores de Especificidade não foram tão bons e valores de Recall foram muito bons.\n"
     ]
    }
   ],
   "source": [
    "a_b = metrics.balanced_accuracy_score(y_test, y_pred_test)\n",
    "print(\"O valor da acurácia balanceada é\",a_b)\n",
    "print(\"Valores de Especificidade não foram tão bons e valores de Recall foram muito bons.\")"
   ]
  },
  {
   "cell_type": "code",
   "execution_count": null,
   "id": "0a62619e",
   "metadata": {},
   "outputs": [],
   "source": []
  }
 ],
 "metadata": {
  "kernelspec": {
   "display_name": "Python 3 (ipykernel)",
   "language": "python",
   "name": "python3"
  },
  "language_info": {
   "codemirror_mode": {
    "name": "ipython",
    "version": 3
   },
   "file_extension": ".py",
   "mimetype": "text/x-python",
   "name": "python",
   "nbconvert_exporter": "python",
   "pygments_lexer": "ipython3",
   "version": "3.8.6"
  }
 },
 "nbformat": 4,
 "nbformat_minor": 5
}
