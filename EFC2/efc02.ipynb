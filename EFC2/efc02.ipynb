{
 "cells": [
  {
   "cell_type": "markdown",
   "id": "acf1e2f6",
   "metadata": {},
   "source": [
    "# IA048A - EFC 02: Classificação\n",
    "\n",
    "### Luís Antônio Almeida Lima Vieira (221045)  &  Nathan Shen Baldon (242448)"
   ]
  },
  {
   "cell_type": "code",
   "execution_count": 1,
   "id": "38dc2f8e",
   "metadata": {},
   "outputs": [],
   "source": [
    "# É necessário antes de tudo instalar a biblioteca medmnist\n",
    "\n",
    "# Importações necessárias\n",
    "import sklearn\n",
    "import numpy as np\n",
    "import matplotlib as mpl\n",
    "from matplotlib import pyplot as plt\n",
    "import matplotlib.image as mpimg\n",
    "import os \n",
    "from tqdm import tqdm\n",
    "import medmnist\n",
    "from medmnist import INFO, Evaluator\n",
    "from sklearn.linear_model import LogisticRegression\n",
    "from sklearn.neighbors import KNeighborsClassifier\n",
    "from sklearn.model_selection import GridSearchCV\n",
    "from sklearn import metrics\n",
    "from sklearn.metrics import confusion_matrix\n",
    "\n",
    "# to make this notebook's output stable across runs\n",
    "np.random.seed(42) # indica onde escolha aleatória começa\n",
    "\n",
    "# to make pretty figures\n",
    "mpl.rc('axes', labelsize=14)\n",
    "mpl.rc('xtick', labelsize=12)\n",
    "mpl.rc('ytick', labelsize=12)\n",
    "\n",
    "# Where to save the figures\n",
    "PROJECT_ROOT_DIR = \".\"\n",
    "EFC = \"efc2\"\n",
    "IMAGES_PATH = os.path.join(PROJECT_ROOT_DIR, \"images\", EFC)\n",
    "os.makedirs(IMAGES_PATH, exist_ok=True)\n",
    "\n",
    "def save_fig(fig_id, tight_layout=True, fig_extension=\"svg\"):\n",
    "    path = os.path.join(IMAGES_PATH, fig_id + \".\" + fig_extension)\n",
    "    print(\"Saving figure\", fig_id)\n",
    "    if tight_layout:\n",
    "        plt.tight_layout()\n",
    "    plt.savefig(path, format=fig_extension)"
   ]
  },
  {
   "cell_type": "markdown",
   "id": "1e35a347",
   "metadata": {},
   "source": [
    "## Importação da base de dados Breastmnist"
   ]
  },
  {
   "cell_type": "code",
   "execution_count": 2,
   "id": "1bca6c44",
   "metadata": {},
   "outputs": [
    {
     "name": "stdout",
     "output_type": "stream",
     "text": [
      "MedMNIST v2.1.0 @ https://github.com/MedMNIST/MedMNIST/\n"
     ]
    }
   ],
   "source": [
    "print(f\"MedMNIST v{medmnist.__version__} @ {medmnist.HOMEPAGE}\")"
   ]
  },
  {
   "cell_type": "code",
   "execution_count": 3,
   "id": "8355ff61",
   "metadata": {},
   "outputs": [],
   "source": [
    "# Importando o dataset breastmnist\n",
    "data_flag = 'breastmnist'\n",
    "download = True\n",
    "\n",
    "info = INFO[data_flag]\n",
    "task = info['task']\n",
    "n_channels = info['n_channels']\n",
    "n_classes = len(info['label'])\n",
    "\n",
    "DataClass = getattr(medmnist, info['python_class'])"
   ]
  },
  {
   "cell_type": "code",
   "execution_count": 4,
   "id": "03b40acd",
   "metadata": {
    "scrolled": true
   },
   "outputs": [
    {
     "name": "stdout",
     "output_type": "stream",
     "text": [
      "Using downloaded and verified file: C:\\Users\\Luis\\.medmnist\\breastmnist.npz\n",
      "Using downloaded and verified file: C:\\Users\\Luis\\.medmnist\\breastmnist.npz\n",
      "Using downloaded and verified file: C:\\Users\\Luis\\.medmnist\\breastmnist.npz\n"
     ]
    }
   ],
   "source": [
    "# carregando os dados\n",
    "train_dataset = DataClass(split='train', download=download)\n",
    "val_dataset = DataClass(split='val', download=download)\n",
    "test_dataset = DataClass(split='test', download=download)"
   ]
  },
  {
   "cell_type": "markdown",
   "id": "43ee665a",
   "metadata": {},
   "source": [
    "- Informações sobre a base de dados _BreastMNIST_ "
   ]
  },
  {
   "cell_type": "code",
   "execution_count": 5,
   "id": "6e192220",
   "metadata": {
    "scrolled": false
   },
   "outputs": [
    {
     "data": {
      "text/plain": [
       "{'python_class': 'BreastMNIST',\n",
       " 'description': 'The BreastMNIST is based on a dataset of 780 breast ultrasound images. It is categorized into 3 classes: normal, benign, and malignant. As we use low-resolution images, we simplify the task into binary classification by combining normal and benign as positive and classifying them against malignant as negative. We split the source dataset with a ratio of 7:1:2 into training, validation and test set. The source images of 1×500×500 are resized into 1×28×28.',\n",
       " 'url': 'https://zenodo.org/record/6496656/files/breastmnist.npz?download=1',\n",
       " 'MD5': '750601b1f35ba3300ea97c75c52ff8f6',\n",
       " 'task': 'binary-class',\n",
       " 'label': {'0': 'malignant', '1': 'normal, benign'},\n",
       " 'n_channels': 1,\n",
       " 'n_samples': {'train': 546, 'val': 78, 'test': 156},\n",
       " 'license': 'CC BY 4.0'}"
      ]
     },
     "execution_count": 5,
     "metadata": {},
     "output_type": "execute_result"
    }
   ],
   "source": [
    "info"
   ]
  },
  {
   "cell_type": "code",
   "execution_count": 6,
   "id": "9e033bbf",
   "metadata": {},
   "outputs": [],
   "source": [
    "# Separando os labels por conjunto:\n",
    "train_labels = train_dataset.labels\n",
    "val_labels = val_dataset.labels\n",
    "test_labels = test_dataset.labels"
   ]
  },
  {
   "cell_type": "code",
   "execution_count": 7,
   "id": "21244387",
   "metadata": {},
   "outputs": [],
   "source": [
    "# Separando as imagens por conjunto:\n",
    "train_img = train_dataset.imgs\n",
    "val_img = val_dataset.imgs\n",
    "test_img = test_dataset.imgs"
   ]
  },
  {
   "cell_type": "code",
   "execution_count": 8,
   "id": "a2a20970",
   "metadata": {},
   "outputs": [
    {
     "name": "stdout",
     "output_type": "stream",
     "text": [
      "Rótulo: [1]\n",
      "Saving figure imagem_um\n"
     ]
    },
    {
     "data": {
      "image/png": "[encoded data removed]",
      "text/plain": [
       "<Figure size 640x480 with 1 Axes>"
      ]
     },
     "metadata": {},
     "output_type": "display_data"
    }
   ],
   "source": [
    "# Vizualização da primeira imagem do conjunto de treinamento\n",
    "print(f\"Rótulo: {train_labels[0]}\")\n",
    "plt.imshow(train_img[0],cmap=\"gray\")\n",
    "plt.axis(\"off\")\n",
    "save_fig('imagem_um')\n",
    "plt.show()"
   ]
  },
  {
   "cell_type": "code",
   "execution_count": 9,
   "id": "2fc8f325",
   "metadata": {},
   "outputs": [
    {
     "name": "stdout",
     "output_type": "stream",
     "text": [
      "Rótulo: [0]\n",
      "Saving figure imagem_quatro\n"
     ]
    },
    {
     "data": {
      "image/png": "[encoded data removed]",
      "text/plain": [
       "<Figure size 640x480 with 1 Axes>"
      ]
     },
     "metadata": {},
     "output_type": "display_data"
    }
   ],
   "source": [
    "# Vizualização da quarta imagem do conjunto de treinamento\n",
    "print(f\"Rótulo: {train_labels[4]}\")\n",
    "plt.imshow(train_img[4],cmap=\"gray\")\n",
    "plt.axis(\"off\")\n",
    "save_fig('imagem_quatro')\n",
    "plt.show()"
   ]
  },
  {
   "cell_type": "markdown",
   "id": "37fd02ab",
   "metadata": {},
   "source": [
    "## Análise do balanceamento das classes nos conjuntos disponíveis"
   ]
  },
  {
   "cell_type": "code",
   "execution_count": 10,
   "id": "dfa91475",
   "metadata": {},
   "outputs": [
    {
     "name": "stdout",
     "output_type": "stream",
     "text": [
      "No conjunto de treinamento há 147 classes negativas\n",
      "Porcentagem de classes negativas: 26.923076923076923 %\n",
      "No conjunto de treinamento há 399 classes positivas\n",
      "Porcentagem de classes positivas: 73.07692307692308 %\n"
     ]
    }
   ],
   "source": [
    "# Conjunto de treinamento\n",
    "num_negativas_t = (train_labels==0).sum()\n",
    "num_positivas_t = (train_labels==1).sum()\n",
    "p_negativas_t = num_negativas_t*100/len(train_labels)\n",
    "p_positivas_t = num_positivas_t*100/len(train_labels)\n",
    "print(\"No conjunto de treinamento há\",num_negativas_t, \"classes negativas\")\n",
    "print(\"Porcentagem de classes negativas:\",p_negativas_t,\"%\")\n",
    "print(\"No conjunto de treinamento há\",num_positivas_t, \"classes positivas\")\n",
    "print(\"Porcentagem de classes positivas:\",p_positivas_t,\"%\")"
   ]
  },
  {
   "cell_type": "code",
   "execution_count": 11,
   "id": "db81c768",
   "metadata": {},
   "outputs": [
    {
     "name": "stdout",
     "output_type": "stream",
     "text": [
      "No conjunto de validação há 21 classes negativas\n",
      "Porcentagem de classes negativas: 26.923076923076923 %\n",
      "No conjunto de validação há 57 classes positivas\n",
      "Porcentagem de classes positivas: 73.07692307692308 %\n"
     ]
    }
   ],
   "source": [
    "# Conjunto de validação\n",
    "num_negativas_v = (val_labels==0).sum()\n",
    "num_positivas_v = (val_labels==1).sum()\n",
    "p_negativas_v = num_negativas_v*100/len(val_labels)\n",
    "p_positivas_v = num_positivas_v*100/len(val_labels)\n",
    "print(\"No conjunto de validação há\",num_negativas_v, \"classes negativas\")\n",
    "print(\"Porcentagem de classes negativas:\",p_negativas_v,\"%\")\n",
    "print(\"No conjunto de validação há\",num_positivas_v, \"classes positivas\")\n",
    "print(\"Porcentagem de classes positivas:\",p_positivas_v,\"%\")"
   ]
  },
  {
   "cell_type": "code",
   "execution_count": 12,
   "id": "63367e18",
   "metadata": {},
   "outputs": [
    {
     "name": "stdout",
     "output_type": "stream",
     "text": [
      "No conjunto de teste há 42 classes negativas\n",
      "Porcentagem de classes negativas: 26.923076923076923 %\n",
      "No conjunto de teste há 114 classes positivas\n",
      "Porcentagem de classes positivas: 73.07692307692308 %\n"
     ]
    }
   ],
   "source": [
    "# Conjunto de teste\n",
    "num_negativas_tt = (test_labels==0).sum()\n",
    "num_positivas_tt = (test_labels==1).sum()\n",
    "p_negativas_tt = num_negativas_tt*100/len(test_labels)\n",
    "p_positivas_tt = num_positivas_tt*100/len(test_labels)\n",
    "print(\"No conjunto de teste há\",num_negativas_tt, \"classes negativas\")\n",
    "print(\"Porcentagem de classes negativas:\",p_negativas_tt,\"%\")\n",
    "print(\"No conjunto de teste há\",num_positivas_tt, \"classes positivas\")\n",
    "print(\"Porcentagem de classes positivas:\",p_positivas_tt,\"%\")"
   ]
  },
  {
   "cell_type": "markdown",
   "id": "2e9f9b4c",
   "metadata": {},
   "source": [
    "## Preparando os dados"
   ]
  },
  {
   "cell_type": "code",
   "execution_count": 15,
   "id": "4b56854f",
   "metadata": {},
   "outputs": [],
   "source": [
    "# Preparando os dados para a regressão logística\n",
    "# Foi transformando o array de matrizes em um único array de dimensão compatível com as labels\n",
    "# Após essas transformações, cada linha dos conjuntos se refere a uma label\n",
    "x_train = np.reshape(train_img,(len(train_labels),28*28))/255 # a divisão por 255 é para normalização dos dados das imagens (maior valor é 255)\n",
    "x_val = np.reshape(val_img,(len(val_labels),28*28))/255\n",
    "x_test = np.reshape(test_img,(len(test_labels),28*28))/255\n",
    "y_train = np.ravel(train_labels)\n",
    "y_val = np.ravel(val_labels)\n",
    "y_test = np.ravel(test_labels)\n",
    "# Criando o conjunto validação+treino para uso posterior\n",
    "x_tv=np.concatenate((x_train,x_val))\n",
    "y_tv=np.concatenate((y_train,y_val))"
   ]
  },
  {
   "cell_type": "markdown",
   "id": "d6b8aece",
   "metadata": {},
   "source": [
    "## Regressão Logística"
   ]
  },
  {
   "cell_type": "code",
   "execution_count": 16,
   "id": "88437630",
   "metadata": {},
   "outputs": [
    {
     "name": "stdout",
     "output_type": "stream",
     "text": [
      "[[0.05834878 0.94165122]\n",
      " [0.42038305 0.57961695]\n",
      " [0.32524313 0.67475687]\n",
      " [0.86714307 0.13285693]\n",
      " [0.46531428 0.53468572]\n",
      " [0.08908266 0.91091734]\n",
      " [0.07292876 0.92707124]\n",
      " [0.62444989 0.37555011]\n",
      " [0.0805747  0.9194253 ]\n",
      " [0.39020689 0.60979311]\n",
      " [0.28897765 0.71102235]\n",
      " [0.5200695  0.4799305 ]\n",
      " [0.33419819 0.66580181]\n",
      " [0.17997913 0.82002087]\n",
      " [0.59009362 0.40990638]\n",
      " [0.07877743 0.92122257]\n",
      " [0.34523132 0.65476868]\n",
      " [0.04077406 0.95922594]\n",
      " [0.39277575 0.60722425]\n",
      " [0.05610199 0.94389801]\n",
      " [0.92876562 0.07123438]\n",
      " [0.30365479 0.69634521]\n",
      " [0.32681273 0.67318727]\n",
      " [0.15225564 0.84774436]\n",
      " [0.09881965 0.90118035]\n",
      " [0.04982112 0.95017888]\n",
      " [0.32653061 0.67346939]\n",
      " [0.54257104 0.45742896]\n",
      " [0.97462006 0.02537994]\n",
      " [0.11660727 0.88339273]\n",
      " [0.46559369 0.53440631]\n",
      " [0.38329095 0.61670905]\n",
      " [0.02075876 0.97924124]\n",
      " [0.96764783 0.03235217]\n",
      " [0.06409812 0.93590188]\n",
      " [0.45777249 0.54222751]\n",
      " [0.02415066 0.97584934]\n",
      " [0.28463232 0.71536768]\n",
      " [0.37825575 0.62174425]\n",
      " [0.30178233 0.69821767]\n",
      " [0.13244528 0.86755472]\n",
      " [0.692221   0.307779  ]\n",
      " [0.1397525  0.8602475 ]\n",
      " [0.07194621 0.92805379]\n",
      " [0.67057109 0.32942891]\n",
      " [0.3244337  0.6755663 ]\n",
      " [0.07944612 0.92055388]\n",
      " [0.91566845 0.08433155]\n",
      " [0.32186365 0.67813635]\n",
      " [0.68406067 0.31593933]\n",
      " [0.08705202 0.91294798]\n",
      " [0.08200873 0.91799127]\n",
      " [0.25801942 0.74198058]\n",
      " [0.21863664 0.78136336]\n",
      " [0.23319775 0.76680225]\n",
      " [0.3751782  0.6248218 ]\n",
      " [0.89039231 0.10960769]\n",
      " [0.02363753 0.97636247]\n",
      " [0.08940893 0.91059107]\n",
      " [0.13956271 0.86043729]\n",
      " [0.02752417 0.97247583]\n",
      " [0.00417921 0.99582079]\n",
      " [0.11367113 0.88632887]\n",
      " [0.90136573 0.09863427]\n",
      " [0.37494509 0.62505491]\n",
      " [0.11679473 0.88320527]\n",
      " [0.97809557 0.02190443]\n",
      " [0.91422412 0.08577588]\n",
      " [0.34359702 0.65640298]\n",
      " [0.27349734 0.72650266]\n",
      " [0.14307398 0.85692602]\n",
      " [0.7015954  0.2984046 ]\n",
      " [0.08435142 0.91564858]\n",
      " [0.64427985 0.35572015]\n",
      " [0.89467424 0.10532576]\n",
      " [0.29346189 0.70653811]\n",
      " [0.67610775 0.32389225]\n",
      " [0.14880637 0.85119363]]\n",
      "(78, 2)\n",
      "0.8846153846153846\n",
      "0.8589743589743589\n",
      "0.7948717948717948\n"
     ]
    }
   ],
   "source": [
    "# Testando a Regressão Logística\n",
    "# Como o dataset é pequeno, foi escolhido o solver liblinear (conforme instruído na documentação)\n",
    "# Foi escolhido 3000 como o número máximo de iterações, penalidade do tipo l2 com fator de regularização C de 1\n",
    "lr = LogisticRegression(penalty='l2', C=1, class_weight='balanced', solver='liblinear', max_iter=3000)\n",
    "lr.fit(x_train, y_train)\n",
    "# Probabilidades estimadas\n",
    "y_proba = lr.predict_proba(x_val)\n",
    "# Acurácia média\n",
    "score_train= lr.score(x_train, y_train)\n",
    "score_val= lr.score(x_val, y_val)\n",
    "score_test= lr.score(x_test, y_test)\n",
    "print(y_proba)\n",
    "print(y_proba.shape)\n",
    "print(score_train)\n",
    "print(score_val)\n",
    "print(score_test)"
   ]
  },
  {
   "cell_type": "markdown",
   "id": "c6219f19",
   "metadata": {},
   "source": [
    "### Validação Cruzada"
   ]
  },
  {
   "cell_type": "code",
   "execution_count": 17,
   "id": "58c7a7dc",
   "metadata": {},
   "outputs": [
    {
     "name": "stdout",
     "output_type": "stream",
     "text": [
      "Fitting 5 folds for each of 36 candidates, totalling 180 fits\n"
     ]
    },
    {
     "data": {
      "text/plain": [
       "{'C': 10, 'class_weight': 'balanced', 'penalty': 'l2'}"
      ]
     },
     "execution_count": 17,
     "metadata": {},
     "output_type": "execute_result"
    }
   ],
   "source": [
    "# Validação Cruzada pelo GridSearchCV\n",
    "# Foram fixados, dentre os parâmetros da Regressão Logística, apenas o solver como liblinear e as iterações maximas como 3000\n",
    "# Tipo de regularização variando entre l1 e l2 ('none' não se aplica ao solver liblinear):\n",
    "penalty_vector = [\"l1\", \"l2\"]\n",
    "# Valores inversos da força da regularização (valores menores representam regularizações maiores):\n",
    "C_vector = [1000, 100, 10, 1, 1e-1, 1e-2, 1e-3, 1e-4, 1e-5]\n",
    "# Peso das classes variando entre balanceado e não balanceado:\n",
    "c_weight_vector = [\"balanced\", None]\n",
    "# dicionário dos parâmetros da regressão logística para a serem utilizados no GridSearchCV\n",
    "dict_grid={'penalty':penalty_vector,'C':C_vector,'class_weight': c_weight_vector}\n",
    "logreg = LogisticRegression(solver='liblinear', max_iter=3000)\n",
    "# Foi escolhida a validação cruzada padrão do GridSearchCV que é kfold para 5 folds, será aplicada no conjunto treino+validação\n",
    "# A escolha dos parâmetros visa a maximização da área sob a curva ROC (\"scoring = 'roc_auc'\")\n",
    "# O parâmetro verbose printa mensagens \n",
    "CV = GridSearchCV(estimator=logreg, param_grid=dict_grid, cv=5, verbose=1, scoring='roc_auc')\n",
    "CV_fit=CV.fit(x_tv,y_tv)\n",
    "# Melhores parâmetros\n",
    "CV_fit.best_params_"
   ]
  },
  {
   "cell_type": "code",
   "execution_count": 20,
   "id": "b3cf6b88",
   "metadata": {},
   "outputs": [
    {
     "name": "stdout",
     "output_type": "stream",
     "text": [
      "[[0.01136475 0.98863525]\n",
      " [0.22987542 0.77012458]\n",
      " [0.01853221 0.98146779]\n",
      " ...\n",
      " [0.13548607 0.86451393]\n",
      " [0.2680245  0.7319755 ]\n",
      " [0.0932111  0.9067889 ]]\n",
      "(624, 2)\n",
      "[[6.21669072e-01 3.78330928e-01]\n",
      " [3.42180647e-01 6.57819353e-01]\n",
      " [1.61926387e-01 8.38073613e-01]\n",
      " [1.10715859e-01 8.89284141e-01]\n",
      " [1.35183763e-01 8.64816237e-01]\n",
      " [1.04265781e-01 8.95734219e-01]\n",
      " [9.80907651e-01 1.90923488e-02]\n",
      " [2.23043695e-01 7.76956305e-01]\n",
      " [3.76821805e-03 9.96231782e-01]\n",
      " [1.77839811e-02 9.82216019e-01]\n",
      " [9.39426578e-01 6.05734222e-02]\n",
      " [2.22426411e-02 9.77757359e-01]\n",
      " [2.05585492e-01 7.94414508e-01]\n",
      " [6.01552981e-01 3.98447019e-01]\n",
      " [2.47285168e-01 7.52714832e-01]\n",
      " [3.67764744e-02 9.63223526e-01]\n",
      " [3.35332901e-01 6.64667099e-01]\n",
      " [3.48589382e-05 9.99965141e-01]\n",
      " [1.83884561e-03 9.98161154e-01]\n",
      " [4.67404683e-01 5.32595317e-01]\n",
      " [8.53569053e-01 1.46430947e-01]\n",
      " [1.57860476e-03 9.98421395e-01]\n",
      " [9.21463621e-01 7.85363788e-02]\n",
      " [5.56706788e-01 4.43293212e-01]\n",
      " [9.84939840e-01 1.50601603e-02]\n",
      " [4.02942011e-01 5.97057989e-01]\n",
      " [9.70335409e-01 2.96645908e-02]\n",
      " [1.79458228e-01 8.20541772e-01]\n",
      " [3.15582472e-01 6.84417528e-01]\n",
      " [1.03843394e-05 9.99989616e-01]\n",
      " [2.67437961e-01 7.32562039e-01]\n",
      " [3.79421585e-02 9.62057842e-01]\n",
      " [1.61786563e-03 9.98382134e-01]\n",
      " [1.74557541e-01 8.25442459e-01]\n",
      " [2.57872961e-02 9.74212704e-01]\n",
      " [1.76715614e-01 8.23284386e-01]\n",
      " [2.20744191e-02 9.77925581e-01]\n",
      " [6.56425549e-05 9.99934357e-01]\n",
      " [7.30867384e-01 2.69132616e-01]\n",
      " [8.16606795e-03 9.91833932e-01]\n",
      " [6.21414479e-01 3.78585521e-01]\n",
      " [2.11343589e-01 7.88656411e-01]\n",
      " [2.15342338e-01 7.84657662e-01]\n",
      " [1.03773144e-02 9.89622686e-01]\n",
      " [5.19312262e-01 4.80687738e-01]\n",
      " [8.67874891e-01 1.32125109e-01]\n",
      " [6.49065819e-05 9.99935093e-01]\n",
      " [6.59256490e-02 9.34074351e-01]\n",
      " [7.81875640e-01 2.18124360e-01]\n",
      " [4.11212031e-02 9.58878797e-01]\n",
      " [1.84732843e-02 9.81526716e-01]\n",
      " [8.74619240e-03 9.91253808e-01]\n",
      " [8.33828015e-01 1.66171985e-01]\n",
      " [1.02488181e-01 8.97511819e-01]\n",
      " [2.17011224e-03 9.97829888e-01]\n",
      " [5.16907408e-01 4.83092592e-01]\n",
      " [5.94569983e-02 9.40543002e-01]\n",
      " [4.88385928e-01 5.11614072e-01]\n",
      " [9.52700291e-01 4.72997094e-02]\n",
      " [2.76138171e-01 7.23861829e-01]\n",
      " [8.73688123e-01 1.26311877e-01]\n",
      " [6.19497282e-03 9.93805027e-01]\n",
      " [8.09193145e-02 9.19080686e-01]\n",
      " [7.43601002e-01 2.56398998e-01]\n",
      " [7.91500528e-02 9.20849947e-01]\n",
      " [1.12434391e-01 8.87565609e-01]\n",
      " [3.18157963e-01 6.81842037e-01]\n",
      " [3.72859428e-01 6.27140572e-01]\n",
      " [5.21127088e-01 4.78872912e-01]\n",
      " [1.64280707e-01 8.35719293e-01]\n",
      " [8.57225868e-03 9.91427741e-01]\n",
      " [2.67090104e-03 9.97329099e-01]\n",
      " [6.99827845e-03 9.93001722e-01]\n",
      " [1.24940131e-01 8.75059869e-01]\n",
      " [9.85121774e-01 1.48782264e-02]\n",
      " [4.12788869e-01 5.87211131e-01]\n",
      " [9.06009652e-01 9.39903483e-02]\n",
      " [7.66729479e-01 2.33270521e-01]\n",
      " [1.88542472e-01 8.11457528e-01]\n",
      " [2.78623258e-02 9.72137674e-01]\n",
      " [3.05776662e-06 9.99996942e-01]\n",
      " [1.03982807e-01 8.96017193e-01]\n",
      " [1.70327864e-01 8.29672136e-01]\n",
      " [9.79014941e-01 2.09850593e-02]\n",
      " [5.99363569e-01 4.00636431e-01]\n",
      " [8.85076985e-02 9.11492301e-01]\n",
      " [6.13161101e-01 3.86838899e-01]\n",
      " [7.32843780e-01 2.67156220e-01]\n",
      " [2.24048699e-01 7.75951301e-01]\n",
      " [8.77552969e-02 9.12244703e-01]\n",
      " [3.66589117e-03 9.96334109e-01]\n",
      " [5.70869600e-01 4.29130400e-01]\n",
      " [3.15838495e-02 9.68416150e-01]\n",
      " [1.50133028e-01 8.49866972e-01]\n",
      " [4.37766665e-04 9.99562233e-01]\n",
      " [2.70814010e-01 7.29185990e-01]\n",
      " [3.50475190e-03 9.96495248e-01]\n",
      " [1.69215398e-02 9.83078460e-01]\n",
      " [3.82006892e-03 9.96179931e-01]\n",
      " [6.97262103e-02 9.30273790e-01]\n",
      " [9.15776305e-02 9.08422370e-01]\n",
      " [5.44843405e-02 9.45515660e-01]\n",
      " [8.51795164e-02 9.14820484e-01]\n",
      " [2.12386832e-02 9.78761317e-01]\n",
      " [9.17098094e-01 8.29019059e-02]\n",
      " [5.23421547e-01 4.76578453e-01]\n",
      " [9.95489034e-01 4.51096589e-03]\n",
      " [9.35319294e-01 6.46807061e-02]\n",
      " [2.53817511e-01 7.46182489e-01]\n",
      " [3.46812422e-02 9.65318758e-01]\n",
      " [8.64073431e-01 1.35926569e-01]\n",
      " [5.75199117e-03 9.94248009e-01]\n",
      " [6.11007111e-01 3.88992889e-01]\n",
      " [1.26334452e-03 9.98736655e-01]\n",
      " [9.60633496e-01 3.93665042e-02]\n",
      " [2.58469968e-02 9.74153003e-01]\n",
      " [6.80769663e-01 3.19230337e-01]\n",
      " [9.99880138e-01 1.19862354e-04]\n",
      " [6.09127870e-02 9.39087213e-01]\n",
      " [1.06459491e-01 8.93540509e-01]\n",
      " [7.88906383e-02 9.21109362e-01]\n",
      " [6.07640272e-02 9.39235973e-01]\n",
      " [5.51631532e-02 9.44836847e-01]\n",
      " [9.54166599e-01 4.58334014e-02]\n",
      " [7.53600773e-03 9.92463992e-01]\n",
      " [1.57629486e-03 9.98423705e-01]\n",
      " [8.04350804e-01 1.95649196e-01]\n",
      " [5.84688468e-01 4.15311532e-01]\n",
      " [6.79325519e-01 3.20674481e-01]\n",
      " [1.02441307e-01 8.97558693e-01]\n",
      " [8.73925900e-05 9.99912607e-01]\n",
      " [4.02228385e-01 5.97771615e-01]\n",
      " [1.66478934e-01 8.33521066e-01]\n",
      " [1.82006971e-01 8.17993029e-01]\n",
      " [1.14314432e-02 9.88568557e-01]\n",
      " [8.61359744e-01 1.38640256e-01]\n",
      " [2.26151186e-03 9.97738488e-01]\n",
      " [4.16666063e-03 9.95833339e-01]\n",
      " [6.81874095e-01 3.18125905e-01]\n",
      " [6.44676907e-04 9.99355323e-01]\n",
      " [3.26422302e-03 9.96735777e-01]\n",
      " [4.58576944e-04 9.99541423e-01]\n",
      " [1.04628725e-01 8.95371275e-01]\n",
      " [9.54947368e-01 4.50526316e-02]\n",
      " [3.37551985e-01 6.62448015e-01]\n",
      " [3.09826583e-02 9.69017342e-01]\n",
      " [9.96234274e-01 3.76572578e-03]\n",
      " [3.54973542e-03 9.96450265e-01]\n",
      " [2.22905105e-03 9.97770949e-01]\n",
      " [5.19900490e-01 4.80099510e-01]\n",
      " [2.13589672e-01 7.86410328e-01]\n",
      " [4.73143641e-01 5.26856359e-01]\n",
      " [1.93182370e-01 8.06817630e-01]\n",
      " [6.46400202e-01 3.53599798e-01]\n",
      " [3.40072730e-02 9.65992727e-01]\n",
      " [3.24636244e-03 9.96753638e-01]]\n",
      "(156, 2)\n",
      "Acurácia no conjunto de treinamento + validação: 0.9791666666666666\n",
      "Acurácia no conjunto de teste: 0.8141025641025641\n"
     ]
    }
   ],
   "source": [
    "# Treinando com os parâmetros ótimos 'C': 10, 'class_weight': 'balanced', 'penalty': 'l2', solver liblinear (dataset pequeno)\n",
    "lr_opt = LogisticRegression(penalty='l2', C=10, class_weight='balanced', solver='liblinear', max_iter=3000)\n",
    "lr_opt.fit(x_tv, y_tv)\n",
    "# Probabilidades estimadas\n",
    "y_proba_train = lr_opt.predict_proba(x_tv)\n",
    "y_proba_test = lr_opt.predict_proba(x_test)\n",
    "# Acurácia média\n",
    "score_tv= lr_opt.score(x_tv, y_tv)\n",
    "score_test2= lr_opt.score(x_test, y_test)\n",
    "print(y_proba_train)\n",
    "print(y_proba_train.shape)\n",
    "print(y_proba_test)\n",
    "print(y_proba_test.shape)\n",
    "print(\"Acurácia no conjunto de treinamento + validação:\",score_tv)\n",
    "print(\"Acurácia no conjunto de teste:\",score_test2)"
   ]
  },
  {
   "cell_type": "code",
   "execution_count": 21,
   "id": "bf670b69",
   "metadata": {},
   "outputs": [],
   "source": [
    "# previsão para o conjunto de teste\n",
    "y_pred_test = lr_opt.predict(x_test)"
   ]
  },
  {
   "cell_type": "markdown",
   "id": "d7f1edbf",
   "metadata": {},
   "source": [
    "### Métricas de desempenho"
   ]
  },
  {
   "cell_type": "markdown",
   "id": "6823814e",
   "metadata": {},
   "source": [
    "- Matriz de Confusão"
   ]
  },
  {
   "cell_type": "code",
   "execution_count": 26,
   "id": "c6e23d09",
   "metadata": {},
   "outputs": [
    {
     "name": "stdout",
     "output_type": "stream",
     "text": [
      "Saving figure cm_lr\n"
     ]
    },
    {
     "data": {
      "image/png": "[encoded data removed]",
      "text/plain": [
       "<Figure size 640x480 with 2 Axes>"
      ]
     },
     "metadata": {},
     "output_type": "display_data"
    },
    {
     "name": "stdout",
     "output_type": "stream",
     "text": [
      "É possível perceber que a quantidade de verdadeiros negativos (câncer) é maior que a quantidade de falsos negativos.\n",
      "É possível perceber também que a quantidade de verdadeiros positivos (não câncer) é maior que a quantidade de falsos negativos.\n",
      "Portanto, há mais acertos do que erros nos dados de teste para o modelo escolhido.\n"
     ]
    }
   ],
   "source": [
    "cm=metrics.confusion_matrix(y_test, y_pred_test)\n",
    "cm_fig=metrics.ConfusionMatrixDisplay(confusion_matrix=cm,display_labels=lr_opt.classes_)\n",
    "cm_fig.plot()\n",
    "plt.title('Confusion matrix')\n",
    "save_fig('cm_lr')\n",
    "plt.show()\n",
    "print(\"É possível perceber que a quantidade de verdadeiros negativos (câncer) é maior que a quantidade de falsos negativos.\")\n",
    "print(\"É possível perceber também que a quantidade de verdadeiros positivos (não câncer) é maior que a quantidade de falsos negativos.\")\n",
    "print(\"Portanto, há mais acertos do que erros nos dados de teste para o modelo escolhido.\")"
   ]
  },
  {
   "cell_type": "markdown",
   "id": "3b62613a",
   "metadata": {},
   "source": [
    "- Acurácia"
   ]
  },
  {
   "cell_type": "code",
   "execution_count": 28,
   "id": "58f811ca",
   "metadata": {},
   "outputs": [
    {
     "name": "stdout",
     "output_type": "stream",
     "text": [
      "Acurácia = (n°verdadeiros positivos + n°verdadeiros negativos)/total\n",
      "O valor da acurácia é 0.8141025641025641\n",
      "Portanto, o classificador obteve boa taxa de acerto.\n"
     ]
    }
   ],
   "source": [
    "print(\"Acurácia = (n°verdadeiros positivos + n°verdadeiros negativos)/total\")\n",
    "accuracy = metrics.accuracy_score(y_test, y_pred_test)\n",
    "print(\"O valor da acurácia é\",accuracy)\n",
    "print(\"Portanto, o classificador obteve boa taxa de acerto.\")"
   ]
  },
  {
   "cell_type": "markdown",
   "id": "345ae7c9",
   "metadata": {},
   "source": [
    "- F1-Medida"
   ]
  },
  {
   "cell_type": "code",
   "execution_count": 30,
   "id": "29a7af26",
   "metadata": {},
   "outputs": [
    {
     "name": "stdout",
     "output_type": "stream",
     "text": [
      "precisao = (n°verdadeiros positivos)/(n°verdadeiros positivos + n°falsos positivos)\n",
      "recall = (n°verdadeiros positivos)/(n°verdadeiros positivos + n°falsos negativos)\n",
      "F1 = 2*(recall*precisao)/(recall + precisao)\n",
      "O valor da F1-Medida é 0.8699551569506726\n",
      "Portanto, o classificador obteve bons resultados tanto na precisão quanto no recall.\n"
     ]
    }
   ],
   "source": [
    "print(\"precisao = (n°verdadeiros positivos)/(n°verdadeiros positivos + n°falsos positivos)\")\n",
    "print(\"recall = (n°verdadeiros positivos)/(n°verdadeiros positivos + n°falsos negativos)\")\n",
    "print(\"F1 = 2*(recall*precisao)/(recall + precisao)\")\n",
    "F1 = metrics.f1_score(y_test, y_pred_test)\n",
    "print(\"O valor da F1-Medida é\",F1)\n",
    "print(\"Portanto, o classificador obteve bons resultados tanto na precisão quanto no recall.\")"
   ]
  },
  {
   "cell_type": "markdown",
   "id": "da466f5b",
   "metadata": {},
   "source": [
    "- Acurácia Balanceada"
   ]
  },
  {
   "cell_type": "code",
   "execution_count": 46,
   "id": "5e018446",
   "metadata": {},
   "outputs": [
    {
     "name": "stdout",
     "output_type": "stream",
     "text": [
      "especificidade = (n°verdadeiros negativos/(n°verdadeiros negativos + n°falsos positivos)\n",
      "sensibilidade = (n°verdadeiros positivos)/(n°verdadeiros positivos + n°falsos negativos)\n",
      "acurácia balanceada = (especificidade + sensibilidade)/2\n",
      "O valor da acurácia balanceada é 0.7825814536340852\n",
      "Portanto, os valores de Especificidade não foram tão bons quanto os valores de Recall, que foram muito bons.\n",
      "Ajustando o peso das classes no modelo, essa foi a acurácia balanceada ótima.\n"
     ]
    }
   ],
   "source": [
    "print(\"especificidade = (n°verdadeiros negativos/(n°verdadeiros negativos + n°falsos positivos)\")\n",
    "print(\"sensibilidade = (n°verdadeiros positivos)/(n°verdadeiros positivos + n°falsos negativos)\")\n",
    "print(\"acurácia balanceada = (especificidade + sensibilidade)/2\")\n",
    "a_b = metrics.balanced_accuracy_score(y_test, y_pred_test)\n",
    "print(\"O valor da acurácia balanceada é\",a_b)\n",
    "print(\"Portanto, os valores de Especificidade não foram tão bons quanto os valores de Recall, que foram muito bons.\")\n",
    "print(\"Ajustando o peso das classes no modelo, essa foi a acurácia balanceada ótima.\")"
   ]
  },
  {
   "cell_type": "markdown",
   "id": "4de1b57e",
   "metadata": {},
   "source": [
    "- Curva ROC"
   ]
  },
  {
   "cell_type": "code",
   "execution_count": 36,
   "id": "e4a08032",
   "metadata": {},
   "outputs": [
    {
     "name": "stderr",
     "output_type": "stream",
     "text": [
      "c:\\users\\luis\\appdata\\local\\programs\\python\\python38\\lib\\site-packages\\sklearn\\utils\\deprecation.py:87: FutureWarning: Function plot_roc_curve is deprecated; Function :func:`plot_roc_curve` is deprecated in 1.0 and will be removed in 1.2. Use one of the class methods: :meth:`sklearn.metrics.RocCurveDisplay.from_predictions` or :meth:`sklearn.metrics.RocCurveDisplay.from_estimator`.\n",
      "  warnings.warn(msg, category=FutureWarning)\n"
     ]
    },
    {
     "name": "stdout",
     "output_type": "stream",
     "text": [
      "Saving figure curva_ROC_lr\n"
     ]
    },
    {
     "data": {
      "image/png": "[encoded data removed]",
      "text/plain": [
       "<Figure size 640x480 with 1 Axes>"
      ]
     },
     "metadata": {},
     "output_type": "display_data"
    },
    {
     "name": "stdout",
     "output_type": "stream",
     "text": [
      "A curva ROC mostrou que o comportamento do modelo é bem melhor do que um classificador aleatório.\n",
      "Porém, devido à pequena quantidade de dados, houve uma certa distância da curva obtida para uma curva ideal.\n"
     ]
    }
   ],
   "source": [
    "sklearn.metrics.plot_roc_curve(lr_opt, x_test, y_test)\n",
    "plt.title('Receiving Operating Curve (ROC)')\n",
    "save_fig('curva_ROC_lr')\n",
    "plt.show()\n",
    "print(\"A curva ROC mostrou que o comportamento do modelo é bem melhor do que um classificador aleatório.\")\n",
    "print(\"Porém, devido à pequena quantidade de dados, houve uma certa distância da curva obtida para uma curva ideal.\")"
   ]
  },
  {
   "cell_type": "markdown",
   "id": "36e5743f",
   "metadata": {},
   "source": [
    "## Classificação por KNN"
   ]
  },
  {
   "cell_type": "markdown",
   "id": "e6c722d0",
   "metadata": {},
   "source": [
    "### Validação Cruzada"
   ]
  },
  {
   "cell_type": "code",
   "execution_count": 37,
   "id": "b86a7b17",
   "metadata": {},
   "outputs": [
    {
     "name": "stdout",
     "output_type": "stream",
     "text": [
      "Fitting 5 folds for each of 200 candidates, totalling 1000 fits\n"
     ]
    },
    {
     "data": {
      "text/plain": [
       "{'n_neighbors': 1, 'p': 2, 'weights': 'uniform'}"
      ]
     },
     "execution_count": 37,
     "metadata": {},
     "output_type": "execute_result"
    }
   ],
   "source": [
    "# Validação cruzada variando o número de vizinhos, os tipos de pesos e as métricas de distância\n",
    "# Número de vizinhos a serem testados (de 1 vizinho até 50 vizinhos):\n",
    "n_vector=np.arange(1,51)\n",
    "# tipos de pesos a serem testados\n",
    "weights_vector = [\"uniform\", \"distance\"]\n",
    "# Métricas de distância a serem testadas\n",
    "# p=1 usa a distância de Manhattan e p=2 usa a distância de Euclidiana, com metric=minkowski (padrão)\n",
    "p_vector = [1,2]\n",
    "# dicionário de parâmtros\n",
    "KNN_grid={'n_neighbors':n_vector,'weights':weights_vector,'p': p_vector}\n",
    "KNN= KNeighborsClassifier(metric='minkowski')\n",
    "# Validação cruzada pelo GridSearch com 5 folds\n",
    "# A escolha dos parâmetros visa a maximização da acurácia balanceada\n",
    "CV_KNN = GridSearchCV(estimator=KNN, param_grid=KNN_grid, cv=5, verbose=1, scoring=\"balanced_accuracy\")\n",
    "CV_KNN_fit=CV_KNN.fit(x_tv,y_tv)\n",
    "# Melhores parâmetros\n",
    "CV_KNN_fit.best_params_"
   ]
  },
  {
   "cell_type": "markdown",
   "id": "6598bb6e",
   "metadata": {},
   "source": [
    "Agora que os parâmetros ótimos (para maximização da acurácia balanceada) são conhecidos, vamos analisar o efeito da variação de k (número de vizinhos) no valor dessa métrica (acurácia balanceada).  "
   ]
  },
  {
   "cell_type": "code",
   "execution_count": 38,
   "id": "c3e5ec5e",
   "metadata": {},
   "outputs": [
    {
     "name": "stdout",
     "output_type": "stream",
     "text": [
      "Saving figure k_vs_ba\n"
     ]
    },
    {
     "data": {
      "image/png": "[encoded data removed]",
      "text/plain": [
       "<Figure size 640x480 with 1 Axes>"
      ]
     },
     "metadata": {},
     "output_type": "display_data"
    }
   ],
   "source": [
    "ba_k = []\n",
    "k_vector = np.arange(1,51)\n",
    "\n",
    "# Treinamento com diferentes valores de K e cálculo da acurácia balanceada para a classificação do conjunto de validação \n",
    "for k in k_vector:\n",
    "    KNN = KNeighborsClassifier(n_neighbors=k, weights = 'uniform', p=2, metric='minkowski') # define o modelo com o novo valor de k\n",
    "    KNN.fit(x_train, y_train) # realiza o treinamento (apenas com conjunto de treinamento)\n",
    "    y_pred_val = KNN.predict(x_val) # realiza classificação do conjunto de validação para o novo k\n",
    "    ba_k = np.append(ba_k, metrics.balanced_accuracy_score(y_val, y_pred_val)) # calcula acurácia balanceada para conjunto de validação com novo k\n",
    "                     \n",
    "plt.plot(k_vector,ba_k)\n",
    "plt.xlabel(\"$k$\", fontsize=18)\n",
    "plt.ylabel(\"Acurácia Balanceada\", rotation=90, fontsize=18)\n",
    "save_fig('k_vs_ba')\n",
    "plt.show()"
   ]
  },
  {
   "cell_type": "code",
   "execution_count": 39,
   "id": "27b439b6",
   "metadata": {},
   "outputs": [
    {
     "name": "stdout",
     "output_type": "stream",
     "text": [
      "1.0\n",
      "0.7692307692307693\n"
     ]
    }
   ],
   "source": [
    "# Treinando com os parâmetros ótimos 'n_neighbors': 1, 'p': 2, 'weights': 'uniform', metric=minkowski para os dados de validação e treinamento juntos\n",
    "KNN_opt = KNeighborsClassifier(n_neighbors=1, weights = 'uniform', p=2, metric='minkowski')\n",
    "KNN_opt.fit(x_tv, y_tv)\n",
    "# Acurácia média\n",
    "score_tv_knn= KNN_opt.score(x_tv, y_tv)\n",
    "score_test_knn= KNN_opt.score(x_test, y_test)\n",
    "print(score_tv_knn)\n",
    "print(score_test_knn)"
   ]
  },
  {
   "cell_type": "code",
   "execution_count": 40,
   "id": "a500224e",
   "metadata": {},
   "outputs": [],
   "source": [
    "# previsão para o conjunto de teste\n",
    "y_pred_test_knn = KNN_opt.predict(x_test)"
   ]
  },
  {
   "cell_type": "markdown",
   "id": "89c9a4eb",
   "metadata": {},
   "source": [
    "### Métricas de desempenho"
   ]
  },
  {
   "cell_type": "markdown",
   "id": "73bdde6d",
   "metadata": {},
   "source": [
    "- Matriz de confusão"
   ]
  },
  {
   "cell_type": "code",
   "execution_count": 42,
   "id": "69f50edc",
   "metadata": {},
   "outputs": [
    {
     "name": "stdout",
     "output_type": "stream",
     "text": [
      "Saving figure cm_knn\n"
     ]
    },
    {
     "data": {
      "image/png": "[encoded data removed]",
      "text/plain": [
       "<Figure size 640x480 with 2 Axes>"
      ]
     },
     "metadata": {},
     "output_type": "display_data"
    },
    {
     "name": "stdout",
     "output_type": "stream",
     "text": [
      "É possível perceber que a quantidade de verdadeiros negativos (câncer) é maior que a quantidade de falsos negativos.\n",
      "É possível perceber também que a quantidade de verdadeiros positivos (não câncer) é maior que a quantidade de falsos negativos.\n",
      "Portanto, há mais acertos do que erros nos dados de teste para o modelo escolhido.\n",
      "O KNN apresentou um desempenho ligeiramente inferior à regressão logística.\n"
     ]
    }
   ],
   "source": [
    "cm_knn=metrics.confusion_matrix(y_test, y_pred_test_knn)\n",
    "cm_fig_knn=metrics.ConfusionMatrixDisplay(confusion_matrix=cm_knn,display_labels=KNN_opt.classes_)\n",
    "cm_fig_knn.plot()\n",
    "plt.title('Confusion matrix (KNN)')\n",
    "save_fig('cm_knn')\n",
    "plt.show()\n",
    "print(\"É possível perceber que a quantidade de verdadeiros negativos (câncer) é maior que a quantidade de falsos negativos.\")\n",
    "print(\"É possível perceber também que a quantidade de verdadeiros positivos (não câncer) é maior que a quantidade de falsos negativos.\")\n",
    "print(\"Portanto, há mais acertos do que erros nos dados de teste para o modelo escolhido.\")\n",
    "print(\"O KNN apresentou um desempenho ligeiramente inferior à regressão logística.\")"
   ]
  },
  {
   "cell_type": "markdown",
   "id": "ec4e8790",
   "metadata": {},
   "source": [
    "- Acurácia"
   ]
  },
  {
   "cell_type": "code",
   "execution_count": 48,
   "id": "f05e0547",
   "metadata": {},
   "outputs": [
    {
     "name": "stdout",
     "output_type": "stream",
     "text": [
      "Acurácia = (n°verdadeiros positivos + n°verdadeiros negativos)/total\n",
      "O valor da acurácia é 0.7692307692307693\n",
      "Portanto, o classificador obteve boa taxa de acerto.\n",
      "O KNN apresentou uma Acurácia ligeiramente inferior à regressão logística.\n"
     ]
    }
   ],
   "source": [
    "print(\"Acurácia = (n°verdadeiros positivos + n°verdadeiros negativos)/total\")\n",
    "accuracy_knn = metrics.accuracy_score(y_test, y_pred_test_knn)\n",
    "print(\"O valor da acurácia é\",accuracy_knn)\n",
    "print(\"Portanto, o classificador obteve boa taxa de acerto.\")\n",
    "print(\"O KNN apresentou uma Acurácia ligeiramente inferior à regressão logística.\")"
   ]
  },
  {
   "cell_type": "markdown",
   "id": "a718f92b",
   "metadata": {},
   "source": [
    "- F1-Medida"
   ]
  },
  {
   "cell_type": "code",
   "execution_count": 49,
   "id": "cd65c579",
   "metadata": {},
   "outputs": [
    {
     "name": "stdout",
     "output_type": "stream",
     "text": [
      "precisao = (n°verdadeiros positivos)/(n°verdadeiros positivos + n°falsos positivos)\n",
      "recall = (n°verdadeiros positivos)/(n°verdadeiros positivos + n°falsos negativos)\n",
      "F1 = 2*(recall*precisao)/(recall + precisao)\n",
      "O valor da F1-Medida é 0.8378378378378377\n",
      "Portanto, o classificador obteve bons resultados tanto na precisão quanto no recall.\n",
      "O KNN apresentou uma F1-medida ligeiramente inferior à regressão logística.\n"
     ]
    }
   ],
   "source": [
    "print(\"precisao = (n°verdadeiros positivos)/(n°verdadeiros positivos + n°falsos positivos)\")\n",
    "print(\"recall = (n°verdadeiros positivos)/(n°verdadeiros positivos + n°falsos negativos)\")\n",
    "print(\"F1 = 2*(recall*precisao)/(recall + precisao)\")\n",
    "F1_knn = metrics.f1_score(y_test, y_pred_test_knn)\n",
    "print(\"O valor da F1-Medida é\",F1_knn)\n",
    "print(\"Portanto, o classificador obteve bons resultados tanto na precisão quanto no recall.\")\n",
    "print(\"O KNN apresentou uma F1-medida ligeiramente inferior à regressão logística.\")"
   ]
  },
  {
   "cell_type": "markdown",
   "id": "054902ca",
   "metadata": {},
   "source": [
    "- Acurácia balanceada"
   ]
  },
  {
   "cell_type": "code",
   "execution_count": 50,
   "id": "b45cc38e",
   "metadata": {},
   "outputs": [
    {
     "name": "stdout",
     "output_type": "stream",
     "text": [
      "especificidade = (n°verdadeiros negativos/(n°verdadeiros negativos + n°falsos positivos)\n",
      "sensibilidade = (n°verdadeiros positivos)/(n°verdadeiros positivos + n°falsos negativos)\n",
      "acurácia balanceada = (especificidade + sensibilidade)/2\n",
      "O valor da acurácia balanceada é 0.7293233082706767\n",
      "Valores de Especificidade não foram tão bons e valores de Recall foram muito bons.\n",
      "O KNN apresentou uma Acurácia Balanceada ligeiramente inferior à regressão logística.\n"
     ]
    }
   ],
   "source": [
    "print(\"especificidade = (n°verdadeiros negativos/(n°verdadeiros negativos + n°falsos positivos)\")\n",
    "print(\"sensibilidade = (n°verdadeiros positivos)/(n°verdadeiros positivos + n°falsos negativos)\")\n",
    "print(\"acurácia balanceada = (especificidade + sensibilidade)/2\")\n",
    "a_b_knn = metrics.balanced_accuracy_score(y_test, y_pred_test_knn)\n",
    "print(\"O valor da acurácia balanceada é\",a_b_knn)\n",
    "print(\"Valores de Especificidade não foram tão bons e valores de Recall foram muito bons.\")\n",
    "print(\"O KNN apresentou uma Acurácia Balanceada ligeiramente inferior à regressão logística.\")"
   ]
  }
 ],
 "metadata": {
  "kernelspec": {
   "display_name": "Python 3 (ipykernel)",
   "language": "python",
   "name": "python3"
  },
  "language_info": {
   "codemirror_mode": {
    "name": "ipython",
    "version": 3
   },
   "file_extension": ".py",
   "mimetype": "text/x-python",
   "name": "python",
   "nbconvert_exporter": "python",
   "pygments_lexer": "ipython3",
   "version": "3.8.6"
  }
 },
 "nbformat": 4,
 "nbformat_minor": 5
}
