{
 "cells": [
  {
   "cell_type": "markdown",
   "id": "acf1e2f6",
   "metadata": {},
   "source": [
    "# IA048A - EFC 02: Classificação\n",
    "\n",
    "### Luís Antônio Almeida Lima Vieira (221045)  &  Nathan Shen Baldon (242448)"
   ]
  },
  {
   "cell_type": "code",
   "execution_count": 1,
   "id": "38dc2f8e",
   "metadata": {},
   "outputs": [],
   "source": [
    "# É necessário antes de tudo instalar a biblioteca medmnist\n",
    "\n",
    "# Importações necessárias\n",
    "import sklearn\n",
    "import numpy as np\n",
    "import matplotlib as mpl\n",
    "from matplotlib import pyplot as plt\n",
    "import matplotlib.image as mpimg\n",
    "import os \n",
    "from tqdm import tqdm\n",
    "import medmnist\n",
    "from medmnist import INFO, Evaluator\n",
    "from sklearn.linear_model import LogisticRegression\n",
    "from sklearn.neighbors import KNeighborsClassifier\n",
    "from sklearn.model_selection import GridSearchCV\n",
    "from sklearn import metrics\n",
    "from sklearn.metrics import confusion_matrix\n",
    "\n",
    "# to make this notebook's output stable across runs\n",
    "np.random.seed(42) # indica onde escolha aleatória começa\n",
    "\n",
    "# to make pretty figures\n",
    "mpl.rc('axes', labelsize=14)\n",
    "mpl.rc('xtick', labelsize=12)\n",
    "mpl.rc('ytick', labelsize=12)\n",
    "\n",
    "# Where to save the figures\n",
    "PROJECT_ROOT_DIR = \".\"\n",
    "EFC = \"efc2\"\n",
    "IMAGES_PATH = os.path.join(PROJECT_ROOT_DIR, \"images\", EFC)\n",
    "os.makedirs(IMAGES_PATH, exist_ok=True)\n",
    "\n",
    "def save_fig(fig_id, tight_layout=True, fig_extension=\"svg\"):\n",
    "    path = os.path.join(IMAGES_PATH, fig_id + \".\" + fig_extension)\n",
    "    print(\"Saving figure\", fig_id)\n",
    "    if tight_layout:\n",
    "        plt.tight_layout()\n",
    "    plt.savefig(path, format=fig_extension)"
   ]
  },
  {
   "cell_type": "markdown",
   "id": "1e35a347",
   "metadata": {},
   "source": [
    "## Importação da base de dados Breastmnist"
   ]
  },
  {
   "cell_type": "code",
   "execution_count": 2,
   "id": "1bca6c44",
   "metadata": {},
   "outputs": [
    {
     "name": "stdout",
     "output_type": "stream",
     "text": [
      "MedMNIST v2.1.0 @ https://github.com/MedMNIST/MedMNIST/\n"
     ]
    }
   ],
   "source": [
    "print(f\"MedMNIST v{medmnist.__version__} @ {medmnist.HOMEPAGE}\")"
   ]
  },
  {
   "cell_type": "code",
   "execution_count": 3,
   "id": "8355ff61",
   "metadata": {},
   "outputs": [],
   "source": [
    "# Importando o dataset breastmnist\n",
    "data_flag = 'breastmnist'\n",
    "download = True\n",
    "\n",
    "info = INFO[data_flag]\n",
    "task = info['task']\n",
    "n_channels = info['n_channels']\n",
    "n_classes = len(info['label'])\n",
    "\n",
    "DataClass = getattr(medmnist, info['python_class'])"
   ]
  },
  {
   "cell_type": "code",
   "execution_count": 4,
   "id": "03b40acd",
   "metadata": {
    "scrolled": true
   },
   "outputs": [
    {
     "name": "stdout",
     "output_type": "stream",
     "text": [
      "Using downloaded and verified file: C:\\Users\\nsbal\\.medmnist\\breastmnist.npz\n",
      "Using downloaded and verified file: C:\\Users\\nsbal\\.medmnist\\breastmnist.npz\n",
      "Using downloaded and verified file: C:\\Users\\nsbal\\.medmnist\\breastmnist.npz\n"
     ]
    }
   ],
   "source": [
    "# carregando os dados\n",
    "train_dataset = DataClass(split='train', download=download)\n",
    "val_dataset = DataClass(split='val', download=download)\n",
    "test_dataset = DataClass(split='test', download=download)"
   ]
  },
  {
   "cell_type": "markdown",
   "id": "43ee665a",
   "metadata": {},
   "source": [
    "- Informações sobre a base de dados _BreastMNIST_ "
   ]
  },
  {
   "cell_type": "code",
   "execution_count": 5,
   "id": "6e192220",
   "metadata": {
    "scrolled": false
   },
   "outputs": [
    {
     "data": {
      "text/plain": [
       "{'python_class': 'BreastMNIST',\n",
       " 'description': 'The BreastMNIST is based on a dataset of 780 breast ultrasound images. It is categorized into 3 classes: normal, benign, and malignant. As we use low-resolution images, we simplify the task into binary classification by combining normal and benign as positive and classifying them against malignant as negative. We split the source dataset with a ratio of 7:1:2 into training, validation and test set. The source images of 1×500×500 are resized into 1×28×28.',\n",
       " 'url': 'https://zenodo.org/record/6496656/files/breastmnist.npz?download=1',\n",
       " 'MD5': '750601b1f35ba3300ea97c75c52ff8f6',\n",
       " 'task': 'binary-class',\n",
       " 'label': {'0': 'malignant', '1': 'normal, benign'},\n",
       " 'n_channels': 1,\n",
       " 'n_samples': {'train': 546, 'val': 78, 'test': 156},\n",
       " 'license': 'CC BY 4.0'}"
      ]
     },
     "execution_count": 5,
     "metadata": {},
     "output_type": "execute_result"
    }
   ],
   "source": [
    "info"
   ]
  },
  {
   "cell_type": "code",
   "execution_count": 6,
   "id": "9e033bbf",
   "metadata": {},
   "outputs": [],
   "source": [
    "# Separando os labels por conjunto:\n",
    "train_labels = train_dataset.labels\n",
    "val_labels = val_dataset.labels\n",
    "test_labels = test_dataset.labels"
   ]
  },
  {
   "cell_type": "code",
   "execution_count": 7,
   "id": "21244387",
   "metadata": {},
   "outputs": [],
   "source": [
    "# Separando as imagens por conjunto:\n",
    "train_img = train_dataset.imgs\n",
    "val_img = val_dataset.imgs\n",
    "test_img = test_dataset.imgs"
   ]
  },
  {
   "cell_type": "code",
   "execution_count": 8,
   "id": "a2a20970",
   "metadata": {},
   "outputs": [
    {
     "name": "stdout",
     "output_type": "stream",
     "text": [
      "Rótulo: [1]\n",
      "Saving figure imagem_um\n"
     ]
    },
    {
     "data": {
      "image/png": "[encoded data removed]",
      "text/plain": [
       "<Figure size 432x288 with 1 Axes>"
      ]
     },
     "metadata": {
      "needs_background": "light"
     },
     "output_type": "display_data"
    }
   ],
   "source": [
    "# Vizualização da primeira imagem do conjunto de treinamento\n",
    "print(f\"Rótulo: {train_labels[0]}\")\n",
    "plt.imshow(train_img[0],cmap=\"gray\")\n",
    "plt.axis(\"off\")\n",
    "save_fig('imagem_um')\n",
    "plt.show()"
   ]
  },
  {
   "cell_type": "code",
   "execution_count": 9,
   "id": "2fc8f325",
   "metadata": {},
   "outputs": [
    {
     "name": "stdout",
     "output_type": "stream",
     "text": [
      "Rótulo: [0]\n",
      "Saving figure imagem_quatro\n"
     ]
    },
    {
     "data": {
      "image/png": "[encoded data removed]",
      "text/plain": [
       "<Figure size 432x288 with 1 Axes>"
      ]
     },
     "metadata": {
      "needs_background": "light"
     },
     "output_type": "display_data"
    }
   ],
   "source": [
    "# Vizualização da quarta imagem do conjunto de treinamento\n",
    "print(f\"Rótulo: {train_labels[4]}\")\n",
    "plt.imshow(train_img[4],cmap=\"gray\")\n",
    "plt.axis(\"off\")\n",
    "save_fig('imagem_quatro')\n",
    "plt.show()"
   ]
  },
  {
   "cell_type": "markdown",
   "id": "37fd02ab",
   "metadata": {},
   "source": [
    "## Análise do balanceamento das classes nos conjuntos disponíveis"
   ]
  },
  {
   "cell_type": "code",
   "execution_count": 10,
   "id": "dfa91475",
   "metadata": {},
   "outputs": [
    {
     "name": "stdout",
     "output_type": "stream",
     "text": [
      "No conjunto de treinamento há 147 classes negativas\n",
      "Porcentagem de classes negativas: 26.923076923076923 %\n",
      "No conjunto de treinamento há 399 classes positivas\n",
      "Porcentagem de classes positivas: 73.07692307692308 %\n"
     ]
    }
   ],
   "source": [
    "# Conjunto de treinamento\n",
    "num_negativas_t = (train_labels==0).sum()\n",
    "num_positivas_t = (train_labels==1).sum()\n",
    "p_negativas_t = num_negativas_t*100/len(train_labels)\n",
    "p_positivas_t = num_positivas_t*100/len(train_labels)\n",
    "print(\"No conjunto de treinamento há\",num_negativas_t, \"classes negativas\")\n",
    "print(\"Porcentagem de classes negativas:\",p_negativas_t,\"%\")\n",
    "print(\"No conjunto de treinamento há\",num_positivas_t, \"classes positivas\")\n",
    "print(\"Porcentagem de classes positivas:\",p_positivas_t,\"%\")"
   ]
  },
  {
   "cell_type": "code",
   "execution_count": 11,
   "id": "db81c768",
   "metadata": {},
   "outputs": [
    {
     "name": "stdout",
     "output_type": "stream",
     "text": [
      "No conjunto de validação há 21 classes negativas\n",
      "Porcentagem de classes negativas: 26.923076923076923 %\n",
      "No conjunto de validação há 57 classes positivas\n",
      "Porcentagem de classes positivas: 73.07692307692308 %\n"
     ]
    }
   ],
   "source": [
    "# Conjunto de validação\n",
    "num_negativas_v = (val_labels==0).sum()\n",
    "num_positivas_v = (val_labels==1).sum()\n",
    "p_negativas_v = num_negativas_v*100/len(val_labels)\n",
    "p_positivas_v = num_positivas_v*100/len(val_labels)\n",
    "print(\"No conjunto de validação há\",num_negativas_v, \"classes negativas\")\n",
    "print(\"Porcentagem de classes negativas:\",p_negativas_v,\"%\")\n",
    "print(\"No conjunto de validação há\",num_positivas_v, \"classes positivas\")\n",
    "print(\"Porcentagem de classes positivas:\",p_positivas_v,\"%\")"
   ]
  },
  {
   "cell_type": "code",
   "execution_count": 12,
   "id": "63367e18",
   "metadata": {},
   "outputs": [
    {
     "name": "stdout",
     "output_type": "stream",
     "text": [
      "No conjunto de teste há 42 classes negativas\n",
      "Porcentagem de classes negativas: 26.923076923076923 %\n",
      "No conjunto de teste há 114 classes positivas\n",
      "Porcentagem de classes positivas: 73.07692307692308 %\n"
     ]
    }
   ],
   "source": [
    "# Conjunto de teste\n",
    "num_negativas_tt = (test_labels==0).sum()\n",
    "num_positivas_tt = (test_labels==1).sum()\n",
    "p_negativas_tt = num_negativas_tt*100/len(test_labels)\n",
    "p_positivas_tt = num_positivas_tt*100/len(test_labels)\n",
    "print(\"No conjunto de teste há\",num_negativas_tt, \"classes negativas\")\n",
    "print(\"Porcentagem de classes negativas:\",p_negativas_tt,\"%\")\n",
    "print(\"No conjunto de teste há\",num_positivas_tt, \"classes positivas\")\n",
    "print(\"Porcentagem de classes positivas:\",p_positivas_tt,\"%\")"
   ]
  },
  {
   "cell_type": "markdown",
   "id": "2e9f9b4c",
   "metadata": {},
   "source": [
    "## Preparando os dados"
   ]
  },
  {
   "cell_type": "code",
   "execution_count": 13,
   "id": "4b56854f",
   "metadata": {},
   "outputs": [],
   "source": [
    "# Preparando os dados para a regressão logística\n",
    "# Foi transformando o array de matrizes em um único array de dimensão compatível com as labels\n",
    "# Após essas transformações, cada linha dos conjuntos se refere a uma label\n",
    "x_train = np.reshape(train_img,(len(train_labels),28*28))/255 # a divisão por 255 é para normalização dos dados das imagens (maior valor é 255)\n",
    "x_val = np.reshape(val_img,(len(val_labels),28*28))/255\n",
    "x_test = np.reshape(test_img,(len(test_labels),28*28))/255\n",
    "y_train = np.ravel(train_labels)\n",
    "y_val = np.ravel(val_labels)\n",
    "y_test = np.ravel(test_labels)\n",
    "# Criando o conjunto validação+treino para uso posterior\n",
    "x_tv=np.concatenate((x_train,x_val))\n",
    "y_tv=np.concatenate((y_train,y_val))"
   ]
  },
  {
   "cell_type": "markdown",
   "id": "d6b8aece",
   "metadata": {},
   "source": [
    "## Regressão Logística"
   ]
  },
  {
   "cell_type": "code",
   "execution_count": 14,
   "id": "88437630",
   "metadata": {},
   "outputs": [
    {
     "name": "stdout",
     "output_type": "stream",
     "text": [
      "[[0.05834877 0.94165123]\n",
      " [0.42038302 0.57961698]\n",
      " [0.32524308 0.67475692]\n",
      " [0.86714305 0.13285695]\n",
      " [0.46531423 0.53468577]\n",
      " [0.08908264 0.91091736]\n",
      " [0.07292875 0.92707125]\n",
      " [0.62444985 0.37555015]\n",
      " [0.08057469 0.91942531]\n",
      " [0.39020684 0.60979316]\n",
      " [0.28897761 0.71102239]\n",
      " [0.52006946 0.47993054]\n",
      " [0.33419816 0.66580184]\n",
      " [0.1799791  0.8200209 ]\n",
      " [0.59009357 0.40990643]\n",
      " [0.07877741 0.92122259]\n",
      " [0.3452313  0.6547687 ]\n",
      " [0.04077405 0.95922595]\n",
      " [0.39277573 0.60722427]\n",
      " [0.05610198 0.94389802]\n",
      " [0.9287656  0.0712344 ]\n",
      " [0.30365474 0.69634526]\n",
      " [0.32681269 0.67318731]\n",
      " [0.15225562 0.84774438]\n",
      " [0.09881963 0.90118037]\n",
      " [0.04982111 0.95017889]\n",
      " [0.32653058 0.67346942]\n",
      " [0.542571   0.457429  ]\n",
      " [0.97462005 0.02537995]\n",
      " [0.11660725 0.88339275]\n",
      " [0.46559366 0.53440634]\n",
      " [0.38329092 0.61670908]\n",
      " [0.02075876 0.97924124]\n",
      " [0.96764782 0.03235218]\n",
      " [0.06409811 0.93590189]\n",
      " [0.45777245 0.54222755]\n",
      " [0.02415065 0.97584935]\n",
      " [0.28463228 0.71536772]\n",
      " [0.3782557  0.6217443 ]\n",
      " [0.3017823  0.6982177 ]\n",
      " [0.13244525 0.86755475]\n",
      " [0.69222098 0.30777902]\n",
      " [0.13975249 0.86024751]\n",
      " [0.0719462  0.9280538 ]\n",
      " [0.67057104 0.32942896]\n",
      " [0.32443365 0.67556635]\n",
      " [0.0794461  0.9205539 ]\n",
      " [0.91566843 0.08433157]\n",
      " [0.32186362 0.67813638]\n",
      " [0.6840606  0.3159394 ]\n",
      " [0.08705201 0.91294799]\n",
      " [0.08200871 0.91799129]\n",
      " [0.25801936 0.74198064]\n",
      " [0.21863661 0.78136339]\n",
      " [0.23319771 0.76680229]\n",
      " [0.37517818 0.62482182]\n",
      " [0.89039228 0.10960772]\n",
      " [0.02363753 0.97636247]\n",
      " [0.08940891 0.91059109]\n",
      " [0.13956269 0.86043731]\n",
      " [0.02752417 0.97247583]\n",
      " [0.0041792  0.9958208 ]\n",
      " [0.11367111 0.88632889]\n",
      " [0.90136572 0.09863428]\n",
      " [0.37494503 0.62505497]\n",
      " [0.1167947  0.8832053 ]\n",
      " [0.97809556 0.02190444]\n",
      " [0.9142241  0.0857759 ]\n",
      " [0.34359699 0.65640301]\n",
      " [0.27349731 0.72650269]\n",
      " [0.14307395 0.85692605]\n",
      " [0.70159538 0.29840462]\n",
      " [0.0843514  0.9156486 ]\n",
      " [0.64427978 0.35572022]\n",
      " [0.89467422 0.10532578]\n",
      " [0.29346184 0.70653816]\n",
      " [0.6761077  0.3238923 ]\n",
      " [0.14880635 0.85119365]]\n",
      "(78, 2)\n",
      "0.8846153846153846\n",
      "0.8589743589743589\n",
      "0.7948717948717948\n"
     ]
    }
   ],
   "source": [
    "# Testando a Regressão Logística\n",
    "# Como o dataset é pequeno, foi escolhido o solver liblinear (conforme instruído na documentação)\n",
    "# Foi escolhido 3000 como o número máximo de iterações, penalidade do tipo l2 com fator de regularização C de 1\n",
    "lr = LogisticRegression(penalty='l2', C=1, class_weight='balanced', solver='liblinear', max_iter=3000)\n",
    "lr.fit(x_train, y_train)\n",
    "# Probabilidades estimadas\n",
    "y_proba = lr.predict_proba(x_val)\n",
    "# Acurácia média\n",
    "score_train= lr.score(x_train, y_train)\n",
    "score_val= lr.score(x_val, y_val)\n",
    "score_test= lr.score(x_test, y_test)\n",
    "print(y_proba)\n",
    "print(y_proba.shape)\n",
    "print(score_train)\n",
    "print(score_val)\n",
    "print(score_test)"
   ]
  },
  {
   "cell_type": "markdown",
   "id": "c6219f19",
   "metadata": {},
   "source": [
    "### Validação Cruzada"
   ]
  },
  {
   "cell_type": "code",
   "execution_count": 15,
   "id": "58c7a7dc",
   "metadata": {},
   "outputs": [
    {
     "name": "stdout",
     "output_type": "stream",
     "text": [
      "Fitting 5 folds for each of 36 candidates, totalling 180 fits\n"
     ]
    },
    {
     "data": {
      "text/plain": [
       "{'C': 10, 'class_weight': 'balanced', 'penalty': 'l2'}"
      ]
     },
     "execution_count": 15,
     "metadata": {},
     "output_type": "execute_result"
    }
   ],
   "source": [
    "# Validação Cruzada pelo GridSearchCV\n",
    "# Foram fixados, dentre os parâmetros da Regressão Logística, apenas o solver como liblinear e as iterações maximas como 3000\n",
    "# Tipo de regularização variando entre l1 e l2 ('none' não se aplica ao solver liblinear):\n",
    "penalty_vector = [\"l1\", \"l2\"]\n",
    "# Valores inversos da força da regularização (valores menores representam regularizações maiores):\n",
    "C_vector = [1000, 100, 10, 1, 1e-1, 1e-2, 1e-3, 1e-4, 1e-5]\n",
    "# Peso das classes variando entre balanceado e não balanceado:\n",
    "c_weight_vector = [\"balanced\", None]\n",
    "# dicionário dos parâmetros da regressão logística para a serem utilizados no GridSearchCV\n",
    "dict_grid={'penalty':penalty_vector,'C':C_vector,'class_weight': c_weight_vector}\n",
    "logreg = LogisticRegression(solver='liblinear', max_iter=3000)\n",
    "# Foi escolhida a validação cruzada padrão do GridSearchCV que é kfold para 5 folds, será aplicada no conjunto treino+validação\n",
    "# A escolha dos parâmetros visa a maximização da área sob a curva ROC (\"scoring = 'roc_auc'\")\n",
    "# O parâmetro verbose printa mensagens \n",
    "CV = GridSearchCV(estimator=logreg, param_grid=dict_grid, cv=5, verbose=1, scoring='roc_auc')\n",
    "CV_fit=CV.fit(x_tv,y_tv)\n",
    "# Melhores parâmetros\n",
    "CV_fit.best_params_"
   ]
  },
  {
   "cell_type": "code",
   "execution_count": 16,
   "id": "b3cf6b88",
   "metadata": {},
   "outputs": [
    {
     "name": "stdout",
     "output_type": "stream",
     "text": [
      "[[0.01137083 0.98862917]\n",
      " [0.22991352 0.77008648]\n",
      " [0.01854333 0.98145667]\n",
      " ...\n",
      " [0.13548356 0.86451644]\n",
      " [0.26811472 0.73188528]\n",
      " [0.09319167 0.90680833]]\n",
      "(624, 2)\n",
      "[[6.21644225e-01 3.78355775e-01]\n",
      " [3.42168612e-01 6.57831388e-01]\n",
      " [1.61893386e-01 8.38106614e-01]\n",
      " [1.10711992e-01 8.89288008e-01]\n",
      " [1.35147426e-01 8.64852574e-01]\n",
      " [1.04271495e-01 8.95728505e-01]\n",
      " [9.80909954e-01 1.90900460e-02]\n",
      " [2.23119097e-01 7.76880903e-01]\n",
      " [3.77130528e-03 9.96228695e-01]\n",
      " [1.78004171e-02 9.82199583e-01]\n",
      " [9.39422855e-01 6.05771448e-02]\n",
      " [2.22448939e-02 9.77755106e-01]\n",
      " [2.05550457e-01 7.94449543e-01]\n",
      " [6.01589272e-01 3.98410728e-01]\n",
      " [2.47169120e-01 7.52830880e-01]\n",
      " [3.67924113e-02 9.63207589e-01]\n",
      " [3.35330022e-01 6.64669978e-01]\n",
      " [3.48754353e-05 9.99965125e-01]\n",
      " [1.84005869e-03 9.98159941e-01]\n",
      " [4.67420212e-01 5.32579788e-01]\n",
      " [8.53573661e-01 1.46426339e-01]\n",
      " [1.58004356e-03 9.98419956e-01]\n",
      " [9.21513658e-01 7.84863422e-02]\n",
      " [5.56690353e-01 4.43309647e-01]\n",
      " [9.84936282e-01 1.50637175e-02]\n",
      " [4.03016704e-01 5.96983296e-01]\n",
      " [9.70336455e-01 2.96635453e-02]\n",
      " [1.79431529e-01 8.20568471e-01]\n",
      " [3.15504436e-01 6.84495564e-01]\n",
      " [1.03913372e-05 9.99989609e-01]\n",
      " [2.67477648e-01 7.32522352e-01]\n",
      " [3.79390162e-02 9.62060984e-01]\n",
      " [1.61852628e-03 9.98381474e-01]\n",
      " [1.74561630e-01 8.25438370e-01]\n",
      " [2.57887714e-02 9.74211229e-01]\n",
      " [1.76693307e-01 8.23306693e-01]\n",
      " [2.20847949e-02 9.77915205e-01]\n",
      " [6.56818015e-05 9.99934318e-01]\n",
      " [7.30834976e-01 2.69165024e-01]\n",
      " [8.16475257e-03 9.91835247e-01]\n",
      " [6.21335184e-01 3.78664816e-01]\n",
      " [2.11321587e-01 7.88678413e-01]\n",
      " [2.15339626e-01 7.84660374e-01]\n",
      " [1.03775531e-02 9.89622447e-01]\n",
      " [5.19274463e-01 4.80725537e-01]\n",
      " [8.67860461e-01 1.32139539e-01]\n",
      " [6.49367612e-05 9.99935063e-01]\n",
      " [6.59148390e-02 9.34085161e-01]\n",
      " [7.81968590e-01 2.18031410e-01]\n",
      " [4.11078360e-02 9.58892164e-01]\n",
      " [1.84749706e-02 9.81525029e-01]\n",
      " [8.74404934e-03 9.91255951e-01]\n",
      " [8.33795201e-01 1.66204799e-01]\n",
      " [1.02525793e-01 8.97474207e-01]\n",
      " [2.17112729e-03 9.97828873e-01]\n",
      " [5.16867154e-01 4.83132846e-01]\n",
      " [5.94629826e-02 9.40537017e-01]\n",
      " [4.88367679e-01 5.11632321e-01]\n",
      " [9.52697691e-01 4.73023091e-02]\n",
      " [2.76107021e-01 7.23892979e-01]\n",
      " [8.73672101e-01 1.26327899e-01]\n",
      " [6.19679005e-03 9.93803210e-01]\n",
      " [8.09574482e-02 9.19042552e-01]\n",
      " [7.43583065e-01 2.56416935e-01]\n",
      " [7.91190959e-02 9.20880904e-01]\n",
      " [1.12423358e-01 8.87576642e-01]\n",
      " [3.18277925e-01 6.81722075e-01]\n",
      " [3.72909981e-01 6.27090019e-01]\n",
      " [5.21095674e-01 4.78904326e-01]\n",
      " [1.64304790e-01 8.35695210e-01]\n",
      " [8.57980865e-03 9.91420191e-01]\n",
      " [2.67215292e-03 9.97327847e-01]\n",
      " [6.99946128e-03 9.93000539e-01]\n",
      " [1.24910795e-01 8.75089205e-01]\n",
      " [9.85112853e-01 1.48871471e-02]\n",
      " [4.12737979e-01 5.87262021e-01]\n",
      " [9.06003540e-01 9.39964602e-02]\n",
      " [7.66725956e-01 2.33274044e-01]\n",
      " [1.88488945e-01 8.11511055e-01]\n",
      " [2.78586837e-02 9.72141316e-01]\n",
      " [3.06055729e-06 9.99996939e-01]\n",
      " [1.04018709e-01 8.95981291e-01]\n",
      " [1.70400631e-01 8.29599369e-01]\n",
      " [9.79023374e-01 2.09766264e-02]\n",
      " [5.99383976e-01 4.00616024e-01]\n",
      " [8.85184591e-02 9.11481541e-01]\n",
      " [6.13120343e-01 3.86879657e-01]\n",
      " [7.32834681e-01 2.67165319e-01]\n",
      " [2.24013425e-01 7.75986575e-01]\n",
      " [8.77433782e-02 9.12256622e-01]\n",
      " [3.66619961e-03 9.96333800e-01]\n",
      " [5.70780533e-01 4.29219467e-01]\n",
      " [3.15837318e-02 9.68416268e-01]\n",
      " [1.50124919e-01 8.49875081e-01]\n",
      " [4.38037028e-04 9.99561963e-01]\n",
      " [2.70840501e-01 7.29159499e-01]\n",
      " [3.50718329e-03 9.96492817e-01]\n",
      " [1.69267372e-02 9.83073263e-01]\n",
      " [3.82025588e-03 9.96179744e-01]\n",
      " [6.97880224e-02 9.30211978e-01]\n",
      " [9.15907497e-02 9.08409250e-01]\n",
      " [5.45143860e-02 9.45485614e-01]\n",
      " [8.51978497e-02 9.14802150e-01]\n",
      " [2.12425195e-02 9.78757481e-01]\n",
      " [9.17103963e-01 8.28960372e-02]\n",
      " [5.23354981e-01 4.76645019e-01]\n",
      " [9.95488688e-01 4.51131224e-03]\n",
      " [9.35313181e-01 6.46868191e-02]\n",
      " [2.53718179e-01 7.46281821e-01]\n",
      " [3.46937866e-02 9.65306213e-01]\n",
      " [8.64065267e-01 1.35934733e-01]\n",
      " [5.75531746e-03 9.94244683e-01]\n",
      " [6.11015618e-01 3.88984382e-01]\n",
      " [1.26460551e-03 9.98735394e-01]\n",
      " [9.60631461e-01 3.93685389e-02]\n",
      " [2.58433593e-02 9.74156641e-01]\n",
      " [6.80725581e-01 3.19274419e-01]\n",
      " [9.99880200e-01 1.19799504e-04]\n",
      " [6.08882532e-02 9.39111747e-01]\n",
      " [1.06493667e-01 8.93506333e-01]\n",
      " [7.89107508e-02 9.21089249e-01]\n",
      " [6.07705998e-02 9.39229400e-01]\n",
      " [5.51455621e-02 9.44854438e-01]\n",
      " [9.54171558e-01 4.58284418e-02]\n",
      " [7.53685021e-03 9.92463150e-01]\n",
      " [1.57715471e-03 9.98422845e-01]\n",
      " [8.04476409e-01 1.95523591e-01]\n",
      " [5.84617611e-01 4.15382389e-01]\n",
      " [6.79334072e-01 3.20665928e-01]\n",
      " [1.02424834e-01 8.97575166e-01]\n",
      " [8.74823276e-05 9.99912518e-01]\n",
      " [4.02220824e-01 5.97779176e-01]\n",
      " [1.66434873e-01 8.33565127e-01]\n",
      " [1.81976083e-01 8.18023917e-01]\n",
      " [1.14346372e-02 9.88565363e-01]\n",
      " [8.61344342e-01 1.38655658e-01]\n",
      " [2.26337744e-03 9.97736623e-01]\n",
      " [4.16733793e-03 9.95832662e-01]\n",
      " [6.81901762e-01 3.18098238e-01]\n",
      " [6.45452432e-04 9.99354548e-01]\n",
      " [3.26384384e-03 9.96736156e-01]\n",
      " [4.58791579e-04 9.99541208e-01]\n",
      " [1.04660554e-01 8.95339446e-01]\n",
      " [9.54934084e-01 4.50659158e-02]\n",
      " [3.37567697e-01 6.62432303e-01]\n",
      " [3.09960008e-02 9.69003999e-01]\n",
      " [9.96233497e-01 3.76650310e-03]\n",
      " [3.54912028e-03 9.96450880e-01]\n",
      " [2.23011196e-03 9.97769888e-01]\n",
      " [5.19830713e-01 4.80169287e-01]\n",
      " [2.13545726e-01 7.86454274e-01]\n",
      " [4.73229455e-01 5.26770545e-01]\n",
      " [1.93242454e-01 8.06757546e-01]\n",
      " [6.46391800e-01 3.53608200e-01]\n",
      " [3.40272097e-02 9.65972790e-01]\n",
      " [3.24864058e-03 9.96751359e-01]]\n",
      "(156, 2)\n",
      "Acurácia no conjunto de treinamento + validação: 0.9791666666666666\n",
      "Acurácia no conjunto de teste: 0.8141025641025641\n"
     ]
    }
   ],
   "source": [
    "# Treinando com os parâmetros ótimos 'C': 10, 'class_weight': 'balanced', 'penalty': 'l2', solver liblinear (dataset pequeno)\n",
    "lr_opt = LogisticRegression(penalty='l2', C=10, class_weight='balanced', solver='liblinear', max_iter=3000)\n",
    "lr_opt.fit(x_tv, y_tv)\n",
    "# Probabilidades estimadas\n",
    "y_proba_train = lr_opt.predict_proba(x_tv)\n",
    "y_proba_test = lr_opt.predict_proba(x_test)\n",
    "# Acurácia média\n",
    "score_tv= lr_opt.score(x_tv, y_tv)\n",
    "score_test2= lr_opt.score(x_test, y_test)\n",
    "print(y_proba_train)\n",
    "print(y_proba_train.shape)\n",
    "print(y_proba_test)\n",
    "print(y_proba_test.shape)\n",
    "print(\"Acurácia no conjunto de treinamento + validação:\",score_tv)\n",
    "print(\"Acurácia no conjunto de teste:\",score_test2)"
   ]
  },
  {
   "cell_type": "code",
   "execution_count": 17,
   "id": "bf670b69",
   "metadata": {},
   "outputs": [],
   "source": [
    "# previsão para o conjunto de teste\n",
    "y_pred_test = lr_opt.predict(x_test)"
   ]
  },
  {
   "cell_type": "markdown",
   "id": "d7f1edbf",
   "metadata": {},
   "source": [
    "### Métricas de desempenho"
   ]
  },
  {
   "cell_type": "markdown",
   "id": "6823814e",
   "metadata": {},
   "source": [
    "- Matriz de Confusão"
   ]
  },
  {
   "cell_type": "code",
   "execution_count": 18,
   "id": "c6e23d09",
   "metadata": {},
   "outputs": [
    {
     "name": "stdout",
     "output_type": "stream",
     "text": [
      "Saving figure cm_lr\n"
     ]
    },
    {
     "data": {
      "image/png": "[encoded data removed]",
      "text/plain": [
       "<Figure size 432x288 with 2 Axes>"
      ]
     },
     "metadata": {
      "needs_background": "light"
     },
     "output_type": "display_data"
    },
    {
     "name": "stdout",
     "output_type": "stream",
     "text": [
      "É possível perceber que a quantidade de verdadeiros negativos (câncer) é maior que a quantidade de falsos negativos.\n",
      "É possível perceber também que a quantidade de verdadeiros positivos (não câncer) é maior que a quantidade de falsos negativos.\n",
      "Portanto, há mais acertos do que erros nos dados de teste para o modelo escolhido.\n"
     ]
    }
   ],
   "source": [
    "cm=metrics.confusion_matrix(y_test, y_pred_test)\n",
    "cm_fig=metrics.ConfusionMatrixDisplay(confusion_matrix=cm,display_labels=lr_opt.classes_)\n",
    "cm_fig.plot()\n",
    "plt.title('Confusion matrix')\n",
    "save_fig('cm_lr')\n",
    "plt.show()\n",
    "print(\"É possível perceber que a quantidade de verdadeiros negativos (câncer) é maior que a quantidade de falsos negativos.\")\n",
    "print(\"É possível perceber também que a quantidade de verdadeiros positivos (não câncer) é maior que a quantidade de falsos negativos.\")\n",
    "print(\"Portanto, há mais acertos do que erros nos dados de teste para o modelo escolhido.\")"
   ]
  },
  {
   "cell_type": "markdown",
   "id": "3b62613a",
   "metadata": {},
   "source": [
    "- Acurácia"
   ]
  },
  {
   "cell_type": "code",
   "execution_count": 19,
   "id": "58f811ca",
   "metadata": {},
   "outputs": [
    {
     "name": "stdout",
     "output_type": "stream",
     "text": [
      "Acurácia = (n°verdadeiros positivos + n°verdadeiros negativos)/total\n",
      "O valor da acurácia é 0.8141025641025641\n",
      "Portanto, o classificador obteve boa taxa de acerto.\n"
     ]
    }
   ],
   "source": [
    "print(\"Acurácia = (n°verdadeiros positivos + n°verdadeiros negativos)/total\")\n",
    "accuracy = metrics.accuracy_score(y_test, y_pred_test)\n",
    "print(\"O valor da acurácia é\",accuracy)\n",
    "print(\"Portanto, o classificador obteve boa taxa de acerto.\")"
   ]
  },
  {
   "cell_type": "markdown",
   "id": "345ae7c9",
   "metadata": {},
   "source": [
    "- F1-Medida"
   ]
  },
  {
   "cell_type": "code",
   "execution_count": 20,
   "id": "29a7af26",
   "metadata": {},
   "outputs": [
    {
     "name": "stdout",
     "output_type": "stream",
     "text": [
      "precisao = (n°verdadeiros positivos)/(n°verdadeiros positivos + n°falsos positivos)\n",
      "recall = (n°verdadeiros positivos)/(n°verdadeiros positivos + n°falsos negativos)\n",
      "F1 = 2*(recall*precisao)/(recall + precisao)\n",
      "O valor da F1-Medida é 0.8699551569506726\n",
      "Portanto, o classificador obteve bons resultados tanto na precisão quanto no recall.\n"
     ]
    }
   ],
   "source": [
    "print(\"precisao = (n°verdadeiros positivos)/(n°verdadeiros positivos + n°falsos positivos)\")\n",
    "print(\"recall = (n°verdadeiros positivos)/(n°verdadeiros positivos + n°falsos negativos)\")\n",
    "print(\"F1 = 2*(recall*precisao)/(recall + precisao)\")\n",
    "F1 = metrics.f1_score(y_test, y_pred_test)\n",
    "print(\"O valor da F1-Medida é\",F1)\n",
    "print(\"Portanto, o classificador obteve bons resultados tanto na precisão quanto no recall.\")"
   ]
  },
  {
   "cell_type": "markdown",
   "id": "da466f5b",
   "metadata": {},
   "source": [
    "- Acurácia Balanceada"
   ]
  },
  {
   "cell_type": "code",
   "execution_count": 21,
   "id": "5e018446",
   "metadata": {},
   "outputs": [
    {
     "name": "stdout",
     "output_type": "stream",
     "text": [
      "especificidade = (n°verdadeiros negativos/(n°verdadeiros negativos + n°falsos positivos)\n",
      "sensibilidade = (n°verdadeiros positivos)/(n°verdadeiros positivos + n°falsos negativos)\n",
      "acurácia balanceada = (especificidade + sensibilidade)/2\n",
      "O valor da acurácia balanceada é 0.7825814536340852\n",
      "Portanto, os valores de Especificidade não foram tão bons quanto os valores de Recall, que foram muito bons.\n",
      "Ajustando o peso das classes no modelo, essa foi a acurácia balanceada ótima.\n"
     ]
    }
   ],
   "source": [
    "print(\"especificidade = (n°verdadeiros negativos/(n°verdadeiros negativos + n°falsos positivos)\")\n",
    "print(\"sensibilidade = (n°verdadeiros positivos)/(n°verdadeiros positivos + n°falsos negativos)\")\n",
    "print(\"acurácia balanceada = (especificidade + sensibilidade)/2\")\n",
    "a_b = metrics.balanced_accuracy_score(y_test, y_pred_test)\n",
    "print(\"O valor da acurácia balanceada é\",a_b)\n",
    "print(\"Portanto, os valores de Especificidade não foram tão bons quanto os valores de Recall, que foram muito bons.\")\n",
    "print(\"Ajustando o peso das classes no modelo, essa foi a acurácia balanceada ótima.\")"
   ]
  },
  {
   "cell_type": "markdown",
   "id": "4de1b57e",
   "metadata": {},
   "source": [
    "- Curva ROC"
   ]
  },
  {
   "cell_type": "code",
   "execution_count": 22,
   "id": "e4a08032",
   "metadata": {},
   "outputs": [
    {
     "name": "stdout",
     "output_type": "stream",
     "text": [
      "Saving figure curva_ROC_lr\n"
     ]
    },
    {
     "data": {
      "image/png": "[encoded data removed]",
      "text/plain": [
       "<Figure size 432x288 with 1 Axes>"
      ]
     },
     "metadata": {
      "needs_background": "light"
     },
     "output_type": "display_data"
    },
    {
     "name": "stdout",
     "output_type": "stream",
     "text": [
      "A curva ROC mostrou que o comportamento do modelo é bem melhor do que um classificador aleatório.\n",
      "Porém, devido à pequena quantidade de dados, houve uma certa distância da curva obtida para uma curva ideal.\n"
     ]
    }
   ],
   "source": [
    "sklearn.metrics.plot_roc_curve(lr_opt, x_test, y_test)\n",
    "plt.title('Receiving Operating Curve (ROC)')\n",
    "save_fig('curva_ROC_lr')\n",
    "plt.show()\n",
    "print(\"A curva ROC mostrou que o comportamento do modelo é bem melhor do que um classificador aleatório.\")\n",
    "print(\"Porém, devido à pequena quantidade de dados, houve uma certa distância da curva obtida para uma curva ideal.\")"
   ]
  },
  {
   "cell_type": "markdown",
   "id": "36e5743f",
   "metadata": {},
   "source": [
    "## Classificação por KNN"
   ]
  },
  {
   "cell_type": "markdown",
   "id": "e6c722d0",
   "metadata": {},
   "source": [
    "### Validação Cruzada"
   ]
  },
  {
   "cell_type": "code",
   "execution_count": 23,
   "id": "b86a7b17",
   "metadata": {},
   "outputs": [
    {
     "name": "stdout",
     "output_type": "stream",
     "text": [
      "Fitting 5 folds for each of 200 candidates, totalling 1000 fits\n"
     ]
    },
    {
     "data": {
      "text/plain": [
       "{'n_neighbors': 1, 'p': 2, 'weights': 'uniform'}"
      ]
     },
     "execution_count": 23,
     "metadata": {},
     "output_type": "execute_result"
    }
   ],
   "source": [
    "# Validação cruzada variando o número de vizinhos, os tipos de pesos e as métricas de distância\n",
    "# Número de vizinhos a serem testados (de 1 vizinho até 50 vizinhos):\n",
    "n_vector=np.arange(1,51)\n",
    "# tipos de pesos a serem testados\n",
    "weights_vector = [\"uniform\", \"distance\"]\n",
    "# Métricas de distância a serem testadas\n",
    "# p=1 usa a distância de Manhattan e p=2 usa a distância de Euclidiana, com metric=minkowski (padrão)\n",
    "p_vector = [1,2]\n",
    "# dicionário de parâmtros\n",
    "KNN_grid={'n_neighbors':n_vector,'weights':weights_vector,'p': p_vector}\n",
    "KNN= KNeighborsClassifier(metric='minkowski')\n",
    "# Validação cruzada pelo GridSearch com 5 folds\n",
    "# A escolha dos parâmetros visa a maximização da acurácia balanceada\n",
    "CV_KNN = GridSearchCV(estimator=KNN, param_grid=KNN_grid, cv=5, verbose=1, scoring=\"balanced_accuracy\")\n",
    "CV_KNN_fit=CV_KNN.fit(x_tv,y_tv)\n",
    "# Melhores parâmetros\n",
    "CV_KNN_fit.best_params_"
   ]
  },
  {
   "cell_type": "markdown",
   "id": "6598bb6e",
   "metadata": {},
   "source": [
    "Agora que os parâmetros ótimos (para maximização da acurácia balanceada) são conhecidos, vamos analisar o efeito da variação de k (número de vizinhos) no valor dessa métrica (acurácia balanceada).  "
   ]
  },
  {
   "cell_type": "code",
   "execution_count": 24,
   "id": "c3e5ec5e",
   "metadata": {},
   "outputs": [
    {
     "name": "stdout",
     "output_type": "stream",
     "text": [
      "Saving figure k_vs_ba\n"
     ]
    },
    {
     "data": {
      "image/png": "[encoded data removed]",
      "text/plain": [
       "<Figure size 432x288 with 1 Axes>"
      ]
     },
     "metadata": {
      "needs_background": "light"
     },
     "output_type": "display_data"
    }
   ],
   "source": [
    "ba_k = []\n",
    "k_vector = np.arange(1,51)\n",
    "\n",
    "# Treinamento com diferentes valores de K e cálculo da acurácia balanceada para a classificação do conjunto de validação \n",
    "for k in k_vector:\n",
    "    KNN = KNeighborsClassifier(n_neighbors=k, weights = 'uniform', p=2, metric='minkowski') # define o modelo com o novo valor de k\n",
    "    KNN.fit(x_train, y_train) # realiza o treinamento (apenas com conjunto de treinamento)\n",
    "    y_pred_val = KNN.predict(x_val) # realiza classificação do conjunto de validação para o novo k\n",
    "    ba_k = np.append(ba_k, metrics.balanced_accuracy_score(y_val, y_pred_val)) # calcula acurácia balanceada para conjunto de validação com novo k\n",
    "                     \n",
    "plt.plot(k_vector,ba_k)\n",
    "plt.xlabel(\"$k$\", fontsize=18)\n",
    "plt.ylabel(\"Acurácia Balanceada\", rotation=90, fontsize=18)\n",
    "save_fig('k_vs_ba')\n",
    "plt.show()"
   ]
  },
  {
   "cell_type": "code",
   "execution_count": 25,
   "id": "27b439b6",
   "metadata": {},
   "outputs": [
    {
     "name": "stdout",
     "output_type": "stream",
     "text": [
      "1.0\n",
      "0.7692307692307693\n"
     ]
    }
   ],
   "source": [
    "# Treinando com os parâmetros ótimos 'n_neighbors': 1, 'p': 2, 'weights': 'uniform', metric=minkowski para os dados de validação e treinamento juntos\n",
    "KNN_opt = KNeighborsClassifier(n_neighbors=1, weights = 'uniform', p=2, metric='minkowski')\n",
    "KNN_opt.fit(x_tv, y_tv)\n",
    "# Acurácia média\n",
    "score_tv_knn= KNN_opt.score(x_tv, y_tv)\n",
    "score_test_knn= KNN_opt.score(x_test, y_test)\n",
    "print(score_tv_knn)\n",
    "print(score_test_knn)"
   ]
  },
  {
   "cell_type": "code",
   "execution_count": 26,
   "id": "a500224e",
   "metadata": {},
   "outputs": [],
   "source": [
    "# previsão para o conjunto de teste\n",
    "y_pred_test_knn = KNN_opt.predict(x_test)"
   ]
  },
  {
   "cell_type": "markdown",
   "id": "89c9a4eb",
   "metadata": {},
   "source": [
    "### Métricas de desempenho"
   ]
  },
  {
   "cell_type": "markdown",
   "id": "73bdde6d",
   "metadata": {},
   "source": [
    "- Matriz de confusão"
   ]
  },
  {
   "cell_type": "code",
   "execution_count": 27,
   "id": "69f50edc",
   "metadata": {},
   "outputs": [
    {
     "name": "stdout",
     "output_type": "stream",
     "text": [
      "Saving figure cm_knn\n"
     ]
    },
    {
     "data": {
      "image/png": "[encoded data removed]",
      "text/plain": [
       "<Figure size 432x288 with 2 Axes>"
      ]
     },
     "metadata": {
      "needs_background": "light"
     },
     "output_type": "display_data"
    },
    {
     "name": "stdout",
     "output_type": "stream",
     "text": [
      "É possível perceber que a quantidade de verdadeiros negativos (câncer) é maior que a quantidade de falsos negativos.\n",
      "É possível perceber também que a quantidade de verdadeiros positivos (não câncer) é maior que a quantidade de falsos negativos.\n",
      "Portanto, há mais acertos do que erros nos dados de teste para o modelo escolhido.\n",
      "O KNN apresentou um desempenho ligeiramente inferior à regressão logística.\n"
     ]
    }
   ],
   "source": [
    "cm_knn=metrics.confusion_matrix(y_test, y_pred_test_knn)\n",
    "cm_fig_knn=metrics.ConfusionMatrixDisplay(confusion_matrix=cm_knn,display_labels=KNN_opt.classes_)\n",
    "cm_fig_knn.plot()\n",
    "plt.title('Confusion matrix (KNN)')\n",
    "save_fig('cm_knn')\n",
    "plt.show()\n",
    "print(\"É possível perceber que a quantidade de verdadeiros negativos (câncer) é maior que a quantidade de falsos negativos.\")\n",
    "print(\"É possível perceber também que a quantidade de verdadeiros positivos (não câncer) é maior que a quantidade de falsos negativos.\")\n",
    "print(\"Portanto, há mais acertos do que erros nos dados de teste para o modelo escolhido.\")\n",
    "print(\"O KNN apresentou um desempenho ligeiramente inferior à regressão logística.\")"
   ]
  },
  {
   "cell_type": "markdown",
   "id": "ec4e8790",
   "metadata": {},
   "source": [
    "- Acurácia"
   ]
  },
  {
   "cell_type": "code",
   "execution_count": 28,
   "id": "f05e0547",
   "metadata": {},
   "outputs": [
    {
     "name": "stdout",
     "output_type": "stream",
     "text": [
      "Acurácia = (n°verdadeiros positivos + n°verdadeiros negativos)/total\n",
      "O valor da acurácia é 0.7692307692307693\n",
      "Portanto, o classificador obteve boa taxa de acerto.\n",
      "O KNN apresentou uma Acurácia ligeiramente inferior à regressão logística.\n"
     ]
    }
   ],
   "source": [
    "print(\"Acurácia = (n°verdadeiros positivos + n°verdadeiros negativos)/total\")\n",
    "accuracy_knn = metrics.accuracy_score(y_test, y_pred_test_knn)\n",
    "print(\"O valor da acurácia é\",accuracy_knn)\n",
    "print(\"Portanto, o classificador obteve boa taxa de acerto.\")\n",
    "print(\"O KNN apresentou uma Acurácia ligeiramente inferior à regressão logística.\")"
   ]
  },
  {
   "cell_type": "markdown",
   "id": "a718f92b",
   "metadata": {},
   "source": [
    "- F1-Medida"
   ]
  },
  {
   "cell_type": "code",
   "execution_count": 29,
   "id": "cd65c579",
   "metadata": {},
   "outputs": [
    {
     "name": "stdout",
     "output_type": "stream",
     "text": [
      "precisao = (n°verdadeiros positivos)/(n°verdadeiros positivos + n°falsos positivos)\n",
      "recall = (n°verdadeiros positivos)/(n°verdadeiros positivos + n°falsos negativos)\n",
      "F1 = 2*(recall*precisao)/(recall + precisao)\n",
      "O valor da F1-Medida é 0.8378378378378377\n",
      "Portanto, o classificador obteve bons resultados tanto na precisão quanto no recall.\n",
      "O KNN apresentou uma F1-medida ligeiramente inferior à regressão logística.\n"
     ]
    }
   ],
   "source": [
    "print(\"precisao = (n°verdadeiros positivos)/(n°verdadeiros positivos + n°falsos positivos)\")\n",
    "print(\"recall = (n°verdadeiros positivos)/(n°verdadeiros positivos + n°falsos negativos)\")\n",
    "print(\"F1 = 2*(recall*precisao)/(recall + precisao)\")\n",
    "F1_knn = metrics.f1_score(y_test, y_pred_test_knn)\n",
    "print(\"O valor da F1-Medida é\",F1_knn)\n",
    "print(\"Portanto, o classificador obteve bons resultados tanto na precisão quanto no recall.\")\n",
    "print(\"O KNN apresentou uma F1-medida ligeiramente inferior à regressão logística.\")"
   ]
  },
  {
   "cell_type": "markdown",
   "id": "054902ca",
   "metadata": {},
   "source": [
    "- Acurácia balanceada"
   ]
  },
  {
   "cell_type": "code",
   "execution_count": 30,
   "id": "b45cc38e",
   "metadata": {},
   "outputs": [
    {
     "name": "stdout",
     "output_type": "stream",
     "text": [
      "especificidade = (n°verdadeiros negativos/(n°verdadeiros negativos + n°falsos positivos)\n",
      "sensibilidade = (n°verdadeiros positivos)/(n°verdadeiros positivos + n°falsos negativos)\n",
      "acurácia balanceada = (especificidade + sensibilidade)/2\n",
      "O valor da acurácia balanceada é 0.7293233082706767\n",
      "Valores de Especificidade não foram tão bons e valores de Recall foram muito bons.\n",
      "O KNN apresentou uma Acurácia Balanceada ligeiramente inferior à regressão logística.\n"
     ]
    }
   ],
   "source": [
    "print(\"especificidade = (n°verdadeiros negativos/(n°verdadeiros negativos + n°falsos positivos)\")\n",
    "print(\"sensibilidade = (n°verdadeiros positivos)/(n°verdadeiros positivos + n°falsos negativos)\")\n",
    "print(\"acurácia balanceada = (especificidade + sensibilidade)/2\")\n",
    "a_b_knn = metrics.balanced_accuracy_score(y_test, y_pred_test_knn)\n",
    "print(\"O valor da acurácia balanceada é\",a_b_knn)\n",
    "print(\"Valores de Especificidade não foram tão bons e valores de Recall foram muito bons.\")\n",
    "print(\"O KNN apresentou uma Acurácia Balanceada ligeiramente inferior à regressão logística.\")"
   ]
  }
 ],
 "metadata": {
  "kernelspec": {
   "display_name": "Python 3 (ipykernel)",
   "language": "python",
   "name": "python3"
  },
  "language_info": {
   "codemirror_mode": {
    "name": "ipython",
    "version": 3
   },
   "file_extension": ".py",
   "mimetype": "text/x-python",
   "name": "python",
   "nbconvert_exporter": "python",
   "pygments_lexer": "ipython3",
   "version": "3.9.7"
  }
 },
 "nbformat": 4,
 "nbformat_minor": 5
}
